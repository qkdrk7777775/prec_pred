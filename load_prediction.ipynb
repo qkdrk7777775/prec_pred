{
 "cells": [
  {
   "cell_type": "code",
   "execution_count": 10,
   "metadata": {
    "execution": {
     "iopub.execute_input": "2020-11-27T09:14:17.540194Z",
     "iopub.status.busy": "2020-11-27T09:14:17.539747Z",
     "iopub.status.idle": "2020-11-27T09:14:18.911701Z",
     "shell.execute_reply": "2020-11-27T09:14:18.911039Z",
     "shell.execute_reply.started": "2020-11-27T09:14:17.540158Z"
    }
   },
   "outputs": [],
   "source": [
    "import gc\n",
    "from pathlib import Path\n",
    "\n",
    "import cv2\n",
    "import numpy as np\n",
    "import pandas as pd\n",
    "import matplotlib.pyplot as plt\n",
    "from tqdm.notebook import tqdm\n",
    "from sklearn import model_selection\n",
    "\n",
    "import torch\n",
    "import torch.nn as nn\n",
    "import torch.nn.functional as F\n",
    "\n",
    "import pytorch_lightning as pl\n",
    "import tensorflow as tf\n",
    "from numpy import genfromtxt\n",
    "import datatable as dt\n",
    "import pandas as pd"
   ]
  },
  {
   "cell_type": "code",
   "execution_count": 3,
   "metadata": {
    "execution": {
     "iopub.execute_input": "2020-11-27T06:53:58.609344Z",
     "iopub.status.busy": "2020-11-27T06:53:58.609219Z",
     "iopub.status.idle": "2020-11-27T06:53:58.616485Z",
     "shell.execute_reply": "2020-11-27T06:53:58.615798Z",
     "shell.execute_reply.started": "2020-11-27T06:53:58.609328Z"
    }
   },
   "outputs": [],
   "source": [
    "inputDate='2019-01-03 01:00:00'"
   ]
  },
  {
   "cell_type": "code",
   "execution_count": 4,
   "metadata": {
    "execution": {
     "iopub.execute_input": "2020-11-27T06:53:58.617256Z",
     "iopub.status.busy": "2020-11-27T06:53:58.617118Z",
     "iopub.status.idle": "2020-11-27T06:54:07.610141Z",
     "shell.execute_reply": "2020-11-27T06:54:07.609034Z",
     "shell.execute_reply.started": "2020-11-27T06:53:58.617240Z"
    }
   },
   "outputs": [],
   "source": [
    "data=np.load(f'/hdd/pred_prec_temp/{inputDate}.npy')"
   ]
  },
  {
   "cell_type": "code",
   "execution_count": 5,
   "metadata": {
    "execution": {
     "iopub.execute_input": "2020-11-27T06:54:07.613427Z",
     "iopub.status.busy": "2020-11-27T06:54:07.613061Z",
     "iopub.status.idle": "2020-11-27T06:54:07.618678Z",
     "shell.execute_reply": "2020-11-27T06:54:07.617948Z",
     "shell.execute_reply.started": "2020-11-27T06:54:07.613382Z"
    }
   },
   "outputs": [
    {
     "data": {
      "text/plain": [
       "(1, 1159, 1505, 3)"
      ]
     },
     "execution_count": 5,
     "metadata": {},
     "output_type": "execute_result"
    }
   ],
   "source": [
    "data[24:].shape"
   ]
  },
  {
   "cell_type": "code",
   "execution_count": 6,
   "metadata": {
    "execution": {
     "iopub.execute_input": "2020-11-27T06:54:07.646233Z",
     "iopub.status.busy": "2020-11-27T06:54:07.646041Z",
     "iopub.status.idle": "2020-11-27T06:54:07.648985Z",
     "shell.execute_reply": "2020-11-27T06:54:07.648275Z",
     "shell.execute_reply.started": "2020-11-27T06:54:07.646212Z"
    }
   },
   "outputs": [],
   "source": [
    "# DateRange=pd.to_timedelta(1,unit='day')\n",
    "# generateDate=[str(i) for i in pd.date_range(start=pd.to_datetime(inputDate)-DateRange,end=inputDate , freq='H')]\n",
    "\n",
    "# for date_ in generateDate:\n",
    "#     print(date_)\n",
    "#     data_save(date_)"
   ]
  },
  {
   "cell_type": "code",
   "execution_count": 11,
   "metadata": {
    "execution": {
     "iopub.execute_input": "2020-11-27T09:14:19.424272Z",
     "iopub.status.busy": "2020-11-27T09:14:19.424146Z",
     "iopub.status.idle": "2020-11-27T09:14:19.427776Z",
     "shell.execute_reply": "2020-11-27T09:14:19.427341Z",
     "shell.execute_reply.started": "2020-11-27T09:14:19.424255Z"
    }
   },
   "outputs": [],
   "source": [
    "import gc\n",
    "from pathlib import Path\n",
    "\n",
    "import cv2\n",
    "import numpy as np\n",
    "import pandas as pd\n",
    "import matplotlib.pyplot as plt\n",
    "from tqdm.notebook import tqdm\n",
    "from sklearn import model_selection\n",
    "\n",
    "import torch\n",
    "import torch.nn as nn\n",
    "import torch.nn.functional as F\n",
    "\n",
    "import pytorch_lightning as pl"
   ]
  },
  {
   "cell_type": "code",
   "execution_count": 12,
   "metadata": {
    "execution": {
     "iopub.execute_input": "2020-11-27T09:14:19.541280Z",
     "iopub.status.busy": "2020-11-27T09:14:19.540885Z",
     "iopub.status.idle": "2020-11-27T09:14:19.545482Z",
     "shell.execute_reply": "2020-11-27T09:14:19.544625Z",
     "shell.execute_reply.started": "2020-11-27T09:14:19.541235Z"
    }
   },
   "outputs": [],
   "source": [
    "import os\n"
   ]
  },
  {
   "cell_type": "code",
   "execution_count": 19,
   "metadata": {
    "execution": {
     "iopub.execute_input": "2020-11-27T06:56:24.911663Z",
     "iopub.status.busy": "2020-11-27T06:56:24.911186Z",
     "iopub.status.idle": "2020-11-27T06:56:24.929094Z",
     "shell.execute_reply": "2020-11-27T06:56:24.928441Z",
     "shell.execute_reply.started": "2020-11-27T06:56:24.911605Z"
    }
   },
   "outputs": [
    {
     "ename": "TypeError",
     "evalue": "__init__() missing 1 required positional argument: 'value_index'",
     "output_type": "error",
     "traceback": [
      "\u001b[0;31m---------------------------------------------------------------------------\u001b[0m",
      "\u001b[0;31mTypeError\u001b[0m                                 Traceback (most recent call last)",
      "\u001b[0;32m<ipython-input-19-7707d9d03c00>\u001b[0m in \u001b[0;36m<module>\u001b[0;34m\u001b[0m\n\u001b[0;32m----> 1\u001b[0;31m \u001b[0mtf\u001b[0m\u001b[0;34m.\u001b[0m\u001b[0mTensor\u001b[0m\u001b[0;34m(\u001b[0m\u001b[0mnp\u001b[0m\u001b[0;34m.\u001b[0m\u001b[0mndarray\u001b[0m\u001b[0;34m(\u001b[0m\u001b[0;34m[\u001b[0m\u001b[0;36m1\u001b[0m\u001b[0;34m]\u001b[0m\u001b[0;34m)\u001b[0m\u001b[0;34m,\u001b[0m\u001b[0mdtype\u001b[0m\u001b[0;34m=\u001b[0m\u001b[0mtf\u001b[0m\u001b[0;34m.\u001b[0m\u001b[0mfloat32\u001b[0m\u001b[0;34m)\u001b[0m\u001b[0;34m\u001b[0m\u001b[0;34m\u001b[0m\u001b[0m\n\u001b[0m",
      "\u001b[0;31mTypeError\u001b[0m: __init__() missing 1 required positional argument: 'value_index'"
     ]
    }
   ],
   "source": [
    "tf.convert_to_tensor(np.ndarray([1]),dtype=tf.float32)"
   ]
  },
  {
   "cell_type": "code",
   "execution_count": 20,
   "metadata": {
    "execution": {
     "iopub.execute_input": "2020-11-27T06:56:31.890516Z",
     "iopub.status.busy": "2020-11-27T06:56:31.890105Z",
     "iopub.status.idle": "2020-11-27T06:56:31.903686Z",
     "shell.execute_reply": "2020-11-27T06:56:31.902665Z",
     "shell.execute_reply.started": "2020-11-27T06:56:31.890476Z"
    }
   },
   "outputs": [],
   "source": [
    "class Dataset(torch.utils.data.Dataset):\n",
    "    def __init__(self, paths, test=False):\n",
    "        self.paths = paths\n",
    "        self.test = test\n",
    "\n",
    "    def __len__(self):\n",
    "        return len(self.paths)\n",
    "\n",
    "    def __getitem__(self, idx):\n",
    "        path = self.paths[idx]\n",
    "        data = np.load(path)\n",
    "        #torch.Size([24, 1159, 1505, 3])\n",
    "        x = data[:24,:300,:300,:]\n",
    "        #         x = x / 255.0\n",
    "        x = x.astype(np.float32)\n",
    "        x = torch.tensor(x, dtype=torch.float32)\n",
    "        if self.test:\n",
    "            return x\n",
    "        else:\n",
    "            y = data[24:,:300,:300,:]\n",
    "            #             y = y / 255.0\n",
    "            y = y.astype(np.float32)\n",
    "            y = torch.tensor(y, dtype=torch.float32)\n",
    "            return x, y"
   ]
  },
  {
   "cell_type": "code",
   "execution_count": 21,
   "metadata": {
    "collapsed": true,
    "execution": {
     "iopub.execute_input": "2020-11-27T06:56:32.890796Z",
     "iopub.status.busy": "2020-11-27T06:56:32.890426Z",
     "iopub.status.idle": "2020-11-27T06:56:32.904146Z",
     "shell.execute_reply": "2020-11-27T06:56:32.903081Z",
     "shell.execute_reply.started": "2020-11-27T06:56:32.890756Z"
    },
    "jupyter": {
     "outputs_hidden": true,
     "source_hidden": true
    }
   },
   "outputs": [
    {
     "data": {
      "text/plain": [
       "['2019-01-01 00:00:00.npy',\n",
       " '2019-01-01 01:00:00.npy',\n",
       " '2019-01-01 02:00:00.npy',\n",
       " '2019-01-01 03:00:00.npy',\n",
       " '2019-01-01 04:00:00.npy',\n",
       " '2019-01-01 05:00:00.npy',\n",
       " '2019-01-01 06:00:00.npy',\n",
       " '2019-01-01 07:00:00.npy',\n",
       " '2019-01-01 08:00:00.npy',\n",
       " '2019-01-01 09:00:00.npy',\n",
       " '2019-01-01 10:00:00.npy',\n",
       " '2019-01-01 11:00:00.npy',\n",
       " '2019-01-01 12:00:00.npy',\n",
       " '2019-01-01 13:00:00.npy',\n",
       " '2019-01-01 14:00:00.npy',\n",
       " '2019-01-01 15:00:00.npy',\n",
       " '2019-01-01 16:00:00.npy',\n",
       " '2019-01-01 17:00:00.npy',\n",
       " '2019-01-01 18:00:00.npy',\n",
       " '2019-01-01 19:00:00.npy',\n",
       " '2019-01-01 20:00:00.npy',\n",
       " '2019-01-01 21:00:00.npy',\n",
       " '2019-01-01 22:00:00.npy',\n",
       " '2019-01-01 23:00:00.npy',\n",
       " '2019-01-02 00:00:00.npy',\n",
       " '2019-01-03 00:00:00.npy',\n",
       " '2019-01-03 01:00:00.npy',\n",
       " '2019-01-03 02:00:00.npy',\n",
       " '2019-01-03 03:00:00.npy',\n",
       " '2019-01-03 04:00:00.npy',\n",
       " '2019-01-03 05:00:00.npy',\n",
       " '2019-01-03 06:00:00.npy',\n",
       " '2019-01-03 07:00:00.npy',\n",
       " '2019-01-03 08:00:00.npy',\n",
       " '2019-01-03 09:00:00.npy',\n",
       " '2019-01-03 10:00:00.npy',\n",
       " '2019-01-03 11:00:00.npy',\n",
       " '2019-01-03 12:00:00.npy',\n",
       " '2019-01-03 13:00:00.npy',\n",
       " '2019-01-03 14:00:00.npy',\n",
       " '2019-01-03 15:00:00.npy',\n",
       " '2019-01-03 16:00:00.npy',\n",
       " '2019-01-03 17:00:00.npy',\n",
       " '2019-01-03 18:00:00.npy',\n",
       " '2019-01-03 19:00:00.npy',\n",
       " '2019-01-03 20:00:00.npy',\n",
       " '2019-01-03 21:00:00.npy',\n",
       " '2019-01-03 22:00:00.npy',\n",
       " '2019-01-03 23:00:00.npy',\n",
       " '2019-01-04 00:00:00.npy',\n",
       " '2019-01-04 01:00:00.npy',\n",
       " '2019-01-04 02:00:00.npy',\n",
       " '2019-01-04 03:00:00.npy',\n",
       " '2019-01-04 04:00:00.npy',\n",
       " '2019-01-04 05:00:00.npy',\n",
       " '2019-01-04 06:00:00.npy',\n",
       " '2019-01-04 07:00:00.npy',\n",
       " '2019-01-04 08:00:00.npy',\n",
       " '2019-01-04 09:00:00.npy',\n",
       " '2019-01-04 10:00:00.npy',\n",
       " '2019-01-04 11:00:00.npy',\n",
       " '2019-01-04 12:00:00.npy',\n",
       " '2019-01-04 13:00:00.npy',\n",
       " '2019-01-04 14:00:00.npy',\n",
       " '2019-01-04 15:00:00.npy',\n",
       " '2019-01-04 16:00:00.npy',\n",
       " '2019-01-04 17:00:00.npy',\n",
       " '2019-01-04 18:00:00.npy',\n",
       " '2019-01-04 19:00:00.npy',\n",
       " '2019-01-04 20:00:00.npy',\n",
       " '2019-01-04 21:00:00.npy',\n",
       " '2019-01-04 22:00:00.npy',\n",
       " '2019-01-04 23:00:00.npy']"
      ]
     },
     "execution_count": 21,
     "metadata": {},
     "output_type": "execute_result"
    }
   ],
   "source": [
    "sorted(os.listdir('/hdd/pred_prec_temp'))[:-24]"
   ]
  },
  {
   "cell_type": "code",
   "execution_count": 22,
   "metadata": {
    "execution": {
     "iopub.execute_input": "2020-11-27T06:56:32.962245Z",
     "iopub.status.busy": "2020-11-27T06:56:32.961893Z",
     "iopub.status.idle": "2020-11-27T06:56:32.976956Z",
     "shell.execute_reply": "2020-11-27T06:56:32.976395Z",
     "shell.execute_reply.started": "2020-11-27T06:56:32.962208Z"
    }
   },
   "outputs": [],
   "source": [
    "class DataModule(pl.LightningDataModule):\n",
    "    def __init__(self, batch_size, test=False, num_workers=4):\n",
    "        super().__init__()\n",
    "        self.test = test\n",
    "        self.batch_size = batch_size\n",
    "        self.num_workers = 4\n",
    "\n",
    "    def setup(self, stage=\"train\"):\n",
    "        if stage == \"train\":\n",
    "            paths = [f'/hdd/pred_prec_temp/{i}' for i in sorted(os.listdir('/hdd/pred_prec_temp'))[:-24]]\n",
    "            train_paths, val_paths = model_selection.train_test_split(\n",
    "                paths, test_size=0.1, shuffle=True\n",
    "            )\n",
    "            self.train_dataset = Dataset(train_paths)\n",
    "            self.val_dataset = Dataset(val_paths)\n",
    "        else:\n",
    "            test_paths = [f'/hdd/pred_prec_temp/{i}' for i in sorted(os.listdir('/hdd/pred_prec_temp'))[-24:]]\n",
    "            self.test_dataset = Dataset(test_paths, test=True)\n",
    "\n",
    "    def train_dataloader(self):\n",
    "        return torch.utils.data.DataLoader(\n",
    "            self.train_dataset,\n",
    "            batch_size=self.batch_size,\n",
    "            shuffle=True,\n",
    "            pin_memory=True,\n",
    "            num_workers=self.num_workers,\n",
    "        )\n",
    "\n",
    "    def val_dataloader(self):\n",
    "        return torch.utils.data.DataLoader(\n",
    "            self.val_dataset,\n",
    "            batch_size=2 * self.batch_size,\n",
    "            pin_memory=True,\n",
    "            num_workers=self.num_workers,\n",
    "        )\n",
    "\n",
    "    def test_dataloader(self):\n",
    "        return torch.utils.data.DataLoader(\n",
    "            self.test_dataset,\n",
    "            batch_size=2 * self.batch_size,\n",
    "            pin_memory=True,\n",
    "            num_workers=self.num_workers,\n",
    "        )"
   ]
  },
  {
   "cell_type": "code",
   "execution_count": 23,
   "metadata": {
    "execution": {
     "iopub.execute_input": "2020-11-27T06:56:33.897280Z",
     "iopub.status.busy": "2020-11-27T06:56:33.896916Z",
     "iopub.status.idle": "2020-11-27T06:56:33.901393Z",
     "shell.execute_reply": "2020-11-27T06:56:33.900501Z",
     "shell.execute_reply.started": "2020-11-27T06:56:33.897241Z"
    }
   },
   "outputs": [],
   "source": [
    "# def visualize(x, y=None, test=False):\n",
    "#     cmap = plt.cm.get_cmap(\"RdBu\")\n",
    "#     cmap = cmap.reversed()\n",
    "#     if test:\n",
    "#         fig, axes = plt.subplots(1, 4, figsize=(10, 10))\n",
    "#         for i, ax in enumerate(axes):\n",
    "#             img = x[:, :, i]\n",
    "#             ax.imshow(img, cmap=cmap)\n",
    "#     else:\n",
    "#         fig, axes = plt.subplots(1, 5, figsize=(10, 10))\n",
    "#         for i, ax in enumerate(axes[:-1]):\n",
    "#             img = x[:, :, i]\n",
    "#             ax.imshow(img, cmap=cmap)\n",
    "#         axes[-1].imshow(y[:, :, 0], cmap=cmap)\n",
    "#     #     plt.tight_layout()\n",
    "#     plt.show()"
   ]
  },
  {
   "cell_type": "code",
   "execution_count": 24,
   "metadata": {
    "execution": {
     "iopub.execute_input": "2020-11-27T06:56:34.888236Z",
     "iopub.status.busy": "2020-11-27T06:56:34.887870Z",
     "iopub.status.idle": "2020-11-27T06:56:34.898939Z",
     "shell.execute_reply": "2020-11-27T06:56:34.898208Z",
     "shell.execute_reply.started": "2020-11-27T06:56:34.888197Z"
    }
   },
   "outputs": [],
   "source": [
    "datamodule = DataModule(batch_size=1)\n",
    "datamodule.setup()"
   ]
  },
  {
   "cell_type": "code",
   "execution_count": 25,
   "metadata": {
    "collapsed": true,
    "execution": {
     "iopub.execute_input": "2020-11-27T06:56:34.900181Z",
     "iopub.status.busy": "2020-11-27T06:56:34.899888Z",
     "iopub.status.idle": "2020-11-27T06:57:10.520924Z",
     "shell.execute_reply": "2020-11-27T06:57:10.519964Z",
     "shell.execute_reply.started": "2020-11-27T06:56:34.900160Z"
    },
    "jupyter": {
     "outputs_hidden": true
    }
   },
   "outputs": [
    {
     "ename": "TypeError",
     "evalue": "Caught TypeError in DataLoader worker process 0.\nOriginal Traceback (most recent call last):\n  File \"/root/anaconda3/envs/jupyter/lib/python3.6/site-packages/torch/utils/data/_utils/worker.py\", line 198, in _worker_loop\n    data = fetcher.fetch(index)\n  File \"/root/anaconda3/envs/jupyter/lib/python3.6/site-packages/torch/utils/data/_utils/fetch.py\", line 47, in fetch\n    return self.collate_fn(data)\n  File \"/root/anaconda3/envs/jupyter/lib/python3.6/site-packages/torch/utils/data/_utils/collate.py\", line 83, in default_collate\n    return [default_collate(samples) for samples in transposed]\n  File \"/root/anaconda3/envs/jupyter/lib/python3.6/site-packages/torch/utils/data/_utils/collate.py\", line 83, in <listcomp>\n    return [default_collate(samples) for samples in transposed]\n  File \"/root/anaconda3/envs/jupyter/lib/python3.6/site-packages/torch/utils/data/_utils/collate.py\", line 85, in default_collate\n    raise TypeError(default_collate_err_msg_format.format(elem_type))\nTypeError: default_collate: batch must contain tensors, numpy arrays, numbers, dicts or lists; found <class 'tensorflow.python.framework.ops.EagerTensor'>\n",
     "output_type": "error",
     "traceback": [
      "\u001b[0;31m---------------------------------------------------------------------------\u001b[0m",
      "\u001b[0;31mTypeError\u001b[0m                                 Traceback (most recent call last)",
      "\u001b[0;32m<ipython-input-25-5b071ce0c065>\u001b[0m in \u001b[0;36m<module>\u001b[0;34m\u001b[0m\n\u001b[0;32m----> 1\u001b[0;31m \u001b[0;32mfor\u001b[0m \u001b[0mbatch\u001b[0m \u001b[0;32min\u001b[0m \u001b[0mdatamodule\u001b[0m\u001b[0;34m.\u001b[0m\u001b[0mtrain_dataloader\u001b[0m\u001b[0;34m(\u001b[0m\u001b[0;34m)\u001b[0m\u001b[0;34m:\u001b[0m\u001b[0;34m\u001b[0m\u001b[0;34m\u001b[0m\u001b[0m\n\u001b[0m\u001b[1;32m      2\u001b[0m     \u001b[0;32mbreak\u001b[0m\u001b[0;34m\u001b[0m\u001b[0;34m\u001b[0m\u001b[0m\n",
      "\u001b[0;32m~/anaconda3/envs/jupyter/lib/python3.6/site-packages/torch/utils/data/dataloader.py\u001b[0m in \u001b[0;36m__next__\u001b[0;34m(self)\u001b[0m\n\u001b[1;32m    433\u001b[0m         \u001b[0;32mif\u001b[0m \u001b[0mself\u001b[0m\u001b[0;34m.\u001b[0m\u001b[0m_sampler_iter\u001b[0m \u001b[0;32mis\u001b[0m \u001b[0;32mNone\u001b[0m\u001b[0;34m:\u001b[0m\u001b[0;34m\u001b[0m\u001b[0;34m\u001b[0m\u001b[0m\n\u001b[1;32m    434\u001b[0m             \u001b[0mself\u001b[0m\u001b[0;34m.\u001b[0m\u001b[0m_reset\u001b[0m\u001b[0;34m(\u001b[0m\u001b[0;34m)\u001b[0m\u001b[0;34m\u001b[0m\u001b[0;34m\u001b[0m\u001b[0m\n\u001b[0;32m--> 435\u001b[0;31m         \u001b[0mdata\u001b[0m \u001b[0;34m=\u001b[0m \u001b[0mself\u001b[0m\u001b[0;34m.\u001b[0m\u001b[0m_next_data\u001b[0m\u001b[0;34m(\u001b[0m\u001b[0;34m)\u001b[0m\u001b[0;34m\u001b[0m\u001b[0;34m\u001b[0m\u001b[0m\n\u001b[0m\u001b[1;32m    436\u001b[0m         \u001b[0mself\u001b[0m\u001b[0;34m.\u001b[0m\u001b[0m_num_yielded\u001b[0m \u001b[0;34m+=\u001b[0m \u001b[0;36m1\u001b[0m\u001b[0;34m\u001b[0m\u001b[0;34m\u001b[0m\u001b[0m\n\u001b[1;32m    437\u001b[0m         \u001b[0;32mif\u001b[0m \u001b[0mself\u001b[0m\u001b[0;34m.\u001b[0m\u001b[0m_dataset_kind\u001b[0m \u001b[0;34m==\u001b[0m \u001b[0m_DatasetKind\u001b[0m\u001b[0;34m.\u001b[0m\u001b[0mIterable\u001b[0m \u001b[0;32mand\u001b[0m\u001b[0;31m \u001b[0m\u001b[0;31m\\\u001b[0m\u001b[0;34m\u001b[0m\u001b[0;34m\u001b[0m\u001b[0m\n",
      "\u001b[0;32m~/anaconda3/envs/jupyter/lib/python3.6/site-packages/torch/utils/data/dataloader.py\u001b[0m in \u001b[0;36m_next_data\u001b[0;34m(self)\u001b[0m\n\u001b[1;32m   1083\u001b[0m             \u001b[0;32melse\u001b[0m\u001b[0;34m:\u001b[0m\u001b[0;34m\u001b[0m\u001b[0;34m\u001b[0m\u001b[0m\n\u001b[1;32m   1084\u001b[0m                 \u001b[0;32mdel\u001b[0m \u001b[0mself\u001b[0m\u001b[0;34m.\u001b[0m\u001b[0m_task_info\u001b[0m\u001b[0;34m[\u001b[0m\u001b[0midx\u001b[0m\u001b[0;34m]\u001b[0m\u001b[0;34m\u001b[0m\u001b[0;34m\u001b[0m\u001b[0m\n\u001b[0;32m-> 1085\u001b[0;31m                 \u001b[0;32mreturn\u001b[0m \u001b[0mself\u001b[0m\u001b[0;34m.\u001b[0m\u001b[0m_process_data\u001b[0m\u001b[0;34m(\u001b[0m\u001b[0mdata\u001b[0m\u001b[0;34m)\u001b[0m\u001b[0;34m\u001b[0m\u001b[0;34m\u001b[0m\u001b[0m\n\u001b[0m\u001b[1;32m   1086\u001b[0m \u001b[0;34m\u001b[0m\u001b[0m\n\u001b[1;32m   1087\u001b[0m     \u001b[0;32mdef\u001b[0m \u001b[0m_try_put_index\u001b[0m\u001b[0;34m(\u001b[0m\u001b[0mself\u001b[0m\u001b[0;34m)\u001b[0m\u001b[0;34m:\u001b[0m\u001b[0;34m\u001b[0m\u001b[0;34m\u001b[0m\u001b[0m\n",
      "\u001b[0;32m~/anaconda3/envs/jupyter/lib/python3.6/site-packages/torch/utils/data/dataloader.py\u001b[0m in \u001b[0;36m_process_data\u001b[0;34m(self, data)\u001b[0m\n\u001b[1;32m   1109\u001b[0m         \u001b[0mself\u001b[0m\u001b[0;34m.\u001b[0m\u001b[0m_try_put_index\u001b[0m\u001b[0;34m(\u001b[0m\u001b[0;34m)\u001b[0m\u001b[0;34m\u001b[0m\u001b[0;34m\u001b[0m\u001b[0m\n\u001b[1;32m   1110\u001b[0m         \u001b[0;32mif\u001b[0m \u001b[0misinstance\u001b[0m\u001b[0;34m(\u001b[0m\u001b[0mdata\u001b[0m\u001b[0;34m,\u001b[0m \u001b[0mExceptionWrapper\u001b[0m\u001b[0;34m)\u001b[0m\u001b[0;34m:\u001b[0m\u001b[0;34m\u001b[0m\u001b[0;34m\u001b[0m\u001b[0m\n\u001b[0;32m-> 1111\u001b[0;31m             \u001b[0mdata\u001b[0m\u001b[0;34m.\u001b[0m\u001b[0mreraise\u001b[0m\u001b[0;34m(\u001b[0m\u001b[0;34m)\u001b[0m\u001b[0;34m\u001b[0m\u001b[0;34m\u001b[0m\u001b[0m\n\u001b[0m\u001b[1;32m   1112\u001b[0m         \u001b[0;32mreturn\u001b[0m \u001b[0mdata\u001b[0m\u001b[0;34m\u001b[0m\u001b[0;34m\u001b[0m\u001b[0m\n\u001b[1;32m   1113\u001b[0m \u001b[0;34m\u001b[0m\u001b[0m\n",
      "\u001b[0;32m~/anaconda3/envs/jupyter/lib/python3.6/site-packages/torch/_utils.py\u001b[0m in \u001b[0;36mreraise\u001b[0;34m(self)\u001b[0m\n\u001b[1;32m    426\u001b[0m             \u001b[0;31m# have message field\u001b[0m\u001b[0;34m\u001b[0m\u001b[0;34m\u001b[0m\u001b[0;34m\u001b[0m\u001b[0m\n\u001b[1;32m    427\u001b[0m             \u001b[0;32mraise\u001b[0m \u001b[0mself\u001b[0m\u001b[0;34m.\u001b[0m\u001b[0mexc_type\u001b[0m\u001b[0;34m(\u001b[0m\u001b[0mmessage\u001b[0m\u001b[0;34m=\u001b[0m\u001b[0mmsg\u001b[0m\u001b[0;34m)\u001b[0m\u001b[0;34m\u001b[0m\u001b[0;34m\u001b[0m\u001b[0m\n\u001b[0;32m--> 428\u001b[0;31m         \u001b[0;32mraise\u001b[0m \u001b[0mself\u001b[0m\u001b[0;34m.\u001b[0m\u001b[0mexc_type\u001b[0m\u001b[0;34m(\u001b[0m\u001b[0mmsg\u001b[0m\u001b[0;34m)\u001b[0m\u001b[0;34m\u001b[0m\u001b[0;34m\u001b[0m\u001b[0m\n\u001b[0m\u001b[1;32m    429\u001b[0m \u001b[0;34m\u001b[0m\u001b[0m\n\u001b[1;32m    430\u001b[0m \u001b[0;34m\u001b[0m\u001b[0m\n",
      "\u001b[0;31mTypeError\u001b[0m: Caught TypeError in DataLoader worker process 0.\nOriginal Traceback (most recent call last):\n  File \"/root/anaconda3/envs/jupyter/lib/python3.6/site-packages/torch/utils/data/_utils/worker.py\", line 198, in _worker_loop\n    data = fetcher.fetch(index)\n  File \"/root/anaconda3/envs/jupyter/lib/python3.6/site-packages/torch/utils/data/_utils/fetch.py\", line 47, in fetch\n    return self.collate_fn(data)\n  File \"/root/anaconda3/envs/jupyter/lib/python3.6/site-packages/torch/utils/data/_utils/collate.py\", line 83, in default_collate\n    return [default_collate(samples) for samples in transposed]\n  File \"/root/anaconda3/envs/jupyter/lib/python3.6/site-packages/torch/utils/data/_utils/collate.py\", line 83, in <listcomp>\n    return [default_collate(samples) for samples in transposed]\n  File \"/root/anaconda3/envs/jupyter/lib/python3.6/site-packages/torch/utils/data/_utils/collate.py\", line 85, in default_collate\n    raise TypeError(default_collate_err_msg_format.format(elem_type))\nTypeError: default_collate: batch must contain tensors, numpy arrays, numbers, dicts or lists; found <class 'tensorflow.python.framework.ops.EagerTensor'>\n"
     ]
    }
   ],
   "source": [
    "for batch in datamodule.train_dataloader():\n",
    "    break"
   ]
  },
  {
   "cell_type": "code",
   "execution_count": null,
   "metadata": {
    "execution": {
     "iopub.status.busy": "2020-11-27T06:47:05.177297Z",
     "iopub.status.idle": "2020-11-27T06:47:05.177486Z",
     "shell.execute_reply": "2020-11-27T06:47:05.177390Z"
    }
   },
   "outputs": [],
   "source": [
    "xs, ys = batch\n",
    "x, y = xs[0], ys[0]"
   ]
  },
  {
   "cell_type": "code",
   "execution_count": 30,
   "metadata": {
    "execution": {
     "iopub.execute_input": "2020-11-27T06:42:42.890598Z",
     "iopub.status.busy": "2020-11-27T06:42:42.890245Z",
     "iopub.status.idle": "2020-11-27T06:42:42.896330Z",
     "shell.execute_reply": "2020-11-27T06:42:42.895407Z",
     "shell.execute_reply.started": "2020-11-27T06:42:42.890559Z"
    }
   },
   "outputs": [
    {
     "data": {
      "text/plain": [
       "torch.Size([24, 300, 300, 3])"
      ]
     },
     "execution_count": 30,
     "metadata": {},
     "output_type": "execute_result"
    }
   ],
   "source": [
    "x.shape"
   ]
  },
  {
   "cell_type": "code",
   "execution_count": 31,
   "metadata": {
    "execution": {
     "iopub.execute_input": "2020-11-27T06:42:43.889507Z",
     "iopub.status.busy": "2020-11-27T06:42:43.889150Z",
     "iopub.status.idle": "2020-11-27T06:42:43.895134Z",
     "shell.execute_reply": "2020-11-27T06:42:43.894311Z",
     "shell.execute_reply.started": "2020-11-27T06:42:43.889467Z"
    }
   },
   "outputs": [
    {
     "data": {
      "text/plain": [
       "torch.Size([24, 300, 300, 3])"
      ]
     },
     "execution_count": 31,
     "metadata": {},
     "output_type": "execute_result"
    }
   ],
   "source": [
    "y.shape"
   ]
  },
  {
   "cell_type": "code",
   "execution_count": 32,
   "metadata": {
    "execution": {
     "iopub.execute_input": "2020-11-27T06:42:48.886728Z",
     "iopub.status.busy": "2020-11-27T06:42:48.886370Z",
     "iopub.status.idle": "2020-11-27T06:42:48.890457Z",
     "shell.execute_reply": "2020-11-27T06:42:48.889530Z",
     "shell.execute_reply.started": "2020-11-27T06:42:48.886687Z"
    }
   },
   "outputs": [],
   "source": [
    "# x = x.permute(1, 2, 0).numpy()\n",
    "# y = y.permute(1, 2, 0).numpy()\n",
    "# visualize(x, y)\n",
    "# break"
   ]
  },
  {
   "cell_type": "code",
   "execution_count": null,
   "metadata": {},
   "outputs": [],
   "source": [
    " data = np.load(path)\n",
    "        #torch.Size([24, 1159, 1505, 3])\n",
    "        x = data[:24,:300,:300,:]\n",
    "        #         x = x / 255.0\n",
    "        x = x.astype(np.float32)\n",
    "        x = tf.convert_to_tensor(x,dtype=tf.float32)\n",
    "        if self.test:\n",
    "            return x\n",
    "        else:\n",
    "            y = data[1:,:300,:300,:]\n",
    "            #             y = y / 255.0\n",
    "            y = y.astype(np.float32)\n",
    "            \n",
    "            y = tf.convert_to_tensor(y,dtype=tf.float32)"
   ]
  },
  {
   "cell_type": "code",
   "execution_count": null,
   "metadata": {},
   "outputs": [],
   "source": []
  },
  {
   "cell_type": "code",
   "execution_count": 13,
   "metadata": {
    "execution": {
     "iopub.execute_input": "2020-11-27T09:14:23.532519Z",
     "iopub.status.busy": "2020-11-27T09:14:23.532244Z",
     "iopub.status.idle": "2020-11-27T09:14:23.550161Z",
     "shell.execute_reply": "2020-11-27T09:14:23.549543Z",
     "shell.execute_reply.started": "2020-11-27T09:14:23.532491Z"
    }
   },
   "outputs": [],
   "source": [
    "paths = [f'/hdd/pred_prec_temp/{i}' for i in sorted(os.listdir('/hdd/pred_prec_temp'))[:-24]]\n",
    "train_paths, val_paths = model_selection.train_test_split(\n",
    "            paths, test_size=0.1, shuffle=False\n",
    "        )\n",
    "\n",
    "test_paths = [f'/hdd/pred_prec_temp/{i}' for i in sorted(os.listdir('/hdd/pred_prec_temp'))[-24:]]"
   ]
  },
  {
   "cell_type": "code",
   "execution_count": 14,
   "metadata": {
    "collapsed": true,
    "execution": {
     "iopub.execute_input": "2020-11-27T09:14:24.853685Z",
     "iopub.status.busy": "2020-11-27T09:14:24.853436Z",
     "iopub.status.idle": "2020-11-27T09:24:54.462273Z",
     "shell.execute_reply": "2020-11-27T09:24:54.457954Z",
     "shell.execute_reply.started": "2020-11-27T09:14:24.853659Z"
    },
    "jupyter": {
     "outputs_hidden": true
    }
   },
   "outputs": [
    {
     "name": "stdout",
     "output_type": "stream",
     "text": [
      "/hdd/pred_prec_temp/2019-01-01 00:00:00.npy\n",
      "/hdd/pred_prec_temp/2019-01-01 01:00:00.npy\n",
      "/hdd/pred_prec_temp/2019-01-01 02:00:00.npy\n",
      "/hdd/pred_prec_temp/2019-01-01 03:00:00.npy\n",
      "/hdd/pred_prec_temp/2019-01-01 04:00:00.npy\n",
      "/hdd/pred_prec_temp/2019-01-01 05:00:00.npy\n",
      "/hdd/pred_prec_temp/2019-01-01 06:00:00.npy\n",
      "/hdd/pred_prec_temp/2019-01-01 07:00:00.npy\n",
      "/hdd/pred_prec_temp/2019-01-01 08:00:00.npy\n",
      "/hdd/pred_prec_temp/2019-01-01 09:00:00.npy\n",
      "/hdd/pred_prec_temp/2019-01-01 10:00:00.npy\n",
      "/hdd/pred_prec_temp/2019-01-01 11:00:00.npy\n",
      "/hdd/pred_prec_temp/2019-01-01 12:00:00.npy\n",
      "/hdd/pred_prec_temp/2019-01-01 13:00:00.npy\n",
      "/hdd/pred_prec_temp/2019-01-01 14:00:00.npy\n",
      "/hdd/pred_prec_temp/2019-01-01 15:00:00.npy\n",
      "/hdd/pred_prec_temp/2019-01-01 16:00:00.npy\n",
      "/hdd/pred_prec_temp/2019-01-01 17:00:00.npy\n",
      "/hdd/pred_prec_temp/2019-01-01 18:00:00.npy\n",
      "/hdd/pred_prec_temp/2019-01-01 19:00:00.npy\n",
      "/hdd/pred_prec_temp/2019-01-01 20:00:00.npy\n",
      "/hdd/pred_prec_temp/2019-01-01 21:00:00.npy\n",
      "/hdd/pred_prec_temp/2019-01-01 22:00:00.npy\n",
      "/hdd/pred_prec_temp/2019-01-01 23:00:00.npy\n",
      "/hdd/pred_prec_temp/2019-01-02 00:00:00.npy\n",
      "/hdd/pred_prec_temp/2019-01-03 00:00:00.npy\n",
      "/hdd/pred_prec_temp/2019-01-03 01:00:00.npy\n",
      "/hdd/pred_prec_temp/2019-01-03 02:00:00.npy\n",
      "/hdd/pred_prec_temp/2019-01-03 03:00:00.npy\n",
      "/hdd/pred_prec_temp/2019-01-03 04:00:00.npy\n",
      "/hdd/pred_prec_temp/2019-01-03 05:00:00.npy\n",
      "/hdd/pred_prec_temp/2019-01-03 06:00:00.npy\n",
      "/hdd/pred_prec_temp/2019-01-03 07:00:00.npy\n",
      "/hdd/pred_prec_temp/2019-01-03 08:00:00.npy\n",
      "/hdd/pred_prec_temp/2019-01-03 09:00:00.npy\n",
      "/hdd/pred_prec_temp/2019-01-03 10:00:00.npy\n",
      "/hdd/pred_prec_temp/2019-01-03 11:00:00.npy\n",
      "/hdd/pred_prec_temp/2019-01-03 12:00:00.npy\n",
      "/hdd/pred_prec_temp/2019-01-03 13:00:00.npy\n",
      "/hdd/pred_prec_temp/2019-01-03 14:00:00.npy\n",
      "/hdd/pred_prec_temp/2019-01-03 15:00:00.npy\n",
      "/hdd/pred_prec_temp/2019-01-03 16:00:00.npy\n",
      "/hdd/pred_prec_temp/2019-01-03 17:00:00.npy\n",
      "/hdd/pred_prec_temp/2019-01-03 18:00:00.npy\n",
      "/hdd/pred_prec_temp/2019-01-03 19:00:00.npy\n",
      "/hdd/pred_prec_temp/2019-01-03 20:00:00.npy\n",
      "/hdd/pred_prec_temp/2019-01-03 21:00:00.npy\n",
      "/hdd/pred_prec_temp/2019-01-03 22:00:00.npy\n",
      "/hdd/pred_prec_temp/2019-01-03 23:00:00.npy\n",
      "/hdd/pred_prec_temp/2019-01-04 00:00:00.npy\n",
      "/hdd/pred_prec_temp/2019-01-04 01:00:00.npy\n",
      "/hdd/pred_prec_temp/2019-01-04 02:00:00.npy\n",
      "/hdd/pred_prec_temp/2019-01-04 03:00:00.npy\n",
      "/hdd/pred_prec_temp/2019-01-04 04:00:00.npy\n",
      "/hdd/pred_prec_temp/2019-01-04 05:00:00.npy\n",
      "/hdd/pred_prec_temp/2019-01-04 06:00:00.npy\n",
      "/hdd/pred_prec_temp/2019-01-04 07:00:00.npy\n",
      "/hdd/pred_prec_temp/2019-01-04 08:00:00.npy\n",
      "/hdd/pred_prec_temp/2019-01-04 09:00:00.npy\n",
      "/hdd/pred_prec_temp/2019-01-04 10:00:00.npy\n",
      "/hdd/pred_prec_temp/2019-01-04 11:00:00.npy\n",
      "/hdd/pred_prec_temp/2019-01-04 12:00:00.npy\n",
      "/hdd/pred_prec_temp/2019-01-04 13:00:00.npy\n",
      "/hdd/pred_prec_temp/2019-01-04 14:00:00.npy\n",
      "/hdd/pred_prec_temp/2019-01-04 15:00:00.npy\n"
     ]
    }
   ],
   "source": [
    "train_x=list();train_y=list()\n",
    "for path in train_paths:\n",
    "    print(path)\n",
    "    data=np.load(path)\n",
    "    x=data[np.newaxis,:24,:300,:300]\n",
    "    x=x.astype(np.float32)\n",
    "    y=data[np.newaxis,1:,:300,:300]\n",
    "    y=y.astype(np.float32)\n",
    "    train_x.append(x)\n",
    "    train_y.append(y)"
   ]
  },
  {
   "cell_type": "code",
   "execution_count": 15,
   "metadata": {
    "collapsed": true,
    "execution": {
     "iopub.execute_input": "2020-11-27T09:24:57.150012Z",
     "iopub.status.busy": "2020-11-27T09:24:57.149816Z",
     "iopub.status.idle": "2020-11-27T09:26:13.424364Z",
     "shell.execute_reply": "2020-11-27T09:26:13.423761Z",
     "shell.execute_reply.started": "2020-11-27T09:24:57.149989Z"
    },
    "jupyter": {
     "outputs_hidden": true
    }
   },
   "outputs": [
    {
     "name": "stdout",
     "output_type": "stream",
     "text": [
      "/hdd/pred_prec_temp/2019-01-04 16:00:00.npy\n",
      "/hdd/pred_prec_temp/2019-01-04 17:00:00.npy\n",
      "/hdd/pred_prec_temp/2019-01-04 18:00:00.npy\n",
      "/hdd/pred_prec_temp/2019-01-04 19:00:00.npy\n",
      "/hdd/pred_prec_temp/2019-01-04 20:00:00.npy\n",
      "/hdd/pred_prec_temp/2019-01-04 21:00:00.npy\n",
      "/hdd/pred_prec_temp/2019-01-04 22:00:00.npy\n",
      "/hdd/pred_prec_temp/2019-01-04 23:00:00.npy\n"
     ]
    }
   ],
   "source": [
    "val_x=list();val_y=list()\n",
    "for path in val_paths:\n",
    "    print(path)\n",
    "    data=np.load(path)\n",
    "    x=data[np.newaxis,:24,:300,:300]\n",
    "    x=x.astype(np.float32)\n",
    "    y=data[np.newaxis,1:,:300,:300]\n",
    "    y=y.astype(np.float32)\n",
    "    val_x.append(x)\n",
    "    val_y.append(y)"
   ]
  },
  {
   "cell_type": "code",
   "execution_count": 16,
   "metadata": {
    "collapsed": true,
    "execution": {
     "iopub.execute_input": "2020-11-27T09:26:13.425443Z",
     "iopub.status.busy": "2020-11-27T09:26:13.425284Z",
     "iopub.status.idle": "2020-11-27T09:30:06.505592Z",
     "shell.execute_reply": "2020-11-27T09:30:06.505060Z",
     "shell.execute_reply.started": "2020-11-27T09:26:13.425426Z"
    },
    "jupyter": {
     "outputs_hidden": true
    }
   },
   "outputs": [
    {
     "name": "stdout",
     "output_type": "stream",
     "text": [
      "/hdd/pred_prec_temp/2019-01-05 00:00:00.npy\n",
      "/hdd/pred_prec_temp/2019-01-05 01:00:00.npy\n",
      "/hdd/pred_prec_temp/2019-01-05 02:00:00.npy\n",
      "/hdd/pred_prec_temp/2019-01-05 03:00:00.npy\n",
      "/hdd/pred_prec_temp/2019-01-05 04:00:00.npy\n",
      "/hdd/pred_prec_temp/2019-01-05 05:00:00.npy\n",
      "/hdd/pred_prec_temp/2019-01-05 06:00:00.npy\n",
      "/hdd/pred_prec_temp/2019-01-05 07:00:00.npy\n",
      "/hdd/pred_prec_temp/2019-01-05 08:00:00.npy\n",
      "/hdd/pred_prec_temp/2019-01-05 09:00:00.npy\n",
      "/hdd/pred_prec_temp/2019-01-05 10:00:00.npy\n",
      "/hdd/pred_prec_temp/2019-01-05 11:00:00.npy\n",
      "/hdd/pred_prec_temp/2019-01-05 12:00:00.npy\n",
      "/hdd/pred_prec_temp/2019-01-05 13:00:00.npy\n",
      "/hdd/pred_prec_temp/2019-01-05 14:00:00.npy\n",
      "/hdd/pred_prec_temp/2019-01-05 15:00:00.npy\n",
      "/hdd/pred_prec_temp/2019-01-05 16:00:00.npy\n",
      "/hdd/pred_prec_temp/2019-01-05 17:00:00.npy\n",
      "/hdd/pred_prec_temp/2019-01-05 18:00:00.npy\n",
      "/hdd/pred_prec_temp/2019-01-05 19:00:00.npy\n",
      "/hdd/pred_prec_temp/2019-01-05 20:00:00.npy\n",
      "/hdd/pred_prec_temp/2019-01-05 21:00:00.npy\n",
      "/hdd/pred_prec_temp/2019-01-05 22:00:00.npy\n",
      "/hdd/pred_prec_temp/2019-01-05 23:00:00.npy\n"
     ]
    }
   ],
   "source": [
    "test_x=list();test_y=list()\n",
    "for path in test_paths:\n",
    "    print(path)\n",
    "    data=np.load(path)\n",
    "    x=data[np.newaxis,:24,:300,:300]\n",
    "    x=x.astype(np.float32)\n",
    "    y=data[np.newaxis,1:,:300,:300]\n",
    "    y=y.astype(np.float32)\n",
    "    test_x.append(x)\n",
    "    test_y.append(y)"
   ]
  },
  {
   "cell_type": "code",
   "execution_count": 18,
   "metadata": {
    "execution": {
     "iopub.execute_input": "2020-11-27T09:30:39.757720Z",
     "iopub.status.busy": "2020-11-27T09:30:39.757448Z",
     "iopub.status.idle": "2020-11-27T09:30:42.814788Z",
     "shell.execute_reply": "2020-11-27T09:30:42.814231Z",
     "shell.execute_reply.started": "2020-11-27T09:30:39.757693Z"
    }
   },
   "outputs": [],
   "source": [
    "Xtrain=np.concatenate(train_x)\n",
    "Ytrain=np.concatenate(train_y)\n",
    "Xval  =np.concatenate(val_x  )\n",
    "Yval  =np.concatenate(val_y  )\n",
    "Xtest =np.concatenate(test_x )\n",
    "Ytest =np.concatenate(test_y )"
   ]
  },
  {
   "cell_type": "code",
   "execution_count": 76,
   "metadata": {
    "execution": {
     "iopub.execute_input": "2020-11-27T07:43:44.692897Z",
     "iopub.status.busy": "2020-11-27T07:43:44.692627Z",
     "iopub.status.idle": "2020-11-27T07:43:44.696900Z",
     "shell.execute_reply": "2020-11-27T07:43:44.696351Z",
     "shell.execute_reply.started": "2020-11-27T07:43:44.692869Z"
    }
   },
   "outputs": [
    {
     "data": {
      "text/plain": [
       "(65, 24, 300, 300, 3)"
      ]
     },
     "execution_count": 76,
     "metadata": {},
     "output_type": "execute_result"
    }
   ],
   "source": [
    "Xtrain.shape"
   ]
  },
  {
   "cell_type": "code",
   "execution_count": 77,
   "metadata": {
    "execution": {
     "iopub.execute_input": "2020-11-27T07:43:50.685711Z",
     "iopub.status.busy": "2020-11-27T07:43:50.685456Z",
     "iopub.status.idle": "2020-11-27T07:43:50.689236Z",
     "shell.execute_reply": "2020-11-27T07:43:50.688701Z",
     "shell.execute_reply.started": "2020-11-27T07:43:50.685685Z"
    }
   },
   "outputs": [],
   "source": [
    "import tensorflow as tf\n",
    "from tensorflow import keras\n",
    "from tensorflow.keras import layers\n",
    "import numpy as np\n",
    "import pylab as plt"
   ]
  },
  {
   "cell_type": "code",
   "execution_count": 6,
   "metadata": {
    "execution": {
     "iopub.execute_input": "2020-11-27T07:58:38.827579Z",
     "iopub.status.busy": "2020-11-27T07:58:38.827032Z",
     "iopub.status.idle": "2020-11-27T07:58:39.503480Z",
     "shell.execute_reply": "2020-11-27T07:58:39.502866Z",
     "shell.execute_reply.started": "2020-11-27T07:58:38.827541Z"
    }
   },
   "outputs": [],
   "source": [
    "seq = keras.Sequential(\n",
    "    [\n",
    "        keras.Input(\n",
    "            shape=(None, 300, 300, 3)\n",
    "        ),  # Variable-length sequence of 40x40x1 frames\n",
    "        layers.ConvLSTM2D(\n",
    "            filters=40, kernel_size=(3, 3), padding=\"same\", return_sequences=True\n",
    "        ),\n",
    "        layers.BatchNormalization(),\n",
    "        layers.ConvLSTM2D(\n",
    "            filters=1, kernel_size=(3, 3), padding=\"same\", return_sequences=True\n",
    "        ),\n",
    "#         layers.BatchNormalization(),\n",
    "#         layers.ConvLSTM2D(\n",
    "#             filters=40, kernel_size=(3, 3), padding=\"same\", return_sequences=True\n",
    "#         ),\n",
    "#         layers.BatchNormalization(),\n",
    "#         layers.ConvLSTM2D(\n",
    "#             filters=40, kernel_size=(3, 3), padding=\"same\", return_sequences=True\n",
    "#         ),\n",
    "#         layers.BatchNormalization(),\n",
    "#         layers.Conv3D(\n",
    "#             filters=1, kernel_size=(3, 3, 3), activation=\"sigmoid\", padding=\"same\"\n",
    "#         ),\n",
    "    ]\n",
    ")\n",
    "seq.compile(loss=\"binary_crossentropy\", optimizer=\"adadelta\")"
   ]
  },
  {
   "cell_type": "code",
   "execution_count": 35,
   "metadata": {
    "execution": {
     "iopub.execute_input": "2020-11-27T06:42:51.887480Z",
     "iopub.status.busy": "2020-11-27T06:42:51.887072Z",
     "iopub.status.idle": "2020-11-27T06:42:51.893826Z",
     "shell.execute_reply": "2020-11-27T06:42:51.892835Z",
     "shell.execute_reply.started": "2020-11-27T06:42:51.887433Z"
    }
   },
   "outputs": [
    {
     "data": {
      "text/plain": [
       "torch.Size([24, 300, 300, 3])"
      ]
     },
     "execution_count": 35,
     "metadata": {},
     "output_type": "execute_result"
    }
   ],
   "source": [
    "x.shape"
   ]
  },
  {
   "cell_type": "code",
   "execution_count": 36,
   "metadata": {
    "execution": {
     "iopub.execute_input": "2020-11-27T06:42:52.885101Z",
     "iopub.status.busy": "2020-11-27T06:42:52.884747Z",
     "iopub.status.idle": "2020-11-27T06:42:52.890796Z",
     "shell.execute_reply": "2020-11-27T06:42:52.889884Z",
     "shell.execute_reply.started": "2020-11-27T06:42:52.885061Z"
    }
   },
   "outputs": [
    {
     "data": {
      "text/plain": [
       "torch.Size([24, 300, 300, 3])"
      ]
     },
     "execution_count": 36,
     "metadata": {},
     "output_type": "execute_result"
    }
   ],
   "source": [
    "y.shape"
   ]
  },
  {
   "cell_type": "code",
   "execution_count": 84,
   "metadata": {
    "execution": {
     "iopub.execute_input": "2020-11-27T07:48:48.069847Z",
     "iopub.status.busy": "2020-11-27T07:48:48.069629Z",
     "iopub.status.idle": "2020-11-27T07:48:48.077242Z",
     "shell.execute_reply": "2020-11-27T07:48:48.076285Z",
     "shell.execute_reply.started": "2020-11-27T07:48:48.069824Z"
    }
   },
   "outputs": [
    {
     "data": {
      "text/plain": [
       "dtype('float32')"
      ]
     },
     "execution_count": 84,
     "metadata": {},
     "output_type": "execute_result"
    }
   ],
   "source": [
    "Xtrain.dtype"
   ]
  },
  {
   "cell_type": "code",
   "execution_count": 19,
   "metadata": {
    "execution": {
     "iopub.execute_input": "2020-11-27T09:30:47.423490Z",
     "iopub.status.busy": "2020-11-27T09:30:47.423344Z",
     "iopub.status.idle": "2020-11-27T09:32:08.938201Z",
     "shell.execute_reply": "2020-11-27T09:32:08.937553Z",
     "shell.execute_reply.started": "2020-11-27T09:30:47.423471Z"
    }
   },
   "outputs": [],
   "source": [
    "np.save('/hdd/Xrain.npy',Xtrain)\n",
    "np.save('/hdd/Ytrain.npy',Ytrain)\n",
    "np.save('/hdd/Xtest.npy',Xtest)\n",
    "np.save('/hdd/Ytest.npy',Ytest)\n",
    "np.save('/hdd/Xval.npy',Xval)\n",
    "np.save('/hdd/Yval.npy',Yval)"
   ]
  },
  {
   "cell_type": "code",
   "execution_count": 20,
   "metadata": {
    "execution": {
     "iopub.execute_input": "2020-11-27T09:32:13.527916Z",
     "iopub.status.busy": "2020-11-27T09:32:13.527789Z",
     "iopub.status.idle": "2020-11-27T09:32:13.530983Z",
     "shell.execute_reply": "2020-11-27T09:32:13.530450Z",
     "shell.execute_reply.started": "2020-11-27T09:32:13.527900Z"
    }
   },
   "outputs": [],
   "source": [
    "import tensorflow as tf\n",
    "from tensorflow import keras\n",
    "from tensorflow.keras import layers\n",
    "import numpy as np\n",
    "import pylab as plt"
   ]
  },
  {
   "cell_type": "code",
   "execution_count": 3,
   "metadata": {
    "execution": {
     "iopub.execute_input": "2020-11-27T07:57:22.715796Z",
     "iopub.status.busy": "2020-11-27T07:57:22.715597Z",
     "iopub.status.idle": "2020-11-27T07:58:06.810210Z",
     "shell.execute_reply": "2020-11-27T07:58:06.809572Z",
     "shell.execute_reply.started": "2020-11-27T07:57:22.715773Z"
    }
   },
   "outputs": [],
   "source": [
    "Xtrain=np.load('/hdd/Xrain.npy')\n",
    "Ytrain=np.load('/hdd/Ytrain.npy')\n",
    "Xtest=np.load('/hdd/Xtest.npy')\n",
    "Ytest=np.load('/hdd/Ytest.npy')\n",
    "Xval=np.load('/hdd/Xval.npy')\n",
    "Yval=np.load('/hdd/Yval.npy')"
   ]
  },
  {
   "cell_type": "code",
   "execution_count": 4,
   "metadata": {
    "execution": {
     "iopub.execute_input": "2020-11-27T07:58:07.454203Z",
     "iopub.status.busy": "2020-11-27T07:58:07.453881Z",
     "iopub.status.idle": "2020-11-27T07:58:09.061414Z",
     "shell.execute_reply": "2020-11-27T07:58:09.060680Z",
     "shell.execute_reply.started": "2020-11-27T07:58:07.454163Z"
    }
   },
   "outputs": [],
   "source": [
    "Xtrain=tf.convert_to_tensor(Xtrain,dtype=tf.float32)\n",
    "Ytrain=tf.convert_to_tensor(Ytrain,dtype=tf.float32)\n",
    "Xtest=tf.convert_to_tensor(Xtest,dtype=tf.float32)\n",
    "Ytest=tf.convert_to_tensor(Ytest,dtype=tf.float32)\n",
    "Xval=tf.convert_to_tensor(Xval,dtype=tf.float32)\n",
    "Yval=tf.convert_to_tensor(Yval,dtype=tf.float32)"
   ]
  },
  {
   "cell_type": "markdown",
   "metadata": {
    "execution": {
     "iopub.execute_input": "2020-11-28T06:39:38.009635Z",
     "iopub.status.busy": "2020-11-28T06:39:38.009396Z",
     "iopub.status.idle": "2020-11-28T06:39:38.016040Z",
     "shell.execute_reply": "2020-11-28T06:39:38.014666Z",
     "shell.execute_reply.started": "2020-11-28T06:39:38.009610Z"
    }
   },
   "source": [
    "################ "
   ]
  },
  {
   "cell_type": "markdown",
   "metadata": {
    "execution": {
     "iopub.execute_input": "2020-11-28T06:41:19.989497Z",
     "iopub.status.busy": "2020-11-28T06:41:19.988973Z",
     "iopub.status.idle": "2020-11-28T06:41:19.993893Z",
     "shell.execute_reply": "2020-11-28T06:41:19.993116Z",
     "shell.execute_reply.started": "2020-11-28T06:41:19.989436Z"
    }
   },
   "source": [
    "# https://www.tensorflow.org/addons/tutorials/layers_normalizations"
   ]
  },
  {
   "cell_type": "code",
   "execution_count": 1,
   "metadata": {
    "execution": {
     "iopub.execute_input": "2020-11-28T06:41:38.040096Z",
     "iopub.status.busy": "2020-11-28T06:41:38.039790Z",
     "iopub.status.idle": "2020-11-28T06:41:39.751971Z",
     "shell.execute_reply": "2020-11-28T06:41:39.751441Z",
     "shell.execute_reply.started": "2020-11-28T06:41:38.040061Z"
    }
   },
   "outputs": [],
   "source": [
    "import tensorflow as tf\n",
    "from tensorflow import keras\n",
    "from tensorflow.keras import layers\n",
    "import numpy as np\n",
    "import pylab as plt"
   ]
  },
  {
   "cell_type": "code",
   "execution_count": 2,
   "metadata": {
    "execution": {
     "iopub.execute_input": "2020-11-28T06:41:42.988273Z",
     "iopub.status.busy": "2020-11-28T06:41:42.987910Z",
     "iopub.status.idle": "2020-11-28T06:41:43.026272Z",
     "shell.execute_reply": "2020-11-28T06:41:43.025662Z",
     "shell.execute_reply.started": "2020-11-28T06:41:42.988233Z"
    }
   },
   "outputs": [],
   "source": [
    "import tensorflow_addons as tfa"
   ]
  },
  {
   "cell_type": "code",
   "execution_count": 3,
   "metadata": {
    "execution": {
     "iopub.execute_input": "2020-11-28T06:41:43.997047Z",
     "iopub.status.busy": "2020-11-28T06:41:43.996690Z",
     "iopub.status.idle": "2020-11-28T06:42:14.372290Z",
     "shell.execute_reply": "2020-11-28T06:42:14.371722Z",
     "shell.execute_reply.started": "2020-11-28T06:41:43.997002Z"
    }
   },
   "outputs": [],
   "source": [
    "Xtrain=np.load('/hdd/Xrain.npy')\n",
    "Ytrain=np.load('/hdd/Ytrain.npy')\n",
    "Xtrain=Xtrain[:,:12]\n",
    "Ytrain=Ytrain[:,:12]\n",
    "Xtrain=tf.convert_to_tensor(Xtrain,dtype=tf.float32)\n",
    "Ytrain=tf.convert_to_tensor(Ytrain,dtype=tf.float32)"
   ]
  },
  {
   "cell_type": "code",
   "execution_count": 4,
   "metadata": {
    "execution": {
     "iopub.execute_input": "2020-11-28T06:42:14.373332Z",
     "iopub.status.busy": "2020-11-28T06:42:14.373209Z",
     "iopub.status.idle": "2020-11-28T06:42:18.129188Z",
     "shell.execute_reply": "2020-11-28T06:42:18.128710Z",
     "shell.execute_reply.started": "2020-11-28T06:42:14.373316Z"
    }
   },
   "outputs": [],
   "source": [
    "Xval=np.load('/hdd/Xval.npy')\n",
    "Yval=np.load('/hdd/Yval.npy')\n",
    "Xval=Xval[:,:12]\n",
    "Yval=Yval[:,:12]\n",
    "Xval=tf.convert_to_tensor(Xval,dtype=tf.float32)\n",
    "Yval=tf.convert_to_tensor(Yval,dtype=tf.float32)"
   ]
  },
  {
   "cell_type": "code",
   "execution_count": 5,
   "metadata": {
    "execution": {
     "iopub.execute_input": "2020-11-28T06:42:18.130235Z",
     "iopub.status.busy": "2020-11-28T06:42:18.130107Z",
     "iopub.status.idle": "2020-11-28T06:42:29.209479Z",
     "shell.execute_reply": "2020-11-28T06:42:29.209025Z",
     "shell.execute_reply.started": "2020-11-28T06:42:18.130219Z"
    }
   },
   "outputs": [],
   "source": [
    "Xtest=np.load('/hdd/Xtest.npy')\n",
    "Ytest=np.load('/hdd/Ytest.npy')\n",
    "Xtest=Xtest[:,:12]\n",
    "Ytest=Ytest[:,:12]\n",
    "Xtest=tf.convert_to_tensor(Xtest,dtype=tf.float32)\n",
    "Ytest=tf.convert_to_tensor(Ytest,dtype=tf.float32)"
   ]
  },
  {
   "cell_type": "code",
   "execution_count": 6,
   "metadata": {
    "execution": {
     "iopub.execute_input": "2020-11-28T06:42:29.879387Z",
     "iopub.status.busy": "2020-11-28T06:42:29.879266Z",
     "iopub.status.idle": "2020-11-28T06:42:29.882648Z",
     "shell.execute_reply": "2020-11-28T06:42:29.882200Z",
     "shell.execute_reply.started": "2020-11-28T06:42:29.879371Z"
    }
   },
   "outputs": [
    {
     "data": {
      "text/plain": [
       "TensorShape([65, 12, 300, 300, 3])"
      ]
     },
     "execution_count": 6,
     "metadata": {},
     "output_type": "execute_result"
    }
   ],
   "source": [
    "Xtrain.shape"
   ]
  },
  {
   "cell_type": "code",
   "execution_count": 7,
   "metadata": {
    "execution": {
     "iopub.execute_input": "2020-11-28T06:42:29.883291Z",
     "iopub.status.busy": "2020-11-28T06:42:29.883177Z",
     "iopub.status.idle": "2020-11-28T06:42:30.520883Z",
     "shell.execute_reply": "2020-11-28T06:42:30.520341Z",
     "shell.execute_reply.started": "2020-11-28T06:42:29.883277Z"
    }
   },
   "outputs": [],
   "source": [
    "seq = keras.Sequential(\n",
    "    [\n",
    "        keras.Input(\n",
    "            shape=(None, 300, 300, 3)\n",
    "        ),  # Variable-length sequence of 40x40x1 frames\n",
    "        layers.ConvLSTM2D(\n",
    "            filters=5, kernel_size=(3, 3), dropout=0.2, recurrent_dropout=0.1,\n",
    "            padding=\"same\", return_sequences=True\n",
    "        ),\n",
    "        #tfa.layers.GroupNormalization(groups=5, axis=4),\n",
    "        tf.keras.layers.LayerNormalization(axis=4 , center=True , scale=True),\n",
    "\n",
    "#         tfa.layers.InstanceNormalization(axis=4, \n",
    "#                                    center=True, \n",
    "#                                    scale=True,\n",
    "#                                    beta_initializer=\"random_uniform\",\n",
    "#                                    gamma_initializer=\"random_uniform\"),\n",
    "#         layers.BatchNormalization(),\n",
    "        layers.ConvLSTM2D(\n",
    "            filters=3, kernel_size=(3, 3), padding=\"same\", return_sequences=True\n",
    "        ),\n",
    "#         layers.BatchNormalization(),\n",
    "#         layers.ConvLSTM2D(\n",
    "#             filters=5, kernel_size=(3, 3), padding=\"same\", return_sequences=True\n",
    "#         ),\n",
    "#         layers.BatchNormalization(),\n",
    "#         layers.ConvLSTM2D(\n",
    "#             filters=5, kernel_size=(3, 3), padding=\"same\", return_sequences=True\n",
    "#         ),\n",
    "#         layers.BatchNormalization(),\n",
    "#         layers.Conv3D(\n",
    "#             filters=1, kernel_size=(3, 3, 3), activation=\"sigmoid\", padding=\"same\"\n",
    "#         ),\n",
    "    ]\n",
    ")\n",
    "seq.compile(loss=\"mae\", optimizer=keras.optimizers.Adam(lr=0.01),metrics=['mse'])"
   ]
  },
  {
   "cell_type": "code",
   "execution_count": 8,
   "metadata": {
    "execution": {
     "iopub.execute_input": "2020-11-28T06:42:30.522182Z",
     "iopub.status.busy": "2020-11-28T06:42:30.522052Z",
     "iopub.status.idle": "2020-11-28T06:42:30.527939Z",
     "shell.execute_reply": "2020-11-28T06:42:30.527300Z",
     "shell.execute_reply.started": "2020-11-28T06:42:30.522166Z"
    }
   },
   "outputs": [
    {
     "name": "stdout",
     "output_type": "stream",
     "text": [
      "Model: \"sequential\"\n",
      "_________________________________________________________________\n",
      "Layer (type)                 Output Shape              Param #   \n",
      "=================================================================\n",
      "conv_lst_m2d (ConvLSTM2D)    (None, None, 300, 300, 5) 1460      \n",
      "_________________________________________________________________\n",
      "layer_normalization (LayerNo (None, None, 300, 300, 5) 10        \n",
      "_________________________________________________________________\n",
      "conv_lst_m2d_1 (ConvLSTM2D)  (None, None, 300, 300, 3) 876       \n",
      "=================================================================\n",
      "Total params: 2,346\n",
      "Trainable params: 2,346\n",
      "Non-trainable params: 0\n",
      "_________________________________________________________________\n"
     ]
    }
   ],
   "source": [
    "seq.summary()"
   ]
  },
  {
   "cell_type": "code",
   "execution_count": 9,
   "metadata": {
    "execution": {
     "iopub.execute_input": "2020-11-28T06:42:30.528753Z",
     "iopub.status.busy": "2020-11-28T06:42:30.528631Z",
     "iopub.status.idle": "2020-11-28T10:05:19.866469Z",
     "shell.execute_reply": "2020-11-28T10:05:19.865924Z",
     "shell.execute_reply.started": "2020-11-28T06:42:30.528738Z"
    }
   },
   "outputs": [
    {
     "name": "stdout",
     "output_type": "stream",
     "text": [
      "Epoch 1/500\n",
      "17/17 [==============================] - 36s 2s/step - loss: 20.8943 - mse: 1257.8346 - val_loss: 24.8944 - val_mse: 1640.4677\n",
      "Epoch 2/500\n",
      "17/17 [==============================] - 23s 1s/step - loss: 20.8380 - mse: 1252.9521 - val_loss: 24.8912 - val_mse: 1640.4641\n",
      "Epoch 3/500\n",
      "17/17 [==============================] - 23s 1s/step - loss: 20.8388 - mse: 1252.9512 - val_loss: 24.8910 - val_mse: 1640.4639\n",
      "Epoch 4/500\n",
      "17/17 [==============================] - 23s 1s/step - loss: 20.8377 - mse: 1252.9512 - val_loss: 24.8959 - val_mse: 1640.4648\n",
      "Epoch 5/500\n",
      "17/17 [==============================] - 23s 1s/step - loss: 20.8384 - mse: 1252.9510 - val_loss: 24.8906 - val_mse: 1640.4641\n",
      "Epoch 6/500\n",
      "17/17 [==============================] - 23s 1s/step - loss: 20.8378 - mse: 1252.9512 - val_loss: 24.8869 - val_mse: 1640.4634\n",
      "Epoch 7/500\n",
      "17/17 [==============================] - 23s 1s/step - loss: 20.8385 - mse: 1252.9512 - val_loss: 24.8976 - val_mse: 1640.4656\n",
      "Epoch 8/500\n",
      "17/17 [==============================] - 23s 1s/step - loss: 20.8370 - mse: 1252.9514 - val_loss: 24.8841 - val_mse: 1640.4636\n",
      "Epoch 9/500\n",
      "17/17 [==============================] - 23s 1s/step - loss: 20.8378 - mse: 1252.9514 - val_loss: 24.8856 - val_mse: 1640.4639\n",
      "Epoch 10/500\n",
      "17/17 [==============================] - 23s 1s/step - loss: 20.8375 - mse: 1252.9515 - val_loss: 24.8839 - val_mse: 1640.4639\n",
      "Epoch 11/500\n",
      "17/17 [==============================] - 23s 1s/step - loss: 20.8381 - mse: 1252.9515 - val_loss: 24.8907 - val_mse: 1640.4648\n",
      "Epoch 12/500\n",
      "17/17 [==============================] - 23s 1s/step - loss: 20.8371 - mse: 1252.9519 - val_loss: 24.8977 - val_mse: 1640.4662\n",
      "Epoch 13/500\n",
      "17/17 [==============================] - 23s 1s/step - loss: 20.8383 - mse: 1252.9521 - val_loss: 24.8932 - val_mse: 1640.4658\n",
      "Epoch 14/500\n",
      "17/17 [==============================] - 23s 1s/step - loss: 20.8374 - mse: 1252.9523 - val_loss: 24.8924 - val_mse: 1640.4657\n",
      "Epoch 15/500\n",
      "17/17 [==============================] - 23s 1s/step - loss: 20.8373 - mse: 1252.9523 - val_loss: 24.8902 - val_mse: 1640.4653\n",
      "Epoch 16/500\n",
      "17/17 [==============================] - 23s 1s/step - loss: 20.8371 - mse: 1252.9523 - val_loss: 24.8876 - val_mse: 1640.4651\n",
      "Epoch 17/500\n",
      "17/17 [==============================] - 23s 1s/step - loss: 20.8373 - mse: 1252.9521 - val_loss: 24.8920 - val_mse: 1640.4656\n",
      "Epoch 18/500\n",
      "17/17 [==============================] - 23s 1s/step - loss: 20.8380 - mse: 1252.9524 - val_loss: 24.8841 - val_mse: 1640.4648\n",
      "Epoch 19/500\n",
      "17/17 [==============================] - 23s 1s/step - loss: 20.8374 - mse: 1252.9526 - val_loss: 24.8858 - val_mse: 1640.4656\n",
      "Epoch 20/500\n",
      "17/17 [==============================] - 23s 1s/step - loss: 20.8370 - mse: 1252.9529 - val_loss: 24.8826 - val_mse: 1640.4652\n",
      "Epoch 21/500\n",
      "17/17 [==============================] - 23s 1s/step - loss: 20.8370 - mse: 1252.9529 - val_loss: 24.8933 - val_mse: 1640.4663\n",
      "Epoch 22/500\n",
      "17/17 [==============================] - 23s 1s/step - loss: 20.8368 - mse: 1252.9526 - val_loss: 24.8819 - val_mse: 1640.4650\n",
      "Epoch 23/500\n",
      "17/17 [==============================] - 23s 1s/step - loss: 20.8371 - mse: 1252.9529 - val_loss: 24.8886 - val_mse: 1640.4658\n",
      "Epoch 24/500\n",
      "17/17 [==============================] - 23s 1s/step - loss: 20.8367 - mse: 1252.9528 - val_loss: 24.8892 - val_mse: 1640.4655\n",
      "Epoch 25/500\n",
      "17/17 [==============================] - 23s 1s/step - loss: 20.8365 - mse: 1252.9526 - val_loss: 24.8885 - val_mse: 1640.4653\n",
      "Epoch 26/500\n",
      "17/17 [==============================] - 23s 1s/step - loss: 20.8373 - mse: 1252.9525 - val_loss: 24.8841 - val_mse: 1640.4646\n",
      "Epoch 27/500\n",
      "17/17 [==============================] - 23s 1s/step - loss: 20.8368 - mse: 1252.9526 - val_loss: 24.8885 - val_mse: 1640.4647\n",
      "Epoch 28/500\n",
      "17/17 [==============================] - 23s 1s/step - loss: 20.8370 - mse: 1252.9524 - val_loss: 24.8886 - val_mse: 1640.4495\n",
      "Epoch 29/500\n",
      "17/17 [==============================] - 23s 1s/step - loss: 20.8192 - mse: 1252.7950 - val_loss: 24.5690 - val_mse: 1637.8569\n",
      "Epoch 30/500\n",
      "17/17 [==============================] - 23s 1s/step - loss: 20.8268 - mse: 1252.6375 - val_loss: 24.5653 - val_mse: 1637.7723\n",
      "Epoch 31/500\n",
      "17/17 [==============================] - 23s 1s/step - loss: 20.8256 - mse: 1252.6332 - val_loss: 24.5675 - val_mse: 1637.7703\n",
      "Epoch 32/500\n",
      "17/17 [==============================] - 23s 1s/step - loss: 20.8179 - mse: 1252.6299 - val_loss: 24.6872 - val_mse: 1638.7341\n",
      "Epoch 33/500\n",
      "17/17 [==============================] - 23s 1s/step - loss: 20.8044 - mse: 1252.7570 - val_loss: 24.7072 - val_mse: 1638.8931\n",
      "Epoch 34/500\n",
      "17/17 [==============================] - 23s 1s/step - loss: 20.7950 - mse: 1252.6703 - val_loss: 24.6852 - val_mse: 1638.7227\n",
      "Epoch 35/500\n",
      "17/17 [==============================] - 23s 1s/step - loss: 20.8014 - mse: 1252.6742 - val_loss: 24.8735 - val_mse: 1640.0623\n",
      "Epoch 36/500\n",
      "17/17 [==============================] - 23s 1s/step - loss: 20.8371 - mse: 1252.9357 - val_loss: 24.8150 - val_mse: 1639.5220\n",
      "Epoch 37/500\n",
      "17/17 [==============================] - 23s 1s/step - loss: 20.8128 - mse: 1252.6769 - val_loss: 24.6426 - val_mse: 1638.2926\n",
      "Epoch 38/500\n",
      "17/17 [==============================] - 23s 1s/step - loss: 20.8178 - mse: 1252.6464 - val_loss: 24.6381 - val_mse: 1638.3022\n",
      "Epoch 39/500\n",
      "17/17 [==============================] - 23s 1s/step - loss: 20.8166 - mse: 1252.6464 - val_loss: 24.6453 - val_mse: 1638.3242\n",
      "Epoch 40/500\n",
      "17/17 [==============================] - 23s 1s/step - loss: 20.7733 - mse: 1252.5465 - val_loss: 24.6988 - val_mse: 1638.6134\n",
      "Epoch 41/500\n",
      "17/17 [==============================] - 23s 1s/step - loss: 20.7206 - mse: 1252.4476 - val_loss: 24.6353 - val_mse: 1638.2836\n",
      "Epoch 42/500\n",
      "17/17 [==============================] - 23s 1s/step - loss: 20.7138 - mse: 1252.4321 - val_loss: 24.6330 - val_mse: 1638.2828\n",
      "Epoch 43/500\n",
      "17/17 [==============================] - 23s 1s/step - loss: 20.7121 - mse: 1252.4302 - val_loss: 24.6294 - val_mse: 1638.2820\n",
      "Epoch 44/500\n",
      "17/17 [==============================] - 23s 1s/step - loss: 20.7099 - mse: 1252.4288 - val_loss: 24.6284 - val_mse: 1638.2820\n",
      "Epoch 45/500\n",
      "17/17 [==============================] - 23s 1s/step - loss: 20.7102 - mse: 1252.4291 - val_loss: 24.6339 - val_mse: 1638.2827\n",
      "Epoch 46/500\n",
      "17/17 [==============================] - 23s 1s/step - loss: 20.7082 - mse: 1252.4277 - val_loss: 24.6308 - val_mse: 1638.2825\n",
      "Epoch 47/500\n",
      "17/17 [==============================] - 23s 1s/step - loss: 20.7091 - mse: 1252.4279 - val_loss: 24.6365 - val_mse: 1638.2830\n",
      "Epoch 48/500\n",
      "17/17 [==============================] - 23s 1s/step - loss: 20.7091 - mse: 1252.4275 - val_loss: 24.6313 - val_mse: 1638.2821\n",
      "Epoch 49/500\n",
      "17/17 [==============================] - 23s 1s/step - loss: 20.7130 - mse: 1252.4291 - val_loss: 24.6325 - val_mse: 1638.2822\n",
      "Epoch 50/500\n",
      "17/17 [==============================] - 23s 1s/step - loss: 20.7111 - mse: 1252.4281 - val_loss: 24.6322 - val_mse: 1638.2820\n",
      "Epoch 51/500\n",
      "17/17 [==============================] - 23s 1s/step - loss: 20.7081 - mse: 1252.4269 - val_loss: 24.6293 - val_mse: 1638.2817\n",
      "Epoch 52/500\n",
      "17/17 [==============================] - 23s 1s/step - loss: 20.7077 - mse: 1252.4264 - val_loss: 24.6277 - val_mse: 1638.2812\n",
      "Epoch 53/500\n",
      "17/17 [==============================] - 23s 1s/step - loss: 20.7088 - mse: 1252.4268 - val_loss: 24.6325 - val_mse: 1638.2820\n",
      "Epoch 54/500\n",
      "17/17 [==============================] - 23s 1s/step - loss: 20.7069 - mse: 1252.4261 - val_loss: 24.6300 - val_mse: 1638.2817\n",
      "Epoch 55/500\n",
      "17/17 [==============================] - 23s 1s/step - loss: 20.7060 - mse: 1252.4258 - val_loss: 24.6303 - val_mse: 1638.2817\n",
      "Epoch 56/500\n",
      "17/17 [==============================] - 23s 1s/step - loss: 20.7057 - mse: 1252.4255 - val_loss: 24.6303 - val_mse: 1638.2817\n",
      "Epoch 57/500\n",
      "17/17 [==============================] - 23s 1s/step - loss: 20.7052 - mse: 1252.4255 - val_loss: 24.6311 - val_mse: 1638.2816\n",
      "Epoch 58/500\n",
      "17/17 [==============================] - 23s 1s/step - loss: 20.7066 - mse: 1252.4255 - val_loss: 24.6332 - val_mse: 1638.2815\n",
      "Epoch 59/500\n",
      "17/17 [==============================] - 23s 1s/step - loss: 20.7056 - mse: 1252.4254 - val_loss: 24.6347 - val_mse: 1638.2815\n",
      "Epoch 60/500\n",
      "17/17 [==============================] - 23s 1s/step - loss: 20.7053 - mse: 1252.4252 - val_loss: 24.6280 - val_mse: 1638.2795\n",
      "Epoch 61/500\n",
      "17/17 [==============================] - 23s 1s/step - loss: 20.7047 - mse: 1252.4235 - val_loss: 24.5977 - val_mse: 1638.0457\n",
      "Epoch 62/500\n",
      "17/17 [==============================] - 23s 1s/step - loss: 20.6923 - mse: 1252.3387 - val_loss: 24.5598 - val_mse: 1637.7389\n",
      "Epoch 63/500\n",
      "17/17 [==============================] - 23s 1s/step - loss: 20.6966 - mse: 1252.3273 - val_loss: 24.5572 - val_mse: 1637.7382\n",
      "Epoch 64/500\n",
      "17/17 [==============================] - 23s 1s/step - loss: 20.6817 - mse: 1252.3173 - val_loss: 24.5635 - val_mse: 1637.7390\n",
      "Epoch 65/500\n",
      "17/17 [==============================] - 23s 1s/step - loss: 20.6814 - mse: 1252.3174 - val_loss: 24.5633 - val_mse: 1637.7386\n",
      "Epoch 66/500\n",
      "17/17 [==============================] - 23s 1s/step - loss: 20.6763 - mse: 1252.3142 - val_loss: 24.5582 - val_mse: 1637.7375\n",
      "Epoch 67/500\n",
      "17/17 [==============================] - 23s 1s/step - loss: 20.6755 - mse: 1252.3130 - val_loss: 24.5568 - val_mse: 1637.7374\n",
      "Epoch 68/500\n",
      "17/17 [==============================] - 23s 1s/step - loss: 20.6749 - mse: 1252.3125 - val_loss: 24.5562 - val_mse: 1637.7374\n",
      "Epoch 69/500\n",
      "17/17 [==============================] - 23s 1s/step - loss: 20.6752 - mse: 1252.3125 - val_loss: 24.5563 - val_mse: 1637.7372\n",
      "Epoch 70/500\n",
      "17/17 [==============================] - 23s 1s/step - loss: 20.6752 - mse: 1252.3120 - val_loss: 24.5561 - val_mse: 1637.7373\n",
      "Epoch 71/500\n",
      "17/17 [==============================] - 23s 1s/step - loss: 20.6748 - mse: 1252.3124 - val_loss: 24.5604 - val_mse: 1637.7379\n",
      "Epoch 72/500\n",
      "17/17 [==============================] - 23s 1s/step - loss: 20.6745 - mse: 1252.3121 - val_loss: 24.5594 - val_mse: 1637.7378\n",
      "Epoch 73/500\n",
      "17/17 [==============================] - 23s 1s/step - loss: 20.6744 - mse: 1252.3129 - val_loss: 24.5573 - val_mse: 1637.7374\n",
      "Epoch 74/500\n",
      "17/17 [==============================] - 23s 1s/step - loss: 20.6744 - mse: 1252.3120 - val_loss: 24.5562 - val_mse: 1637.7371\n",
      "Epoch 75/500\n",
      "17/17 [==============================] - 23s 1s/step - loss: 20.6744 - mse: 1252.3116 - val_loss: 24.5563 - val_mse: 1637.7372\n",
      "Epoch 76/500\n",
      "17/17 [==============================] - 23s 1s/step - loss: 20.6750 - mse: 1252.3118 - val_loss: 24.5581 - val_mse: 1637.7374\n",
      "Epoch 77/500\n",
      "17/17 [==============================] - 23s 1s/step - loss: 20.6743 - mse: 1252.3102 - val_loss: 24.5574 - val_mse: 1637.7374\n",
      "Epoch 78/500\n",
      "17/17 [==============================] - 23s 1s/step - loss: 20.6745 - mse: 1252.3103 - val_loss: 24.5613 - val_mse: 1637.7379\n",
      "Epoch 79/500\n",
      "17/17 [==============================] - 23s 1s/step - loss: 20.6745 - mse: 1252.3103 - val_loss: 24.5591 - val_mse: 1637.7377\n",
      "Epoch 80/500\n",
      "17/17 [==============================] - 23s 1s/step - loss: 20.6736 - mse: 1252.3104 - val_loss: 24.5621 - val_mse: 1637.7382\n",
      "Epoch 81/500\n",
      "17/17 [==============================] - 23s 1s/step - loss: 20.6754 - mse: 1252.3108 - val_loss: 24.5646 - val_mse: 1637.7386\n",
      "Epoch 82/500\n",
      "17/17 [==============================] - 23s 1s/step - loss: 20.6736 - mse: 1252.3104 - val_loss: 24.5603 - val_mse: 1637.7379\n",
      "Epoch 83/500\n",
      "17/17 [==============================] - 23s 1s/step - loss: 20.6741 - mse: 1252.3109 - val_loss: 24.5621 - val_mse: 1637.7382\n",
      "Epoch 84/500\n",
      "17/17 [==============================] - 23s 1s/step - loss: 20.6740 - mse: 1252.3101 - val_loss: 24.5585 - val_mse: 1637.7374\n",
      "Epoch 90/500\n",
      "17/17 [==============================] - 23s 1s/step - loss: 20.6760 - mse: 1252.3103 - val_loss: 24.5603 - val_mse: 1637.7377\n",
      "Epoch 91/500\n",
      "17/17 [==============================] - 23s 1s/step - loss: 20.6781 - mse: 1252.3109 - val_loss: 24.5588 - val_mse: 1637.7374\n",
      "Epoch 92/500\n",
      "17/17 [==============================] - 23s 1s/step - loss: 20.6769 - mse: 1252.3109 - val_loss: 24.5568 - val_mse: 1637.7373\n",
      "Epoch 93/500\n",
      "17/17 [==============================] - 23s 1s/step - loss: 20.6779 - mse: 1252.3120 - val_loss: 24.5579 - val_mse: 1637.7374\n",
      "Epoch 94/500\n",
      "17/17 [==============================] - 23s 1s/step - loss: 20.6804 - mse: 1252.3125 - val_loss: 24.5578 - val_mse: 1637.7374\n",
      "Epoch 95/500\n",
      "17/17 [==============================] - 23s 1s/step - loss: 20.6830 - mse: 1252.3135 - val_loss: 24.5591 - val_mse: 1637.7374\n",
      "Epoch 96/500\n",
      "17/17 [==============================] - 25s 1s/step - loss: 20.6772 - mse: 1252.3121 - val_loss: 24.5625 - val_mse: 1637.7379\n",
      "Epoch 97/500\n",
      "17/17 [==============================] - 23s 1s/step - loss: 20.6755 - mse: 1252.3103 - val_loss: 24.5589 - val_mse: 1637.7373\n",
      "Epoch 98/500\n",
      "17/17 [==============================] - 23s 1s/step - loss: 20.6735 - mse: 1252.3102 - val_loss: 24.5634 - val_mse: 1637.7380\n",
      "Epoch 99/500\n",
      "17/17 [==============================] - 23s 1s/step - loss: 20.6741 - mse: 1252.3099 - val_loss: 24.5594 - val_mse: 1637.7374\n",
      "Epoch 100/500\n",
      "17/17 [==============================] - 23s 1s/step - loss: 20.6728 - mse: 1252.3101 - val_loss: 24.5589 - val_mse: 1637.7374\n",
      "Epoch 101/500\n",
      "17/17 [==============================] - 23s 1s/step - loss: 20.6741 - mse: 1252.3103 - val_loss: 24.5603 - val_mse: 1637.7375\n",
      "Epoch 102/500\n",
      "17/17 [==============================] - 23s 1s/step - loss: 20.6735 - mse: 1252.3101 - val_loss: 24.5585 - val_mse: 1637.7373\n",
      "Epoch 103/500\n",
      "17/17 [==============================] - 23s 1s/step - loss: 20.6754 - mse: 1252.3102 - val_loss: 24.5564 - val_mse: 1637.7371\n",
      "Epoch 104/500\n",
      "17/17 [==============================] - 23s 1s/step - loss: 20.6760 - mse: 1252.3104 - val_loss: 24.5571 - val_mse: 1637.7366\n",
      "Epoch 105/500\n",
      "17/17 [==============================] - 23s 1s/step - loss: 20.6759 - mse: 1252.3105 - val_loss: 24.5609 - val_mse: 1637.7375\n",
      "Epoch 106/500\n",
      "17/17 [==============================] - 23s 1s/step - loss: 20.6740 - mse: 1252.3098 - val_loss: 24.5605 - val_mse: 1637.7375\n",
      "Epoch 107/500\n",
      "17/17 [==============================] - 23s 1s/step - loss: 20.6736 - mse: 1252.3097 - val_loss: 24.5596 - val_mse: 1637.7374\n",
      "Epoch 108/500\n",
      "17/17 [==============================] - 23s 1s/step - loss: 20.6733 - mse: 1252.3097 - val_loss: 24.5586 - val_mse: 1637.7373\n",
      "Epoch 109/500\n",
      "17/17 [==============================] - 23s 1s/step - loss: 20.6775 - mse: 1252.3105 - val_loss: 24.5599 - val_mse: 1637.7374\n",
      "Epoch 110/500\n",
      "17/17 [==============================] - 23s 1s/step - loss: 20.6738 - mse: 1252.3098 - val_loss: 24.5642 - val_mse: 1637.7382\n",
      "Epoch 111/500\n",
      "17/17 [==============================] - 23s 1s/step - loss: 20.6732 - mse: 1252.3097 - val_loss: 24.5614 - val_mse: 1637.7377\n",
      "Epoch 112/500\n",
      "17/17 [==============================] - 23s 1s/step - loss: 20.6734 - mse: 1252.3098 - val_loss: 24.5632 - val_mse: 1637.7380\n",
      "Epoch 113/500\n",
      "17/17 [==============================] - 23s 1s/step - loss: 20.6730 - mse: 1252.3098 - val_loss: 24.5653 - val_mse: 1637.7384\n",
      "Epoch 114/500\n",
      "17/17 [==============================] - 23s 1s/step - loss: 20.6733 - mse: 1252.3097 - val_loss: 24.5634 - val_mse: 1637.7380\n",
      "Epoch 115/500\n",
      "17/17 [==============================] - 23s 1s/step - loss: 20.6747 - mse: 1252.3102 - val_loss: 24.5635 - val_mse: 1637.7382\n",
      "Epoch 116/500\n",
      "17/17 [==============================] - 23s 1s/step - loss: 20.6753 - mse: 1252.3102 - val_loss: 24.5600 - val_mse: 1637.7375\n",
      "Epoch 117/500\n",
      "17/17 [==============================] - 23s 1s/step - loss: 20.6733 - mse: 1252.3098 - val_loss: 24.5614 - val_mse: 1637.7377\n",
      "Epoch 118/500\n",
      "17/17 [==============================] - 23s 1s/step - loss: 20.6728 - mse: 1252.3096 - val_loss: 24.5614 - val_mse: 1637.7375\n",
      "Epoch 119/500\n",
      "17/17 [==============================] - 23s 1s/step - loss: 20.6741 - mse: 1252.3098 - val_loss: 24.5603 - val_mse: 1637.7374\n",
      "Epoch 120/500\n",
      "17/17 [==============================] - 23s 1s/step - loss: 20.6734 - mse: 1252.3097 - val_loss: 24.5589 - val_mse: 1637.7373\n",
      "Epoch 121/500\n",
      "17/17 [==============================] - 23s 1s/step - loss: 20.6745 - mse: 1252.3098 - val_loss: 24.5576 - val_mse: 1637.7373\n",
      "Epoch 122/500\n",
      "17/17 [==============================] - 23s 1s/step - loss: 20.6739 - mse: 1252.3098 - val_loss: 24.5594 - val_mse: 1637.7373\n",
      "Epoch 123/500\n",
      "17/17 [==============================] - 23s 1s/step - loss: 20.6729 - mse: 1252.3093 - val_loss: 24.5592 - val_mse: 1637.7373\n",
      "Epoch 124/500\n",
      "17/17 [==============================] - 23s 1s/step - loss: 20.6724 - mse: 1252.3093 - val_loss: 24.5589 - val_mse: 1637.7373\n",
      "Epoch 125/500\n",
      "17/17 [==============================] - 23s 1s/step - loss: 20.6731 - mse: 1252.3096 - val_loss: 24.5597 - val_mse: 1637.7374\n",
      "Epoch 126/500\n",
      "17/17 [==============================] - 23s 1s/step - loss: 20.6736 - mse: 1252.3097 - val_loss: 24.5622 - val_mse: 1637.7379\n",
      "Epoch 127/500\n",
      "17/17 [==============================] - 23s 1s/step - loss: 20.6748 - mse: 1252.3098 - val_loss: 24.5601 - val_mse: 1637.7374\n",
      "Epoch 128/500\n",
      "17/17 [==============================] - 23s 1s/step - loss: 20.6732 - mse: 1252.3094 - val_loss: 24.5590 - val_mse: 1637.7373\n",
      "Epoch 129/500\n",
      "17/17 [==============================] - 23s 1s/step - loss: 20.6722 - mse: 1252.3092 - val_loss: 24.5585 - val_mse: 1637.7373\n",
      "Epoch 130/500\n",
      "17/17 [==============================] - 23s 1s/step - loss: 20.6723 - mse: 1252.3093 - val_loss: 24.5622 - val_mse: 1637.7379\n",
      "Epoch 131/500\n",
      "17/17 [==============================] - 23s 1s/step - loss: 20.6727 - mse: 1252.3092 - val_loss: 24.5636 - val_mse: 1637.7379\n",
      "Epoch 132/500\n",
      "17/17 [==============================] - 23s 1s/step - loss: 20.6727 - mse: 1252.3094 - val_loss: 24.5634 - val_mse: 1637.7379\n",
      "Epoch 133/500\n",
      "17/17 [==============================] - 23s 1s/step - loss: 20.6726 - mse: 1252.3093 - val_loss: 24.5628 - val_mse: 1637.7378\n",
      "Epoch 134/500\n",
      "17/17 [==============================] - 23s 1s/step - loss: 20.6728 - mse: 1252.3094 - val_loss: 24.5648 - val_mse: 1637.7382\n",
      "Epoch 135/500\n",
      "17/17 [==============================] - 23s 1s/step - loss: 20.6732 - mse: 1252.3093 - val_loss: 24.5581 - val_mse: 1637.7372\n",
      "Epoch 136/500\n",
      "17/17 [==============================] - 23s 1s/step - loss: 20.6751 - mse: 1252.3094 - val_loss: 24.5566 - val_mse: 1637.7369\n",
      "Epoch 137/500\n",
      "17/17 [==============================] - 23s 1s/step - loss: 20.6733 - mse: 1252.3094 - val_loss: 24.5575 - val_mse: 1637.7371\n",
      "Epoch 138/500\n",
      "17/17 [==============================] - 23s 1s/step - loss: 20.6724 - mse: 1252.3091 - val_loss: 24.5600 - val_mse: 1637.7373\n",
      "Epoch 139/500\n",
      "17/17 [==============================] - 23s 1s/step - loss: 20.6722 - mse: 1252.3093 - val_loss: 24.5598 - val_mse: 1637.7374\n",
      "Epoch 140/500\n",
      "17/17 [==============================] - 23s 1s/step - loss: 20.6725 - mse: 1252.3091 - val_loss: 24.5597 - val_mse: 1637.7373\n",
      "Epoch 141/500\n",
      "17/17 [==============================] - 23s 1s/step - loss: 20.6726 - mse: 1252.3092 - val_loss: 24.5638 - val_mse: 1637.7380\n",
      "Epoch 142/500\n",
      "17/17 [==============================] - 23s 1s/step - loss: 20.6725 - mse: 1252.3093 - val_loss: 24.5653 - val_mse: 1637.7382\n",
      "Epoch 143/500\n",
      "17/17 [==============================] - 23s 1s/step - loss: 20.6728 - mse: 1252.3092 - val_loss: 24.5611 - val_mse: 1637.7374\n",
      "Epoch 144/500\n",
      "17/17 [==============================] - 23s 1s/step - loss: 20.6729 - mse: 1252.3092 - val_loss: 24.5592 - val_mse: 1637.7373\n",
      "Epoch 145/500\n",
      "17/17 [==============================] - 23s 1s/step - loss: 20.6758 - mse: 1252.3099 - val_loss: 24.5568 - val_mse: 1637.7371\n",
      "Epoch 146/500\n",
      "17/17 [==============================] - 23s 1s/step - loss: 20.6728 - mse: 1252.3094 - val_loss: 24.5611 - val_mse: 1637.7375\n",
      "Epoch 147/500\n",
      "17/17 [==============================] - 23s 1s/step - loss: 20.6729 - mse: 1252.3092 - val_loss: 24.5617 - val_mse: 1637.7375\n",
      "Epoch 148/500\n",
      "17/17 [==============================] - 23s 1s/step - loss: 20.6721 - mse: 1252.3091 - val_loss: 24.5630 - val_mse: 1637.7379\n",
      "Epoch 149/500\n",
      "17/17 [==============================] - 23s 1s/step - loss: 20.6734 - mse: 1252.3093 - val_loss: 24.5629 - val_mse: 1637.7380\n",
      "Epoch 150/500\n",
      "17/17 [==============================] - 23s 1s/step - loss: 20.6734 - mse: 1252.3093 - val_loss: 24.5627 - val_mse: 1637.7379\n",
      "Epoch 151/500\n",
      "17/17 [==============================] - 23s 1s/step - loss: 20.6725 - mse: 1252.3092 - val_loss: 24.5596 - val_mse: 1637.7373\n",
      "Epoch 152/500\n",
      "17/17 [==============================] - 23s 1s/step - loss: 20.6726 - mse: 1252.3092 - val_loss: 24.5578 - val_mse: 1637.7372\n",
      "Epoch 153/500\n",
      "17/17 [==============================] - 23s 1s/step - loss: 20.6718 - mse: 1252.3092 - val_loss: 24.5573 - val_mse: 1637.7371\n",
      "Epoch 154/500\n",
      "17/17 [==============================] - 23s 1s/step - loss: 20.6718 - mse: 1252.3091 - val_loss: 24.5565 - val_mse: 1637.7369\n",
      "Epoch 155/500\n",
      "17/17 [==============================] - 23s 1s/step - loss: 20.6726 - mse: 1252.3091 - val_loss: 24.5572 - val_mse: 1637.7371\n",
      "Epoch 156/500\n",
      "17/17 [==============================] - 23s 1s/step - loss: 20.6722 - mse: 1252.3091 - val_loss: 24.5609 - val_mse: 1637.7374\n",
      "Epoch 157/500\n",
      "17/17 [==============================] - 23s 1s/step - loss: 20.6728 - mse: 1252.3092 - val_loss: 24.5580 - val_mse: 1637.7372\n",
      "Epoch 158/500\n",
      "17/17 [==============================] - 23s 1s/step - loss: 20.6757 - mse: 1252.3101 - val_loss: 24.5620 - val_mse: 1637.7377\n",
      "Epoch 159/500\n",
      "17/17 [==============================] - 23s 1s/step - loss: 20.6740 - mse: 1252.3096 - val_loss: 24.5617 - val_mse: 1637.7374\n",
      "Epoch 160/500\n",
      "17/17 [==============================] - 23s 1s/step - loss: 20.6724 - mse: 1252.3092 - val_loss: 24.5635 - val_mse: 1637.7379\n",
      "Epoch 161/500\n",
      "17/17 [==============================] - 23s 1s/step - loss: 20.6724 - mse: 1252.3093 - val_loss: 24.5617 - val_mse: 1637.7375\n",
      "Epoch 162/500\n",
      "17/17 [==============================] - 23s 1s/step - loss: 20.6719 - mse: 1252.3090 - val_loss: 24.5612 - val_mse: 1637.7374\n",
      "Epoch 163/500\n",
      "17/17 [==============================] - 23s 1s/step - loss: 20.6718 - mse: 1252.3091 - val_loss: 24.5626 - val_mse: 1637.7379\n",
      "Epoch 164/500\n",
      "17/17 [==============================] - 23s 1s/step - loss: 20.6725 - mse: 1252.3090 - val_loss: 24.5641 - val_mse: 1637.7380\n",
      "Epoch 165/500\n",
      "17/17 [==============================] - 23s 1s/step - loss: 20.6728 - mse: 1252.3090 - val_loss: 24.5597 - val_mse: 1637.7373\n",
      "Epoch 166/500\n",
      "17/17 [==============================] - 23s 1s/step - loss: 20.6725 - mse: 1252.3088 - val_loss: 24.5646 - val_mse: 1637.7382\n",
      "Epoch 167/500\n",
      "17/17 [==============================] - 23s 1s/step - loss: 20.6739 - mse: 1252.3090 - val_loss: 24.5637 - val_mse: 1637.7380\n",
      "Epoch 168/500\n",
      "17/17 [==============================] - 23s 1s/step - loss: 20.6761 - mse: 1252.3097 - val_loss: 24.5620 - val_mse: 1637.7375\n",
      "Epoch 169/500\n",
      "17/17 [==============================] - 23s 1s/step - loss: 20.6751 - mse: 1252.3097 - val_loss: 24.5640 - val_mse: 1637.7378\n",
      "Epoch 170/500\n",
      "17/17 [==============================] - 23s 1s/step - loss: 20.6791 - mse: 1252.3110 - val_loss: 24.5613 - val_mse: 1637.7374\n",
      "Epoch 171/500\n",
      "17/17 [==============================] - 23s 1s/step - loss: 20.6742 - mse: 1252.3096 - val_loss: 24.5621 - val_mse: 1637.7377\n",
      "Epoch 172/500\n",
      "17/17 [==============================] - 23s 1s/step - loss: 20.6727 - mse: 1252.3091 - val_loss: 24.5615 - val_mse: 1637.7374\n",
      "Epoch 173/500\n",
      "17/17 [==============================] - 23s 1s/step - loss: 20.6725 - mse: 1252.3091 - val_loss: 24.5643 - val_mse: 1637.7379\n",
      "Epoch 174/500\n",
      "17/17 [==============================] - 23s 1s/step - loss: 20.6747 - mse: 1252.3096 - val_loss: 24.5597 - val_mse: 1637.7373\n",
      "Epoch 175/500\n",
      "17/17 [==============================] - 23s 1s/step - loss: 20.6736 - mse: 1252.3091 - val_loss: 24.5590 - val_mse: 1637.7373\n",
      "Epoch 176/500\n",
      "17/17 [==============================] - 23s 1s/step - loss: 20.6732 - mse: 1252.3087 - val_loss: 24.5595 - val_mse: 1637.7373\n",
      "Epoch 177/500\n",
      "17/17 [==============================] - 23s 1s/step - loss: 20.6727 - mse: 1252.3090 - val_loss: 24.5593 - val_mse: 1637.7373\n",
      "Epoch 178/500\n",
      "17/17 [==============================] - 23s 1s/step - loss: 20.6729 - mse: 1252.3087 - val_loss: 24.5606 - val_mse: 1637.7373\n",
      "Epoch 179/500\n",
      "17/17 [==============================] - 23s 1s/step - loss: 20.6742 - mse: 1252.3090 - val_loss: 24.5653 - val_mse: 1637.7382\n",
      "Epoch 180/500\n",
      "17/17 [==============================] - 23s 1s/step - loss: 20.6732 - mse: 1252.3090 - val_loss: 24.5595 - val_mse: 1637.7373\n",
      "Epoch 181/500\n",
      "17/17 [==============================] - 23s 1s/step - loss: 20.6725 - mse: 1252.3092 - val_loss: 24.5589 - val_mse: 1637.7373\n",
      "Epoch 182/500\n",
      "17/17 [==============================] - 23s 1s/step - loss: 20.6723 - mse: 1252.3087 - val_loss: 24.5606 - val_mse: 1637.7374\n",
      "Epoch 183/500\n",
      "17/17 [==============================] - 23s 1s/step - loss: 20.6735 - mse: 1252.3091 - val_loss: 24.5598 - val_mse: 1637.7373\n",
      "Epoch 184/500\n",
      "17/17 [==============================] - 23s 1s/step - loss: 20.6730 - mse: 1252.3091 - val_loss: 24.5586 - val_mse: 1637.7372\n",
      "Epoch 185/500\n",
      "17/17 [==============================] - 23s 1s/step - loss: 20.6730 - mse: 1252.3088 - val_loss: 24.5575 - val_mse: 1637.7371\n",
      "Epoch 186/500\n",
      "17/17 [==============================] - 23s 1s/step - loss: 20.6728 - mse: 1252.3086 - val_loss: 24.5586 - val_mse: 1637.7372\n",
      "Epoch 187/500\n",
      "17/17 [==============================] - 23s 1s/step - loss: 20.6721 - mse: 1252.3087 - val_loss: 24.5604 - val_mse: 1637.7373\n",
      "Epoch 188/500\n",
      "17/17 [==============================] - 23s 1s/step - loss: 20.6730 - mse: 1252.3088 - val_loss: 24.5586 - val_mse: 1637.7372\n",
      "Epoch 189/500\n",
      "17/17 [==============================] - 23s 1s/step - loss: 20.6723 - mse: 1252.3087 - val_loss: 24.5612 - val_mse: 1637.7374\n",
      "Epoch 190/500\n",
      "17/17 [==============================] - 23s 1s/step - loss: 20.6719 - mse: 1252.3087 - val_loss: 24.5615 - val_mse: 1637.7374\n",
      "Epoch 191/500\n",
      "17/17 [==============================] - 23s 1s/step - loss: 20.6722 - mse: 1252.3086 - val_loss: 24.5614 - val_mse: 1637.7374\n",
      "Epoch 192/500\n",
      "17/17 [==============================] - 23s 1s/step - loss: 20.6725 - mse: 1252.3087 - val_loss: 24.5575 - val_mse: 1637.7371\n",
      "Epoch 193/500\n",
      "17/17 [==============================] - 23s 1s/step - loss: 20.6731 - mse: 1252.3088 - val_loss: 24.5573 - val_mse: 1637.7371\n",
      "Epoch 194/500\n",
      "17/17 [==============================] - 23s 1s/step - loss: 20.6737 - mse: 1252.3090 - val_loss: 24.5609 - val_mse: 1637.7374\n",
      "Epoch 195/500\n",
      "17/17 [==============================] - 23s 1s/step - loss: 20.6727 - mse: 1252.3087 - val_loss: 24.5565 - val_mse: 1637.7369\n",
      "Epoch 196/500\n",
      "17/17 [==============================] - 23s 1s/step - loss: 20.6728 - mse: 1252.3086 - val_loss: 24.5597 - val_mse: 1637.7373\n",
      "Epoch 197/500\n",
      "17/17 [==============================] - 23s 1s/step - loss: 20.6747 - mse: 1252.3091 - val_loss: 24.5617 - val_mse: 1637.7375\n",
      "Epoch 198/500\n",
      "17/17 [==============================] - 23s 1s/step - loss: 20.6748 - mse: 1252.3096 - val_loss: 24.5614 - val_mse: 1637.7373\n",
      "Epoch 199/500\n",
      "17/17 [==============================] - 23s 1s/step - loss: 20.6730 - mse: 1252.3090 - val_loss: 24.5607 - val_mse: 1637.7373\n",
      "Epoch 200/500\n",
      "17/17 [==============================] - 23s 1s/step - loss: 20.6732 - mse: 1252.3090 - val_loss: 24.5610 - val_mse: 1637.7374\n",
      "Epoch 201/500\n",
      "17/17 [==============================] - 23s 1s/step - loss: 20.6731 - mse: 1252.3090 - val_loss: 24.5598 - val_mse: 1637.7373\n",
      "Epoch 202/500\n",
      "17/17 [==============================] - 23s 1s/step - loss: 20.6731 - mse: 1252.3088 - val_loss: 24.5613 - val_mse: 1637.7374\n",
      "Epoch 203/500\n",
      "17/17 [==============================] - 23s 1s/step - loss: 20.6721 - mse: 1252.3087 - val_loss: 24.5632 - val_mse: 1637.7379\n",
      "Epoch 204/500\n",
      "17/17 [==============================] - 23s 1s/step - loss: 20.6723 - mse: 1252.3083 - val_loss: 24.5637 - val_mse: 1637.7379\n",
      "Epoch 205/500\n",
      "17/17 [==============================] - 23s 1s/step - loss: 20.6728 - mse: 1252.3087 - val_loss: 24.5606 - val_mse: 1637.7374\n",
      "Epoch 206/500\n",
      "17/17 [==============================] - 23s 1s/step - loss: 20.6723 - mse: 1252.3087 - val_loss: 24.5578 - val_mse: 1637.7373\n",
      "Epoch 207/500\n",
      "17/17 [==============================] - 23s 1s/step - loss: 20.6723 - mse: 1252.3086 - val_loss: 24.5583 - val_mse: 1637.7373\n",
      "Epoch 208/500\n",
      "17/17 [==============================] - 23s 1s/step - loss: 20.6719 - mse: 1252.3086 - val_loss: 24.5629 - val_mse: 1637.7379\n",
      "Epoch 209/500\n",
      "17/17 [==============================] - 23s 1s/step - loss: 20.6727 - mse: 1252.3087 - val_loss: 24.5630 - val_mse: 1637.7378\n",
      "Epoch 210/500\n",
      "17/17 [==============================] - 23s 1s/step - loss: 20.6721 - mse: 1252.3085 - val_loss: 24.5645 - val_mse: 1637.7380\n",
      "Epoch 211/500\n",
      "17/17 [==============================] - 23s 1s/step - loss: 20.6729 - mse: 1252.3086 - val_loss: 24.5670 - val_mse: 1637.7386\n",
      "Epoch 212/500\n",
      "17/17 [==============================] - 23s 1s/step - loss: 20.6740 - mse: 1252.3088 - val_loss: 24.5623 - val_mse: 1637.7378\n",
      "Epoch 213/500\n",
      "17/17 [==============================] - 23s 1s/step - loss: 20.6755 - mse: 1252.3093 - val_loss: 24.5616 - val_mse: 1637.7377\n",
      "Epoch 214/500\n",
      "17/17 [==============================] - 23s 1s/step - loss: 20.6728 - mse: 1252.3090 - val_loss: 24.5617 - val_mse: 1637.7377\n",
      "Epoch 215/500\n",
      "17/17 [==============================] - 23s 1s/step - loss: 20.6731 - mse: 1252.3088 - val_loss: 24.5599 - val_mse: 1637.7373\n",
      "Epoch 216/500\n",
      "17/17 [==============================] - 23s 1s/step - loss: 20.6744 - mse: 1252.3090 - val_loss: 24.5629 - val_mse: 1637.7379\n",
      "Epoch 217/500\n",
      "17/17 [==============================] - 23s 1s/step - loss: 20.6740 - mse: 1252.3092 - val_loss: 24.5575 - val_mse: 1637.7371\n",
      "Epoch 218/500\n",
      "17/17 [==============================] - 23s 1s/step - loss: 20.6729 - mse: 1252.3090 - val_loss: 24.5579 - val_mse: 1637.7372\n",
      "Epoch 219/500\n",
      "17/17 [==============================] - 23s 1s/step - loss: 20.6726 - mse: 1252.3087 - val_loss: 24.5598 - val_mse: 1637.7373\n",
      "Epoch 220/500\n",
      "17/17 [==============================] - 23s 1s/step - loss: 20.6717 - mse: 1252.3086 - val_loss: 24.5579 - val_mse: 1637.7373\n",
      "Epoch 221/500\n",
      "17/17 [==============================] - 23s 1s/step - loss: 20.6726 - mse: 1252.3087 - val_loss: 24.5592 - val_mse: 1637.7373\n",
      "Epoch 222/500\n",
      "17/17 [==============================] - 23s 1s/step - loss: 20.6688 - mse: 1252.3005 - val_loss: 24.5606 - val_mse: 1637.7529\n",
      "Epoch 223/500\n",
      "17/17 [==============================] - 23s 1s/step - loss: 20.6535 - mse: 1252.2595 - val_loss: 24.5565 - val_mse: 1637.7382\n",
      "Epoch 224/500\n",
      "17/17 [==============================] - 23s 1s/step - loss: 20.6425 - mse: 1252.2462 - val_loss: 24.5592 - val_mse: 1637.7439\n",
      "Epoch 225/500\n",
      "17/17 [==============================] - 23s 1s/step - loss: 20.6385 - mse: 1252.2498 - val_loss: 24.5624 - val_mse: 1637.7673\n",
      "Epoch 226/500\n",
      "17/17 [==============================] - 23s 1s/step - loss: 20.6440 - mse: 1252.2554 - val_loss: 24.5573 - val_mse: 1637.7432\n",
      "Epoch 227/500\n",
      "17/17 [==============================] - 23s 1s/step - loss: 20.6428 - mse: 1252.2458 - val_loss: 24.5581 - val_mse: 1637.7454\n",
      "Epoch 228/500\n",
      "17/17 [==============================] - 23s 1s/step - loss: 20.6340 - mse: 1252.2396 - val_loss: 24.5573 - val_mse: 1637.7415\n",
      "Epoch 229/500\n",
      "17/17 [==============================] - 23s 1s/step - loss: 20.6309 - mse: 1252.2383 - val_loss: 24.5590 - val_mse: 1637.7434\n",
      "Epoch 230/500\n",
      "17/17 [==============================] - 23s 1s/step - loss: 20.6275 - mse: 1252.2373 - val_loss: 24.5585 - val_mse: 1637.7411\n",
      "Epoch 231/500\n",
      "17/17 [==============================] - 23s 1s/step - loss: 20.6300 - mse: 1252.2385 - val_loss: 24.5585 - val_mse: 1637.7413\n",
      "Epoch 232/500\n",
      "17/17 [==============================] - 23s 1s/step - loss: 20.6290 - mse: 1252.2394 - val_loss: 24.5594 - val_mse: 1637.7434\n",
      "Epoch 233/500\n",
      "17/17 [==============================] - 23s 1s/step - loss: 20.6279 - mse: 1252.2375 - val_loss: 24.5596 - val_mse: 1637.7419\n",
      "Epoch 234/500\n",
      "17/17 [==============================] - 23s 1s/step - loss: 20.6284 - mse: 1252.2378 - val_loss: 24.5616 - val_mse: 1637.7390\n",
      "Epoch 235/500\n",
      "17/17 [==============================] - 23s 1s/step - loss: 20.6271 - mse: 1252.2375 - val_loss: 24.5590 - val_mse: 1637.7382\n",
      "Epoch 236/500\n",
      "17/17 [==============================] - 23s 1s/step - loss: 20.6272 - mse: 1252.2363 - val_loss: 24.5581 - val_mse: 1637.7441\n",
      "Epoch 237/500\n",
      "17/17 [==============================] - 23s 1s/step - loss: 20.6297 - mse: 1252.2369 - val_loss: 24.5569 - val_mse: 1637.7413\n",
      "Epoch 238/500\n",
      "17/17 [==============================] - 23s 1s/step - loss: 20.6285 - mse: 1252.2350 - val_loss: 24.5567 - val_mse: 1637.7369\n",
      "Epoch 239/500\n",
      "17/17 [==============================] - 23s 1s/step - loss: 20.6259 - mse: 1252.2344 - val_loss: 24.5567 - val_mse: 1637.7371\n",
      "Epoch 240/500\n",
      "17/17 [==============================] - 23s 1s/step - loss: 20.6267 - mse: 1252.2335 - val_loss: 24.5569 - val_mse: 1637.7371\n",
      "Epoch 241/500\n",
      "17/17 [==============================] - 23s 1s/step - loss: 20.6244 - mse: 1252.2330 - val_loss: 24.5590 - val_mse: 1637.7375\n",
      "Epoch 242/500\n",
      "17/17 [==============================] - 23s 1s/step - loss: 20.6314 - mse: 1252.2361 - val_loss: 24.5619 - val_mse: 1637.7394\n",
      "Epoch 243/500\n",
      "17/17 [==============================] - 23s 1s/step - loss: 20.6249 - mse: 1252.2340 - val_loss: 24.5628 - val_mse: 1637.7382\n",
      "Epoch 244/500\n",
      "17/17 [==============================] - 23s 1s/step - loss: 20.6262 - mse: 1252.2338 - val_loss: 24.5628 - val_mse: 1637.7380\n",
      "Epoch 245/500\n",
      "17/17 [==============================] - 23s 1s/step - loss: 20.6326 - mse: 1252.2358 - val_loss: 24.5649 - val_mse: 1637.7406\n",
      "Epoch 246/500\n",
      "17/17 [==============================] - 23s 1s/step - loss: 20.6267 - mse: 1252.2333 - val_loss: 24.5625 - val_mse: 1637.7404\n",
      "Epoch 247/500\n"
     ]
    },
    {
     "name": "stderr",
     "output_type": "stream",
     "text": [
      "IOPub message rate exceeded.\n",
      "The notebook server will temporarily stop sending output\n",
      "to the client in order to avoid crashing it.\n",
      "To change this limit, set the config variable\n",
      "`--NotebookApp.iopub_msg_rate_limit`.\n",
      "\n",
      "Current values:\n",
      "NotebookApp.iopub_msg_rate_limit=1000.0 (msgs/sec)\n",
      "NotebookApp.rate_limit_window=3.0 (secs)\n",
      "\n"
     ]
    }
   ],
   "source": [
    "import datetime\n",
    "log_dir = \"logs/fit/\" + datetime.datetime.now().strftime(\"%Y%m%d-%H%M%S\")\n",
    "tensorboard_callback = tf.keras.callbacks.TensorBoard(log_dir=log_dir, histogram_freq=1)\n",
    "seq.fit(Xtrain,Ytrain,batch_size=4, epochs=500,verbose=1,validation_data=(Xval,Yval),\n",
    "        callbacks=[tensorboard_callback])"
   ]
  },
  {
   "cell_type": "code",
   "execution_count": 50,
   "metadata": {
    "execution": {
     "iopub.execute_input": "2020-11-27T14:37:03.242138Z",
     "iopub.status.busy": "2020-11-27T14:37:03.241871Z",
     "iopub.status.idle": "2020-11-27T14:37:03.246836Z",
     "shell.execute_reply": "2020-11-27T14:37:03.246298Z",
     "shell.execute_reply.started": "2020-11-27T14:37:03.242104Z"
    }
   },
   "outputs": [
    {
     "data": {
      "text/plain": [
       "TensorShape([65, 12, 300, 300, 3])"
      ]
     },
     "execution_count": 50,
     "metadata": {},
     "output_type": "execute_result"
    }
   ],
   "source": [
    "Xtrain.shape"
   ]
  },
  {
   "cell_type": "code",
   "execution_count": 53,
   "metadata": {
    "execution": {
     "iopub.execute_input": "2020-11-27T14:38:22.388775Z",
     "iopub.status.busy": "2020-11-27T14:38:22.388637Z",
     "iopub.status.idle": "2020-11-27T14:38:29.455306Z",
     "shell.execute_reply": "2020-11-27T14:38:29.454784Z",
     "shell.execute_reply.started": "2020-11-27T14:38:22.388757Z"
    }
   },
   "outputs": [
    {
     "data": {
      "text/plain": [
       "(24, 12, 300, 300, 3)"
      ]
     },
     "execution_count": 53,
     "metadata": {},
     "output_type": "execute_result"
    }
   ],
   "source": [
    "seq.predict(Xtest).shape"
   ]
  },
  {
   "cell_type": "code",
   "execution_count": 54,
   "metadata": {
    "execution": {
     "iopub.execute_input": "2020-11-27T14:38:29.456339Z",
     "iopub.status.busy": "2020-11-27T14:38:29.456184Z",
     "iopub.status.idle": "2020-11-27T14:38:29.459422Z",
     "shell.execute_reply": "2020-11-27T14:38:29.459064Z",
     "shell.execute_reply.started": "2020-11-27T14:38:29.456318Z"
    }
   },
   "outputs": [
    {
     "data": {
      "text/plain": [
       "TensorShape([24, 12, 300, 300, 3])"
      ]
     },
     "execution_count": 54,
     "metadata": {},
     "output_type": "execute_result"
    }
   ],
   "source": [
    "Ytest.shape"
   ]
  },
  {
   "cell_type": "code",
   "execution_count": 58,
   "metadata": {
    "execution": {
     "iopub.execute_input": "2020-11-27T14:39:59.838368Z",
     "iopub.status.busy": "2020-11-27T14:39:59.838129Z",
     "iopub.status.idle": "2020-11-27T14:40:01.494403Z",
     "shell.execute_reply": "2020-11-27T14:40:01.493587Z",
     "shell.execute_reply.started": "2020-11-27T14:39:59.838344Z"
    }
   },
   "outputs": [],
   "source": [
    "pred=seq.predict(Xtest)"
   ]
  },
  {
   "cell_type": "code",
   "execution_count": 59,
   "metadata": {
    "execution": {
     "iopub.execute_input": "2020-11-27T14:40:11.183704Z",
     "iopub.status.busy": "2020-11-27T14:40:11.183470Z",
     "iopub.status.idle": "2020-11-27T14:40:11.186679Z",
     "shell.execute_reply": "2020-11-27T14:40:11.186046Z",
     "shell.execute_reply.started": "2020-11-27T14:40:11.183676Z"
    }
   },
   "outputs": [],
   "source": [
    "teue=Ytest"
   ]
  },
  {
   "cell_type": "code",
   "execution_count": 61,
   "metadata": {
    "execution": {
     "iopub.execute_input": "2020-11-27T14:40:46.104422Z",
     "iopub.status.busy": "2020-11-27T14:40:46.104040Z",
     "iopub.status.idle": "2020-11-27T14:40:46.163531Z",
     "shell.execute_reply": "2020-11-27T14:40:46.163027Z",
     "shell.execute_reply.started": "2020-11-27T14:40:46.104397Z"
    }
   },
   "outputs": [],
   "source": [
    "pred_=pred[:,:,:,:,1].flatten()"
   ]
  },
  {
   "cell_type": "code",
   "execution_count": 63,
   "metadata": {
    "execution": {
     "iopub.execute_input": "2020-11-27T14:41:11.736988Z",
     "iopub.status.busy": "2020-11-27T14:41:11.736800Z",
     "iopub.status.idle": "2020-11-27T14:41:11.817532Z",
     "shell.execute_reply": "2020-11-27T14:41:11.817066Z",
     "shell.execute_reply.started": "2020-11-27T14:41:11.736964Z"
    }
   },
   "outputs": [],
   "source": [
    "true_=np.array(teue[:,:,:,:,1]).flatten()"
   ]
  },
  {
   "cell_type": "code",
   "execution_count": 67,
   "metadata": {
    "execution": {
     "iopub.execute_input": "2020-11-27T14:42:04.443401Z",
     "iopub.status.busy": "2020-11-27T14:42:04.443251Z",
     "iopub.status.idle": "2020-11-27T14:42:04.530192Z",
     "shell.execute_reply": "2020-11-27T14:42:04.529581Z",
     "shell.execute_reply.started": "2020-11-27T14:42:04.443381Z"
    }
   },
   "outputs": [
    {
     "data": {
      "text/plain": [
       "0.48878364197530866"
      ]
     },
     "execution_count": 67,
     "metadata": {},
     "output_type": "execute_result"
    }
   ],
   "source": [
    "np.sum(np.abs(pred_-true_))/len(true_)"
   ]
  },
  {
   "cell_type": "code",
   "execution_count": null,
   "metadata": {},
   "outputs": [],
   "source": []
  }
 ],
 "metadata": {
  "kernelspec": {
   "display_name": "Python 3",
   "language": "python",
   "name": "python3"
  },
  "language_info": {
   "codemirror_mode": {
    "name": "ipython",
    "version": 3
   },
   "file_extension": ".py",
   "mimetype": "text/x-python",
   "name": "python",
   "nbconvert_exporter": "python",
   "pygments_lexer": "ipython3",
   "version": "3.6.11"
  },
  "widgets": {
   "application/vnd.jupyter.widget-state+json": {
    "state": {},
    "version_major": 2,
    "version_minor": 0
   }
  }
 },
 "nbformat": 4,
 "nbformat_minor": 4
}
