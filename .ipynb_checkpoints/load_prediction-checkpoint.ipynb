{
 "cells": [
  {
   "cell_type": "code",
   "execution_count": 10,
   "metadata": {
    "execution": {
     "iopub.execute_input": "2020-11-27T09:14:17.540194Z",
     "iopub.status.busy": "2020-11-27T09:14:17.539747Z",
     "iopub.status.idle": "2020-11-27T09:14:18.911701Z",
     "shell.execute_reply": "2020-11-27T09:14:18.911039Z",
     "shell.execute_reply.started": "2020-11-27T09:14:17.540158Z"
    }
   },
   "outputs": [],
   "source": [
    "import gc\n",
    "from pathlib import Path\n",
    "\n",
    "import cv2\n",
    "import numpy as np\n",
    "import pandas as pd\n",
    "import matplotlib.pyplot as plt\n",
    "from tqdm.notebook import tqdm\n",
    "from sklearn import model_selection\n",
    "\n",
    "import torch\n",
    "import torch.nn as nn\n",
    "import torch.nn.functional as F\n",
    "\n",
    "import pytorch_lightning as pl\n",
    "import tensorflow as tf\n",
    "from numpy import genfromtxt\n",
    "import datatable as dt\n",
    "import pandas as pd"
   ]
  },
  {
   "cell_type": "code",
   "execution_count": 3,
   "metadata": {
    "execution": {
     "iopub.execute_input": "2020-11-27T06:53:58.609344Z",
     "iopub.status.busy": "2020-11-27T06:53:58.609219Z",
     "iopub.status.idle": "2020-11-27T06:53:58.616485Z",
     "shell.execute_reply": "2020-11-27T06:53:58.615798Z",
     "shell.execute_reply.started": "2020-11-27T06:53:58.609328Z"
    }
   },
   "outputs": [],
   "source": [
    "inputDate='2019-01-03 01:00:00'"
   ]
  },
  {
   "cell_type": "code",
   "execution_count": 4,
   "metadata": {
    "execution": {
     "iopub.execute_input": "2020-11-27T06:53:58.617256Z",
     "iopub.status.busy": "2020-11-27T06:53:58.617118Z",
     "iopub.status.idle": "2020-11-27T06:54:07.610141Z",
     "shell.execute_reply": "2020-11-27T06:54:07.609034Z",
     "shell.execute_reply.started": "2020-11-27T06:53:58.617240Z"
    }
   },
   "outputs": [],
   "source": [
    "data=np.load(f'/hdd/pred_prec_temp/{inputDate}.npy')"
   ]
  },
  {
   "cell_type": "code",
   "execution_count": 5,
   "metadata": {
    "execution": {
     "iopub.execute_input": "2020-11-27T06:54:07.613427Z",
     "iopub.status.busy": "2020-11-27T06:54:07.613061Z",
     "iopub.status.idle": "2020-11-27T06:54:07.618678Z",
     "shell.execute_reply": "2020-11-27T06:54:07.617948Z",
     "shell.execute_reply.started": "2020-11-27T06:54:07.613382Z"
    }
   },
   "outputs": [
    {
     "data": {
      "text/plain": [
       "(1, 1159, 1505, 3)"
      ]
     },
     "execution_count": 5,
     "metadata": {},
     "output_type": "execute_result"
    }
   ],
   "source": [
    "data[24:].shape"
   ]
  },
  {
   "cell_type": "code",
   "execution_count": 6,
   "metadata": {
    "execution": {
     "iopub.execute_input": "2020-11-27T06:54:07.646233Z",
     "iopub.status.busy": "2020-11-27T06:54:07.646041Z",
     "iopub.status.idle": "2020-11-27T06:54:07.648985Z",
     "shell.execute_reply": "2020-11-27T06:54:07.648275Z",
     "shell.execute_reply.started": "2020-11-27T06:54:07.646212Z"
    }
   },
   "outputs": [],
   "source": [
    "# DateRange=pd.to_timedelta(1,unit='day')\n",
    "# generateDate=[str(i) for i in pd.date_range(start=pd.to_datetime(inputDate)-DateRange,end=inputDate , freq='H')]\n",
    "\n",
    "# for date_ in generateDate:\n",
    "#     print(date_)\n",
    "#     data_save(date_)"
   ]
  },
  {
   "cell_type": "code",
   "execution_count": 11,
   "metadata": {
    "execution": {
     "iopub.execute_input": "2020-11-27T09:14:19.424272Z",
     "iopub.status.busy": "2020-11-27T09:14:19.424146Z",
     "iopub.status.idle": "2020-11-27T09:14:19.427776Z",
     "shell.execute_reply": "2020-11-27T09:14:19.427341Z",
     "shell.execute_reply.started": "2020-11-27T09:14:19.424255Z"
    }
   },
   "outputs": [],
   "source": [
    "import gc\n",
    "from pathlib import Path\n",
    "\n",
    "import cv2\n",
    "import numpy as np\n",
    "import pandas as pd\n",
    "import matplotlib.pyplot as plt\n",
    "from tqdm.notebook import tqdm\n",
    "from sklearn import model_selection\n",
    "\n",
    "import torch\n",
    "import torch.nn as nn\n",
    "import torch.nn.functional as F\n",
    "\n",
    "import pytorch_lightning as pl"
   ]
  },
  {
   "cell_type": "code",
   "execution_count": 12,
   "metadata": {
    "execution": {
     "iopub.execute_input": "2020-11-27T09:14:19.541280Z",
     "iopub.status.busy": "2020-11-27T09:14:19.540885Z",
     "iopub.status.idle": "2020-11-27T09:14:19.545482Z",
     "shell.execute_reply": "2020-11-27T09:14:19.544625Z",
     "shell.execute_reply.started": "2020-11-27T09:14:19.541235Z"
    }
   },
   "outputs": [],
   "source": [
    "import os\n"
   ]
  },
  {
   "cell_type": "code",
   "execution_count": 19,
   "metadata": {
    "execution": {
     "iopub.execute_input": "2020-11-27T06:56:24.911663Z",
     "iopub.status.busy": "2020-11-27T06:56:24.911186Z",
     "iopub.status.idle": "2020-11-27T06:56:24.929094Z",
     "shell.execute_reply": "2020-11-27T06:56:24.928441Z",
     "shell.execute_reply.started": "2020-11-27T06:56:24.911605Z"
    }
   },
   "outputs": [
    {
     "ename": "TypeError",
     "evalue": "__init__() missing 1 required positional argument: 'value_index'",
     "output_type": "error",
     "traceback": [
      "\u001b[0;31m---------------------------------------------------------------------------\u001b[0m",
      "\u001b[0;31mTypeError\u001b[0m                                 Traceback (most recent call last)",
      "\u001b[0;32m<ipython-input-19-7707d9d03c00>\u001b[0m in \u001b[0;36m<module>\u001b[0;34m\u001b[0m\n\u001b[0;32m----> 1\u001b[0;31m \u001b[0mtf\u001b[0m\u001b[0;34m.\u001b[0m\u001b[0mTensor\u001b[0m\u001b[0;34m(\u001b[0m\u001b[0mnp\u001b[0m\u001b[0;34m.\u001b[0m\u001b[0mndarray\u001b[0m\u001b[0;34m(\u001b[0m\u001b[0;34m[\u001b[0m\u001b[0;36m1\u001b[0m\u001b[0;34m]\u001b[0m\u001b[0;34m)\u001b[0m\u001b[0;34m,\u001b[0m\u001b[0mdtype\u001b[0m\u001b[0;34m=\u001b[0m\u001b[0mtf\u001b[0m\u001b[0;34m.\u001b[0m\u001b[0mfloat32\u001b[0m\u001b[0;34m)\u001b[0m\u001b[0;34m\u001b[0m\u001b[0;34m\u001b[0m\u001b[0m\n\u001b[0m",
      "\u001b[0;31mTypeError\u001b[0m: __init__() missing 1 required positional argument: 'value_index'"
     ]
    }
   ],
   "source": [
    "tf.convert_to_tensor(np.ndarray([1]),dtype=tf.float32)"
   ]
  },
  {
   "cell_type": "code",
   "execution_count": 20,
   "metadata": {
    "execution": {
     "iopub.execute_input": "2020-11-27T06:56:31.890516Z",
     "iopub.status.busy": "2020-11-27T06:56:31.890105Z",
     "iopub.status.idle": "2020-11-27T06:56:31.903686Z",
     "shell.execute_reply": "2020-11-27T06:56:31.902665Z",
     "shell.execute_reply.started": "2020-11-27T06:56:31.890476Z"
    }
   },
   "outputs": [],
   "source": [
    "class Dataset(torch.utils.data.Dataset):\n",
    "    def __init__(self, paths, test=False):\n",
    "        self.paths = paths\n",
    "        self.test = test\n",
    "\n",
    "    def __len__(self):\n",
    "        return len(self.paths)\n",
    "\n",
    "    def __getitem__(self, idx):\n",
    "        path = self.paths[idx]\n",
    "        data = np.load(path)\n",
    "        #torch.Size([24, 1159, 1505, 3])\n",
    "        x = data[:24,:300,:300,:]\n",
    "        #         x = x / 255.0\n",
    "        x = x.astype(np.float32)\n",
    "        x = torch.tensor(x, dtype=torch.float32)\n",
    "        if self.test:\n",
    "            return x\n",
    "        else:\n",
    "            y = data[24:,:300,:300,:]\n",
    "            #             y = y / 255.0\n",
    "            y = y.astype(np.float32)\n",
    "            y = torch.tensor(y, dtype=torch.float32)\n",
    "            return x, y"
   ]
  },
  {
   "cell_type": "code",
   "execution_count": 21,
   "metadata": {
    "collapsed": true,
    "execution": {
     "iopub.execute_input": "2020-11-27T06:56:32.890796Z",
     "iopub.status.busy": "2020-11-27T06:56:32.890426Z",
     "iopub.status.idle": "2020-11-27T06:56:32.904146Z",
     "shell.execute_reply": "2020-11-27T06:56:32.903081Z",
     "shell.execute_reply.started": "2020-11-27T06:56:32.890756Z"
    },
    "jupyter": {
     "outputs_hidden": true,
     "source_hidden": true
    }
   },
   "outputs": [
    {
     "data": {
      "text/plain": [
       "['2019-01-01 00:00:00.npy',\n",
       " '2019-01-01 01:00:00.npy',\n",
       " '2019-01-01 02:00:00.npy',\n",
       " '2019-01-01 03:00:00.npy',\n",
       " '2019-01-01 04:00:00.npy',\n",
       " '2019-01-01 05:00:00.npy',\n",
       " '2019-01-01 06:00:00.npy',\n",
       " '2019-01-01 07:00:00.npy',\n",
       " '2019-01-01 08:00:00.npy',\n",
       " '2019-01-01 09:00:00.npy',\n",
       " '2019-01-01 10:00:00.npy',\n",
       " '2019-01-01 11:00:00.npy',\n",
       " '2019-01-01 12:00:00.npy',\n",
       " '2019-01-01 13:00:00.npy',\n",
       " '2019-01-01 14:00:00.npy',\n",
       " '2019-01-01 15:00:00.npy',\n",
       " '2019-01-01 16:00:00.npy',\n",
       " '2019-01-01 17:00:00.npy',\n",
       " '2019-01-01 18:00:00.npy',\n",
       " '2019-01-01 19:00:00.npy',\n",
       " '2019-01-01 20:00:00.npy',\n",
       " '2019-01-01 21:00:00.npy',\n",
       " '2019-01-01 22:00:00.npy',\n",
       " '2019-01-01 23:00:00.npy',\n",
       " '2019-01-02 00:00:00.npy',\n",
       " '2019-01-03 00:00:00.npy',\n",
       " '2019-01-03 01:00:00.npy',\n",
       " '2019-01-03 02:00:00.npy',\n",
       " '2019-01-03 03:00:00.npy',\n",
       " '2019-01-03 04:00:00.npy',\n",
       " '2019-01-03 05:00:00.npy',\n",
       " '2019-01-03 06:00:00.npy',\n",
       " '2019-01-03 07:00:00.npy',\n",
       " '2019-01-03 08:00:00.npy',\n",
       " '2019-01-03 09:00:00.npy',\n",
       " '2019-01-03 10:00:00.npy',\n",
       " '2019-01-03 11:00:00.npy',\n",
       " '2019-01-03 12:00:00.npy',\n",
       " '2019-01-03 13:00:00.npy',\n",
       " '2019-01-03 14:00:00.npy',\n",
       " '2019-01-03 15:00:00.npy',\n",
       " '2019-01-03 16:00:00.npy',\n",
       " '2019-01-03 17:00:00.npy',\n",
       " '2019-01-03 18:00:00.npy',\n",
       " '2019-01-03 19:00:00.npy',\n",
       " '2019-01-03 20:00:00.npy',\n",
       " '2019-01-03 21:00:00.npy',\n",
       " '2019-01-03 22:00:00.npy',\n",
       " '2019-01-03 23:00:00.npy',\n",
       " '2019-01-04 00:00:00.npy',\n",
       " '2019-01-04 01:00:00.npy',\n",
       " '2019-01-04 02:00:00.npy',\n",
       " '2019-01-04 03:00:00.npy',\n",
       " '2019-01-04 04:00:00.npy',\n",
       " '2019-01-04 05:00:00.npy',\n",
       " '2019-01-04 06:00:00.npy',\n",
       " '2019-01-04 07:00:00.npy',\n",
       " '2019-01-04 08:00:00.npy',\n",
       " '2019-01-04 09:00:00.npy',\n",
       " '2019-01-04 10:00:00.npy',\n",
       " '2019-01-04 11:00:00.npy',\n",
       " '2019-01-04 12:00:00.npy',\n",
       " '2019-01-04 13:00:00.npy',\n",
       " '2019-01-04 14:00:00.npy',\n",
       " '2019-01-04 15:00:00.npy',\n",
       " '2019-01-04 16:00:00.npy',\n",
       " '2019-01-04 17:00:00.npy',\n",
       " '2019-01-04 18:00:00.npy',\n",
       " '2019-01-04 19:00:00.npy',\n",
       " '2019-01-04 20:00:00.npy',\n",
       " '2019-01-04 21:00:00.npy',\n",
       " '2019-01-04 22:00:00.npy',\n",
       " '2019-01-04 23:00:00.npy']"
      ]
     },
     "execution_count": 21,
     "metadata": {},
     "output_type": "execute_result"
    }
   ],
   "source": [
    "sorted(os.listdir('/hdd/pred_prec_temp'))[:-24]"
   ]
  },
  {
   "cell_type": "code",
   "execution_count": 22,
   "metadata": {
    "execution": {
     "iopub.execute_input": "2020-11-27T06:56:32.962245Z",
     "iopub.status.busy": "2020-11-27T06:56:32.961893Z",
     "iopub.status.idle": "2020-11-27T06:56:32.976956Z",
     "shell.execute_reply": "2020-11-27T06:56:32.976395Z",
     "shell.execute_reply.started": "2020-11-27T06:56:32.962208Z"
    }
   },
   "outputs": [],
   "source": [
    "class DataModule(pl.LightningDataModule):\n",
    "    def __init__(self, batch_size, test=False, num_workers=4):\n",
    "        super().__init__()\n",
    "        self.test = test\n",
    "        self.batch_size = batch_size\n",
    "        self.num_workers = 4\n",
    "\n",
    "    def setup(self, stage=\"train\"):\n",
    "        if stage == \"train\":\n",
    "            paths = [f'/hdd/pred_prec_temp/{i}' for i in sorted(os.listdir('/hdd/pred_prec_temp'))[:-24]]\n",
    "            train_paths, val_paths = model_selection.train_test_split(\n",
    "                paths, test_size=0.1, shuffle=True\n",
    "            )\n",
    "            self.train_dataset = Dataset(train_paths)\n",
    "            self.val_dataset = Dataset(val_paths)\n",
    "        else:\n",
    "            test_paths = [f'/hdd/pred_prec_temp/{i}' for i in sorted(os.listdir('/hdd/pred_prec_temp'))[-24:]]\n",
    "            self.test_dataset = Dataset(test_paths, test=True)\n",
    "\n",
    "    def train_dataloader(self):\n",
    "        return torch.utils.data.DataLoader(\n",
    "            self.train_dataset,\n",
    "            batch_size=self.batch_size,\n",
    "            shuffle=True,\n",
    "            pin_memory=True,\n",
    "            num_workers=self.num_workers,\n",
    "        )\n",
    "\n",
    "    def val_dataloader(self):\n",
    "        return torch.utils.data.DataLoader(\n",
    "            self.val_dataset,\n",
    "            batch_size=2 * self.batch_size,\n",
    "            pin_memory=True,\n",
    "            num_workers=self.num_workers,\n",
    "        )\n",
    "\n",
    "    def test_dataloader(self):\n",
    "        return torch.utils.data.DataLoader(\n",
    "            self.test_dataset,\n",
    "            batch_size=2 * self.batch_size,\n",
    "            pin_memory=True,\n",
    "            num_workers=self.num_workers,\n",
    "        )"
   ]
  },
  {
   "cell_type": "code",
   "execution_count": 23,
   "metadata": {
    "execution": {
     "iopub.execute_input": "2020-11-27T06:56:33.897280Z",
     "iopub.status.busy": "2020-11-27T06:56:33.896916Z",
     "iopub.status.idle": "2020-11-27T06:56:33.901393Z",
     "shell.execute_reply": "2020-11-27T06:56:33.900501Z",
     "shell.execute_reply.started": "2020-11-27T06:56:33.897241Z"
    }
   },
   "outputs": [],
   "source": [
    "# def visualize(x, y=None, test=False):\n",
    "#     cmap = plt.cm.get_cmap(\"RdBu\")\n",
    "#     cmap = cmap.reversed()\n",
    "#     if test:\n",
    "#         fig, axes = plt.subplots(1, 4, figsize=(10, 10))\n",
    "#         for i, ax in enumerate(axes):\n",
    "#             img = x[:, :, i]\n",
    "#             ax.imshow(img, cmap=cmap)\n",
    "#     else:\n",
    "#         fig, axes = plt.subplots(1, 5, figsize=(10, 10))\n",
    "#         for i, ax in enumerate(axes[:-1]):\n",
    "#             img = x[:, :, i]\n",
    "#             ax.imshow(img, cmap=cmap)\n",
    "#         axes[-1].imshow(y[:, :, 0], cmap=cmap)\n",
    "#     #     plt.tight_layout()\n",
    "#     plt.show()"
   ]
  },
  {
   "cell_type": "code",
   "execution_count": 24,
   "metadata": {
    "execution": {
     "iopub.execute_input": "2020-11-27T06:56:34.888236Z",
     "iopub.status.busy": "2020-11-27T06:56:34.887870Z",
     "iopub.status.idle": "2020-11-27T06:56:34.898939Z",
     "shell.execute_reply": "2020-11-27T06:56:34.898208Z",
     "shell.execute_reply.started": "2020-11-27T06:56:34.888197Z"
    }
   },
   "outputs": [],
   "source": [
    "datamodule = DataModule(batch_size=1)\n",
    "datamodule.setup()"
   ]
  },
  {
   "cell_type": "code",
   "execution_count": 25,
   "metadata": {
    "collapsed": true,
    "execution": {
     "iopub.execute_input": "2020-11-27T06:56:34.900181Z",
     "iopub.status.busy": "2020-11-27T06:56:34.899888Z",
     "iopub.status.idle": "2020-11-27T06:57:10.520924Z",
     "shell.execute_reply": "2020-11-27T06:57:10.519964Z",
     "shell.execute_reply.started": "2020-11-27T06:56:34.900160Z"
    },
    "jupyter": {
     "outputs_hidden": true
    }
   },
   "outputs": [
    {
     "ename": "TypeError",
     "evalue": "Caught TypeError in DataLoader worker process 0.\nOriginal Traceback (most recent call last):\n  File \"/root/anaconda3/envs/jupyter/lib/python3.6/site-packages/torch/utils/data/_utils/worker.py\", line 198, in _worker_loop\n    data = fetcher.fetch(index)\n  File \"/root/anaconda3/envs/jupyter/lib/python3.6/site-packages/torch/utils/data/_utils/fetch.py\", line 47, in fetch\n    return self.collate_fn(data)\n  File \"/root/anaconda3/envs/jupyter/lib/python3.6/site-packages/torch/utils/data/_utils/collate.py\", line 83, in default_collate\n    return [default_collate(samples) for samples in transposed]\n  File \"/root/anaconda3/envs/jupyter/lib/python3.6/site-packages/torch/utils/data/_utils/collate.py\", line 83, in <listcomp>\n    return [default_collate(samples) for samples in transposed]\n  File \"/root/anaconda3/envs/jupyter/lib/python3.6/site-packages/torch/utils/data/_utils/collate.py\", line 85, in default_collate\n    raise TypeError(default_collate_err_msg_format.format(elem_type))\nTypeError: default_collate: batch must contain tensors, numpy arrays, numbers, dicts or lists; found <class 'tensorflow.python.framework.ops.EagerTensor'>\n",
     "output_type": "error",
     "traceback": [
      "\u001b[0;31m---------------------------------------------------------------------------\u001b[0m",
      "\u001b[0;31mTypeError\u001b[0m                                 Traceback (most recent call last)",
      "\u001b[0;32m<ipython-input-25-5b071ce0c065>\u001b[0m in \u001b[0;36m<module>\u001b[0;34m\u001b[0m\n\u001b[0;32m----> 1\u001b[0;31m \u001b[0;32mfor\u001b[0m \u001b[0mbatch\u001b[0m \u001b[0;32min\u001b[0m \u001b[0mdatamodule\u001b[0m\u001b[0;34m.\u001b[0m\u001b[0mtrain_dataloader\u001b[0m\u001b[0;34m(\u001b[0m\u001b[0;34m)\u001b[0m\u001b[0;34m:\u001b[0m\u001b[0;34m\u001b[0m\u001b[0;34m\u001b[0m\u001b[0m\n\u001b[0m\u001b[1;32m      2\u001b[0m     \u001b[0;32mbreak\u001b[0m\u001b[0;34m\u001b[0m\u001b[0;34m\u001b[0m\u001b[0m\n",
      "\u001b[0;32m~/anaconda3/envs/jupyter/lib/python3.6/site-packages/torch/utils/data/dataloader.py\u001b[0m in \u001b[0;36m__next__\u001b[0;34m(self)\u001b[0m\n\u001b[1;32m    433\u001b[0m         \u001b[0;32mif\u001b[0m \u001b[0mself\u001b[0m\u001b[0;34m.\u001b[0m\u001b[0m_sampler_iter\u001b[0m \u001b[0;32mis\u001b[0m \u001b[0;32mNone\u001b[0m\u001b[0;34m:\u001b[0m\u001b[0;34m\u001b[0m\u001b[0;34m\u001b[0m\u001b[0m\n\u001b[1;32m    434\u001b[0m             \u001b[0mself\u001b[0m\u001b[0;34m.\u001b[0m\u001b[0m_reset\u001b[0m\u001b[0;34m(\u001b[0m\u001b[0;34m)\u001b[0m\u001b[0;34m\u001b[0m\u001b[0;34m\u001b[0m\u001b[0m\n\u001b[0;32m--> 435\u001b[0;31m         \u001b[0mdata\u001b[0m \u001b[0;34m=\u001b[0m \u001b[0mself\u001b[0m\u001b[0;34m.\u001b[0m\u001b[0m_next_data\u001b[0m\u001b[0;34m(\u001b[0m\u001b[0;34m)\u001b[0m\u001b[0;34m\u001b[0m\u001b[0;34m\u001b[0m\u001b[0m\n\u001b[0m\u001b[1;32m    436\u001b[0m         \u001b[0mself\u001b[0m\u001b[0;34m.\u001b[0m\u001b[0m_num_yielded\u001b[0m \u001b[0;34m+=\u001b[0m \u001b[0;36m1\u001b[0m\u001b[0;34m\u001b[0m\u001b[0;34m\u001b[0m\u001b[0m\n\u001b[1;32m    437\u001b[0m         \u001b[0;32mif\u001b[0m \u001b[0mself\u001b[0m\u001b[0;34m.\u001b[0m\u001b[0m_dataset_kind\u001b[0m \u001b[0;34m==\u001b[0m \u001b[0m_DatasetKind\u001b[0m\u001b[0;34m.\u001b[0m\u001b[0mIterable\u001b[0m \u001b[0;32mand\u001b[0m\u001b[0;31m \u001b[0m\u001b[0;31m\\\u001b[0m\u001b[0;34m\u001b[0m\u001b[0;34m\u001b[0m\u001b[0m\n",
      "\u001b[0;32m~/anaconda3/envs/jupyter/lib/python3.6/site-packages/torch/utils/data/dataloader.py\u001b[0m in \u001b[0;36m_next_data\u001b[0;34m(self)\u001b[0m\n\u001b[1;32m   1083\u001b[0m             \u001b[0;32melse\u001b[0m\u001b[0;34m:\u001b[0m\u001b[0;34m\u001b[0m\u001b[0;34m\u001b[0m\u001b[0m\n\u001b[1;32m   1084\u001b[0m                 \u001b[0;32mdel\u001b[0m \u001b[0mself\u001b[0m\u001b[0;34m.\u001b[0m\u001b[0m_task_info\u001b[0m\u001b[0;34m[\u001b[0m\u001b[0midx\u001b[0m\u001b[0;34m]\u001b[0m\u001b[0;34m\u001b[0m\u001b[0;34m\u001b[0m\u001b[0m\n\u001b[0;32m-> 1085\u001b[0;31m                 \u001b[0;32mreturn\u001b[0m \u001b[0mself\u001b[0m\u001b[0;34m.\u001b[0m\u001b[0m_process_data\u001b[0m\u001b[0;34m(\u001b[0m\u001b[0mdata\u001b[0m\u001b[0;34m)\u001b[0m\u001b[0;34m\u001b[0m\u001b[0;34m\u001b[0m\u001b[0m\n\u001b[0m\u001b[1;32m   1086\u001b[0m \u001b[0;34m\u001b[0m\u001b[0m\n\u001b[1;32m   1087\u001b[0m     \u001b[0;32mdef\u001b[0m \u001b[0m_try_put_index\u001b[0m\u001b[0;34m(\u001b[0m\u001b[0mself\u001b[0m\u001b[0;34m)\u001b[0m\u001b[0;34m:\u001b[0m\u001b[0;34m\u001b[0m\u001b[0;34m\u001b[0m\u001b[0m\n",
      "\u001b[0;32m~/anaconda3/envs/jupyter/lib/python3.6/site-packages/torch/utils/data/dataloader.py\u001b[0m in \u001b[0;36m_process_data\u001b[0;34m(self, data)\u001b[0m\n\u001b[1;32m   1109\u001b[0m         \u001b[0mself\u001b[0m\u001b[0;34m.\u001b[0m\u001b[0m_try_put_index\u001b[0m\u001b[0;34m(\u001b[0m\u001b[0;34m)\u001b[0m\u001b[0;34m\u001b[0m\u001b[0;34m\u001b[0m\u001b[0m\n\u001b[1;32m   1110\u001b[0m         \u001b[0;32mif\u001b[0m \u001b[0misinstance\u001b[0m\u001b[0;34m(\u001b[0m\u001b[0mdata\u001b[0m\u001b[0;34m,\u001b[0m \u001b[0mExceptionWrapper\u001b[0m\u001b[0;34m)\u001b[0m\u001b[0;34m:\u001b[0m\u001b[0;34m\u001b[0m\u001b[0;34m\u001b[0m\u001b[0m\n\u001b[0;32m-> 1111\u001b[0;31m             \u001b[0mdata\u001b[0m\u001b[0;34m.\u001b[0m\u001b[0mreraise\u001b[0m\u001b[0;34m(\u001b[0m\u001b[0;34m)\u001b[0m\u001b[0;34m\u001b[0m\u001b[0;34m\u001b[0m\u001b[0m\n\u001b[0m\u001b[1;32m   1112\u001b[0m         \u001b[0;32mreturn\u001b[0m \u001b[0mdata\u001b[0m\u001b[0;34m\u001b[0m\u001b[0;34m\u001b[0m\u001b[0m\n\u001b[1;32m   1113\u001b[0m \u001b[0;34m\u001b[0m\u001b[0m\n",
      "\u001b[0;32m~/anaconda3/envs/jupyter/lib/python3.6/site-packages/torch/_utils.py\u001b[0m in \u001b[0;36mreraise\u001b[0;34m(self)\u001b[0m\n\u001b[1;32m    426\u001b[0m             \u001b[0;31m# have message field\u001b[0m\u001b[0;34m\u001b[0m\u001b[0;34m\u001b[0m\u001b[0;34m\u001b[0m\u001b[0m\n\u001b[1;32m    427\u001b[0m             \u001b[0;32mraise\u001b[0m \u001b[0mself\u001b[0m\u001b[0;34m.\u001b[0m\u001b[0mexc_type\u001b[0m\u001b[0;34m(\u001b[0m\u001b[0mmessage\u001b[0m\u001b[0;34m=\u001b[0m\u001b[0mmsg\u001b[0m\u001b[0;34m)\u001b[0m\u001b[0;34m\u001b[0m\u001b[0;34m\u001b[0m\u001b[0m\n\u001b[0;32m--> 428\u001b[0;31m         \u001b[0;32mraise\u001b[0m \u001b[0mself\u001b[0m\u001b[0;34m.\u001b[0m\u001b[0mexc_type\u001b[0m\u001b[0;34m(\u001b[0m\u001b[0mmsg\u001b[0m\u001b[0;34m)\u001b[0m\u001b[0;34m\u001b[0m\u001b[0;34m\u001b[0m\u001b[0m\n\u001b[0m\u001b[1;32m    429\u001b[0m \u001b[0;34m\u001b[0m\u001b[0m\n\u001b[1;32m    430\u001b[0m \u001b[0;34m\u001b[0m\u001b[0m\n",
      "\u001b[0;31mTypeError\u001b[0m: Caught TypeError in DataLoader worker process 0.\nOriginal Traceback (most recent call last):\n  File \"/root/anaconda3/envs/jupyter/lib/python3.6/site-packages/torch/utils/data/_utils/worker.py\", line 198, in _worker_loop\n    data = fetcher.fetch(index)\n  File \"/root/anaconda3/envs/jupyter/lib/python3.6/site-packages/torch/utils/data/_utils/fetch.py\", line 47, in fetch\n    return self.collate_fn(data)\n  File \"/root/anaconda3/envs/jupyter/lib/python3.6/site-packages/torch/utils/data/_utils/collate.py\", line 83, in default_collate\n    return [default_collate(samples) for samples in transposed]\n  File \"/root/anaconda3/envs/jupyter/lib/python3.6/site-packages/torch/utils/data/_utils/collate.py\", line 83, in <listcomp>\n    return [default_collate(samples) for samples in transposed]\n  File \"/root/anaconda3/envs/jupyter/lib/python3.6/site-packages/torch/utils/data/_utils/collate.py\", line 85, in default_collate\n    raise TypeError(default_collate_err_msg_format.format(elem_type))\nTypeError: default_collate: batch must contain tensors, numpy arrays, numbers, dicts or lists; found <class 'tensorflow.python.framework.ops.EagerTensor'>\n"
     ]
    }
   ],
   "source": [
    "for batch in datamodule.train_dataloader():\n",
    "    break"
   ]
  },
  {
   "cell_type": "code",
   "execution_count": null,
   "metadata": {
    "execution": {
     "iopub.status.busy": "2020-11-27T06:47:05.177297Z",
     "iopub.status.idle": "2020-11-27T06:47:05.177486Z",
     "shell.execute_reply": "2020-11-27T06:47:05.177390Z"
    }
   },
   "outputs": [],
   "source": [
    "xs, ys = batch\n",
    "x, y = xs[0], ys[0]"
   ]
  },
  {
   "cell_type": "code",
   "execution_count": 30,
   "metadata": {
    "execution": {
     "iopub.execute_input": "2020-11-27T06:42:42.890598Z",
     "iopub.status.busy": "2020-11-27T06:42:42.890245Z",
     "iopub.status.idle": "2020-11-27T06:42:42.896330Z",
     "shell.execute_reply": "2020-11-27T06:42:42.895407Z",
     "shell.execute_reply.started": "2020-11-27T06:42:42.890559Z"
    }
   },
   "outputs": [
    {
     "data": {
      "text/plain": [
       "torch.Size([24, 300, 300, 3])"
      ]
     },
     "execution_count": 30,
     "metadata": {},
     "output_type": "execute_result"
    }
   ],
   "source": [
    "x.shape"
   ]
  },
  {
   "cell_type": "code",
   "execution_count": 31,
   "metadata": {
    "execution": {
     "iopub.execute_input": "2020-11-27T06:42:43.889507Z",
     "iopub.status.busy": "2020-11-27T06:42:43.889150Z",
     "iopub.status.idle": "2020-11-27T06:42:43.895134Z",
     "shell.execute_reply": "2020-11-27T06:42:43.894311Z",
     "shell.execute_reply.started": "2020-11-27T06:42:43.889467Z"
    }
   },
   "outputs": [
    {
     "data": {
      "text/plain": [
       "torch.Size([24, 300, 300, 3])"
      ]
     },
     "execution_count": 31,
     "metadata": {},
     "output_type": "execute_result"
    }
   ],
   "source": [
    "y.shape"
   ]
  },
  {
   "cell_type": "code",
   "execution_count": 32,
   "metadata": {
    "execution": {
     "iopub.execute_input": "2020-11-27T06:42:48.886728Z",
     "iopub.status.busy": "2020-11-27T06:42:48.886370Z",
     "iopub.status.idle": "2020-11-27T06:42:48.890457Z",
     "shell.execute_reply": "2020-11-27T06:42:48.889530Z",
     "shell.execute_reply.started": "2020-11-27T06:42:48.886687Z"
    }
   },
   "outputs": [],
   "source": [
    "# x = x.permute(1, 2, 0).numpy()\n",
    "# y = y.permute(1, 2, 0).numpy()\n",
    "# visualize(x, y)\n",
    "# break"
   ]
  },
  {
   "cell_type": "code",
   "execution_count": null,
   "metadata": {},
   "outputs": [],
   "source": [
    " data = np.load(path)\n",
    "        #torch.Size([24, 1159, 1505, 3])\n",
    "        x = data[:24,:300,:300,:]\n",
    "        #         x = x / 255.0\n",
    "        x = x.astype(np.float32)\n",
    "        x = tf.convert_to_tensor(x,dtype=tf.float32)\n",
    "        if self.test:\n",
    "            return x\n",
    "        else:\n",
    "            y = data[1:,:300,:300,:]\n",
    "            #             y = y / 255.0\n",
    "            y = y.astype(np.float32)\n",
    "            \n",
    "            y = tf.convert_to_tensor(y,dtype=tf.float32)"
   ]
  },
  {
   "cell_type": "code",
   "execution_count": null,
   "metadata": {},
   "outputs": [],
   "source": []
  },
  {
   "cell_type": "code",
   "execution_count": 13,
   "metadata": {
    "execution": {
     "iopub.execute_input": "2020-11-27T09:14:23.532519Z",
     "iopub.status.busy": "2020-11-27T09:14:23.532244Z",
     "iopub.status.idle": "2020-11-27T09:14:23.550161Z",
     "shell.execute_reply": "2020-11-27T09:14:23.549543Z",
     "shell.execute_reply.started": "2020-11-27T09:14:23.532491Z"
    }
   },
   "outputs": [],
   "source": [
    "paths = [f'/hdd/pred_prec_temp/{i}' for i in sorted(os.listdir('/hdd/pred_prec_temp'))[:-24]]\n",
    "train_paths, val_paths = model_selection.train_test_split(\n",
    "            paths, test_size=0.1, shuffle=False\n",
    "        )\n",
    "\n",
    "test_paths = [f'/hdd/pred_prec_temp/{i}' for i in sorted(os.listdir('/hdd/pred_prec_temp'))[-24:]]"
   ]
  },
  {
   "cell_type": "code",
   "execution_count": 14,
   "metadata": {
    "collapsed": true,
    "execution": {
     "iopub.execute_input": "2020-11-27T09:14:24.853685Z",
     "iopub.status.busy": "2020-11-27T09:14:24.853436Z",
     "iopub.status.idle": "2020-11-27T09:24:54.462273Z",
     "shell.execute_reply": "2020-11-27T09:24:54.457954Z",
     "shell.execute_reply.started": "2020-11-27T09:14:24.853659Z"
    },
    "jupyter": {
     "outputs_hidden": true
    }
   },
   "outputs": [
    {
     "name": "stdout",
     "output_type": "stream",
     "text": [
      "/hdd/pred_prec_temp/2019-01-01 00:00:00.npy\n",
      "/hdd/pred_prec_temp/2019-01-01 01:00:00.npy\n",
      "/hdd/pred_prec_temp/2019-01-01 02:00:00.npy\n",
      "/hdd/pred_prec_temp/2019-01-01 03:00:00.npy\n",
      "/hdd/pred_prec_temp/2019-01-01 04:00:00.npy\n",
      "/hdd/pred_prec_temp/2019-01-01 05:00:00.npy\n",
      "/hdd/pred_prec_temp/2019-01-01 06:00:00.npy\n",
      "/hdd/pred_prec_temp/2019-01-01 07:00:00.npy\n",
      "/hdd/pred_prec_temp/2019-01-01 08:00:00.npy\n",
      "/hdd/pred_prec_temp/2019-01-01 09:00:00.npy\n",
      "/hdd/pred_prec_temp/2019-01-01 10:00:00.npy\n",
      "/hdd/pred_prec_temp/2019-01-01 11:00:00.npy\n",
      "/hdd/pred_prec_temp/2019-01-01 12:00:00.npy\n",
      "/hdd/pred_prec_temp/2019-01-01 13:00:00.npy\n",
      "/hdd/pred_prec_temp/2019-01-01 14:00:00.npy\n",
      "/hdd/pred_prec_temp/2019-01-01 15:00:00.npy\n",
      "/hdd/pred_prec_temp/2019-01-01 16:00:00.npy\n",
      "/hdd/pred_prec_temp/2019-01-01 17:00:00.npy\n",
      "/hdd/pred_prec_temp/2019-01-01 18:00:00.npy\n",
      "/hdd/pred_prec_temp/2019-01-01 19:00:00.npy\n",
      "/hdd/pred_prec_temp/2019-01-01 20:00:00.npy\n",
      "/hdd/pred_prec_temp/2019-01-01 21:00:00.npy\n",
      "/hdd/pred_prec_temp/2019-01-01 22:00:00.npy\n",
      "/hdd/pred_prec_temp/2019-01-01 23:00:00.npy\n",
      "/hdd/pred_prec_temp/2019-01-02 00:00:00.npy\n",
      "/hdd/pred_prec_temp/2019-01-03 00:00:00.npy\n",
      "/hdd/pred_prec_temp/2019-01-03 01:00:00.npy\n",
      "/hdd/pred_prec_temp/2019-01-03 02:00:00.npy\n",
      "/hdd/pred_prec_temp/2019-01-03 03:00:00.npy\n",
      "/hdd/pred_prec_temp/2019-01-03 04:00:00.npy\n",
      "/hdd/pred_prec_temp/2019-01-03 05:00:00.npy\n",
      "/hdd/pred_prec_temp/2019-01-03 06:00:00.npy\n",
      "/hdd/pred_prec_temp/2019-01-03 07:00:00.npy\n",
      "/hdd/pred_prec_temp/2019-01-03 08:00:00.npy\n",
      "/hdd/pred_prec_temp/2019-01-03 09:00:00.npy\n",
      "/hdd/pred_prec_temp/2019-01-03 10:00:00.npy\n",
      "/hdd/pred_prec_temp/2019-01-03 11:00:00.npy\n",
      "/hdd/pred_prec_temp/2019-01-03 12:00:00.npy\n",
      "/hdd/pred_prec_temp/2019-01-03 13:00:00.npy\n",
      "/hdd/pred_prec_temp/2019-01-03 14:00:00.npy\n",
      "/hdd/pred_prec_temp/2019-01-03 15:00:00.npy\n",
      "/hdd/pred_prec_temp/2019-01-03 16:00:00.npy\n",
      "/hdd/pred_prec_temp/2019-01-03 17:00:00.npy\n",
      "/hdd/pred_prec_temp/2019-01-03 18:00:00.npy\n",
      "/hdd/pred_prec_temp/2019-01-03 19:00:00.npy\n",
      "/hdd/pred_prec_temp/2019-01-03 20:00:00.npy\n",
      "/hdd/pred_prec_temp/2019-01-03 21:00:00.npy\n",
      "/hdd/pred_prec_temp/2019-01-03 22:00:00.npy\n",
      "/hdd/pred_prec_temp/2019-01-03 23:00:00.npy\n",
      "/hdd/pred_prec_temp/2019-01-04 00:00:00.npy\n",
      "/hdd/pred_prec_temp/2019-01-04 01:00:00.npy\n",
      "/hdd/pred_prec_temp/2019-01-04 02:00:00.npy\n",
      "/hdd/pred_prec_temp/2019-01-04 03:00:00.npy\n",
      "/hdd/pred_prec_temp/2019-01-04 04:00:00.npy\n",
      "/hdd/pred_prec_temp/2019-01-04 05:00:00.npy\n",
      "/hdd/pred_prec_temp/2019-01-04 06:00:00.npy\n",
      "/hdd/pred_prec_temp/2019-01-04 07:00:00.npy\n",
      "/hdd/pred_prec_temp/2019-01-04 08:00:00.npy\n",
      "/hdd/pred_prec_temp/2019-01-04 09:00:00.npy\n",
      "/hdd/pred_prec_temp/2019-01-04 10:00:00.npy\n",
      "/hdd/pred_prec_temp/2019-01-04 11:00:00.npy\n",
      "/hdd/pred_prec_temp/2019-01-04 12:00:00.npy\n",
      "/hdd/pred_prec_temp/2019-01-04 13:00:00.npy\n",
      "/hdd/pred_prec_temp/2019-01-04 14:00:00.npy\n",
      "/hdd/pred_prec_temp/2019-01-04 15:00:00.npy\n"
     ]
    }
   ],
   "source": [
    "train_x=list();train_y=list()\n",
    "for path in train_paths:\n",
    "    print(path)\n",
    "    data=np.load(path)\n",
    "    x=data[np.newaxis,:24,:300,:300]\n",
    "    x=x.astype(np.float32)\n",
    "    y=data[np.newaxis,1:,:300,:300]\n",
    "    y=y.astype(np.float32)\n",
    "    train_x.append(x)\n",
    "    train_y.append(y)"
   ]
  },
  {
   "cell_type": "code",
   "execution_count": 15,
   "metadata": {
    "collapsed": true,
    "execution": {
     "iopub.execute_input": "2020-11-27T09:24:57.150012Z",
     "iopub.status.busy": "2020-11-27T09:24:57.149816Z",
     "iopub.status.idle": "2020-11-27T09:26:13.424364Z",
     "shell.execute_reply": "2020-11-27T09:26:13.423761Z",
     "shell.execute_reply.started": "2020-11-27T09:24:57.149989Z"
    },
    "jupyter": {
     "outputs_hidden": true
    }
   },
   "outputs": [
    {
     "name": "stdout",
     "output_type": "stream",
     "text": [
      "/hdd/pred_prec_temp/2019-01-04 16:00:00.npy\n",
      "/hdd/pred_prec_temp/2019-01-04 17:00:00.npy\n",
      "/hdd/pred_prec_temp/2019-01-04 18:00:00.npy\n",
      "/hdd/pred_prec_temp/2019-01-04 19:00:00.npy\n",
      "/hdd/pred_prec_temp/2019-01-04 20:00:00.npy\n",
      "/hdd/pred_prec_temp/2019-01-04 21:00:00.npy\n",
      "/hdd/pred_prec_temp/2019-01-04 22:00:00.npy\n",
      "/hdd/pred_prec_temp/2019-01-04 23:00:00.npy\n"
     ]
    }
   ],
   "source": [
    "val_x=list();val_y=list()\n",
    "for path in val_paths:\n",
    "    print(path)\n",
    "    data=np.load(path)\n",
    "    x=data[np.newaxis,:24,:300,:300]\n",
    "    x=x.astype(np.float32)\n",
    "    y=data[np.newaxis,1:,:300,:300]\n",
    "    y=y.astype(np.float32)\n",
    "    val_x.append(x)\n",
    "    val_y.append(y)"
   ]
  },
  {
   "cell_type": "code",
   "execution_count": 16,
   "metadata": {
    "collapsed": true,
    "execution": {
     "iopub.execute_input": "2020-11-27T09:26:13.425443Z",
     "iopub.status.busy": "2020-11-27T09:26:13.425284Z",
     "iopub.status.idle": "2020-11-27T09:30:06.505592Z",
     "shell.execute_reply": "2020-11-27T09:30:06.505060Z",
     "shell.execute_reply.started": "2020-11-27T09:26:13.425426Z"
    },
    "jupyter": {
     "outputs_hidden": true
    }
   },
   "outputs": [
    {
     "name": "stdout",
     "output_type": "stream",
     "text": [
      "/hdd/pred_prec_temp/2019-01-05 00:00:00.npy\n",
      "/hdd/pred_prec_temp/2019-01-05 01:00:00.npy\n",
      "/hdd/pred_prec_temp/2019-01-05 02:00:00.npy\n",
      "/hdd/pred_prec_temp/2019-01-05 03:00:00.npy\n",
      "/hdd/pred_prec_temp/2019-01-05 04:00:00.npy\n",
      "/hdd/pred_prec_temp/2019-01-05 05:00:00.npy\n",
      "/hdd/pred_prec_temp/2019-01-05 06:00:00.npy\n",
      "/hdd/pred_prec_temp/2019-01-05 07:00:00.npy\n",
      "/hdd/pred_prec_temp/2019-01-05 08:00:00.npy\n",
      "/hdd/pred_prec_temp/2019-01-05 09:00:00.npy\n",
      "/hdd/pred_prec_temp/2019-01-05 10:00:00.npy\n",
      "/hdd/pred_prec_temp/2019-01-05 11:00:00.npy\n",
      "/hdd/pred_prec_temp/2019-01-05 12:00:00.npy\n",
      "/hdd/pred_prec_temp/2019-01-05 13:00:00.npy\n",
      "/hdd/pred_prec_temp/2019-01-05 14:00:00.npy\n",
      "/hdd/pred_prec_temp/2019-01-05 15:00:00.npy\n",
      "/hdd/pred_prec_temp/2019-01-05 16:00:00.npy\n",
      "/hdd/pred_prec_temp/2019-01-05 17:00:00.npy\n",
      "/hdd/pred_prec_temp/2019-01-05 18:00:00.npy\n",
      "/hdd/pred_prec_temp/2019-01-05 19:00:00.npy\n",
      "/hdd/pred_prec_temp/2019-01-05 20:00:00.npy\n",
      "/hdd/pred_prec_temp/2019-01-05 21:00:00.npy\n",
      "/hdd/pred_prec_temp/2019-01-05 22:00:00.npy\n",
      "/hdd/pred_prec_temp/2019-01-05 23:00:00.npy\n"
     ]
    }
   ],
   "source": [
    "test_x=list();test_y=list()\n",
    "for path in test_paths:\n",
    "    print(path)\n",
    "    data=np.load(path)\n",
    "    x=data[np.newaxis,:24,:300,:300]\n",
    "    x=x.astype(np.float32)\n",
    "    y=data[np.newaxis,1:,:300,:300]\n",
    "    y=y.astype(np.float32)\n",
    "    test_x.append(x)\n",
    "    test_y.append(y)"
   ]
  },
  {
   "cell_type": "code",
   "execution_count": 18,
   "metadata": {
    "execution": {
     "iopub.execute_input": "2020-11-27T09:30:39.757720Z",
     "iopub.status.busy": "2020-11-27T09:30:39.757448Z",
     "iopub.status.idle": "2020-11-27T09:30:42.814788Z",
     "shell.execute_reply": "2020-11-27T09:30:42.814231Z",
     "shell.execute_reply.started": "2020-11-27T09:30:39.757693Z"
    }
   },
   "outputs": [],
   "source": [
    "Xtrain=np.concatenate(train_x)\n",
    "Ytrain=np.concatenate(train_y)\n",
    "Xval  =np.concatenate(val_x  )\n",
    "Yval  =np.concatenate(val_y  )\n",
    "Xtest =np.concatenate(test_x )\n",
    "Ytest =np.concatenate(test_y )"
   ]
  },
  {
   "cell_type": "code",
   "execution_count": 76,
   "metadata": {
    "execution": {
     "iopub.execute_input": "2020-11-27T07:43:44.692897Z",
     "iopub.status.busy": "2020-11-27T07:43:44.692627Z",
     "iopub.status.idle": "2020-11-27T07:43:44.696900Z",
     "shell.execute_reply": "2020-11-27T07:43:44.696351Z",
     "shell.execute_reply.started": "2020-11-27T07:43:44.692869Z"
    }
   },
   "outputs": [
    {
     "data": {
      "text/plain": [
       "(65, 24, 300, 300, 3)"
      ]
     },
     "execution_count": 76,
     "metadata": {},
     "output_type": "execute_result"
    }
   ],
   "source": [
    "Xtrain.shape"
   ]
  },
  {
   "cell_type": "code",
   "execution_count": 77,
   "metadata": {
    "execution": {
     "iopub.execute_input": "2020-11-27T07:43:50.685711Z",
     "iopub.status.busy": "2020-11-27T07:43:50.685456Z",
     "iopub.status.idle": "2020-11-27T07:43:50.689236Z",
     "shell.execute_reply": "2020-11-27T07:43:50.688701Z",
     "shell.execute_reply.started": "2020-11-27T07:43:50.685685Z"
    }
   },
   "outputs": [],
   "source": [
    "import tensorflow as tf\n",
    "from tensorflow import keras\n",
    "from tensorflow.keras import layers\n",
    "import numpy as np\n",
    "import pylab as plt"
   ]
  },
  {
   "cell_type": "code",
   "execution_count": 6,
   "metadata": {
    "execution": {
     "iopub.execute_input": "2020-11-27T07:58:38.827579Z",
     "iopub.status.busy": "2020-11-27T07:58:38.827032Z",
     "iopub.status.idle": "2020-11-27T07:58:39.503480Z",
     "shell.execute_reply": "2020-11-27T07:58:39.502866Z",
     "shell.execute_reply.started": "2020-11-27T07:58:38.827541Z"
    }
   },
   "outputs": [],
   "source": [
    "seq = keras.Sequential(\n",
    "    [\n",
    "        keras.Input(\n",
    "            shape=(None, 300, 300, 3)\n",
    "        ),  # Variable-length sequence of 40x40x1 frames\n",
    "        layers.ConvLSTM2D(\n",
    "            filters=40, kernel_size=(3, 3), padding=\"same\", return_sequences=True\n",
    "        ),\n",
    "        layers.BatchNormalization(),\n",
    "        layers.ConvLSTM2D(\n",
    "            filters=1, kernel_size=(3, 3), padding=\"same\", return_sequences=True\n",
    "        ),\n",
    "#         layers.BatchNormalization(),\n",
    "#         layers.ConvLSTM2D(\n",
    "#             filters=40, kernel_size=(3, 3), padding=\"same\", return_sequences=True\n",
    "#         ),\n",
    "#         layers.BatchNormalization(),\n",
    "#         layers.ConvLSTM2D(\n",
    "#             filters=40, kernel_size=(3, 3), padding=\"same\", return_sequences=True\n",
    "#         ),\n",
    "#         layers.BatchNormalization(),\n",
    "#         layers.Conv3D(\n",
    "#             filters=1, kernel_size=(3, 3, 3), activation=\"sigmoid\", padding=\"same\"\n",
    "#         ),\n",
    "    ]\n",
    ")\n",
    "seq.compile(loss=\"binary_crossentropy\", optimizer=\"adadelta\")"
   ]
  },
  {
   "cell_type": "code",
   "execution_count": 35,
   "metadata": {
    "execution": {
     "iopub.execute_input": "2020-11-27T06:42:51.887480Z",
     "iopub.status.busy": "2020-11-27T06:42:51.887072Z",
     "iopub.status.idle": "2020-11-27T06:42:51.893826Z",
     "shell.execute_reply": "2020-11-27T06:42:51.892835Z",
     "shell.execute_reply.started": "2020-11-27T06:42:51.887433Z"
    }
   },
   "outputs": [
    {
     "data": {
      "text/plain": [
       "torch.Size([24, 300, 300, 3])"
      ]
     },
     "execution_count": 35,
     "metadata": {},
     "output_type": "execute_result"
    }
   ],
   "source": [
    "x.shape"
   ]
  },
  {
   "cell_type": "code",
   "execution_count": 36,
   "metadata": {
    "execution": {
     "iopub.execute_input": "2020-11-27T06:42:52.885101Z",
     "iopub.status.busy": "2020-11-27T06:42:52.884747Z",
     "iopub.status.idle": "2020-11-27T06:42:52.890796Z",
     "shell.execute_reply": "2020-11-27T06:42:52.889884Z",
     "shell.execute_reply.started": "2020-11-27T06:42:52.885061Z"
    }
   },
   "outputs": [
    {
     "data": {
      "text/plain": [
       "torch.Size([24, 300, 300, 3])"
      ]
     },
     "execution_count": 36,
     "metadata": {},
     "output_type": "execute_result"
    }
   ],
   "source": [
    "y.shape"
   ]
  },
  {
   "cell_type": "code",
   "execution_count": 84,
   "metadata": {
    "execution": {
     "iopub.execute_input": "2020-11-27T07:48:48.069847Z",
     "iopub.status.busy": "2020-11-27T07:48:48.069629Z",
     "iopub.status.idle": "2020-11-27T07:48:48.077242Z",
     "shell.execute_reply": "2020-11-27T07:48:48.076285Z",
     "shell.execute_reply.started": "2020-11-27T07:48:48.069824Z"
    }
   },
   "outputs": [
    {
     "data": {
      "text/plain": [
       "dtype('float32')"
      ]
     },
     "execution_count": 84,
     "metadata": {},
     "output_type": "execute_result"
    }
   ],
   "source": [
    "Xtrain.dtype"
   ]
  },
  {
   "cell_type": "code",
   "execution_count": 19,
   "metadata": {
    "execution": {
     "iopub.execute_input": "2020-11-27T09:30:47.423490Z",
     "iopub.status.busy": "2020-11-27T09:30:47.423344Z",
     "iopub.status.idle": "2020-11-27T09:32:08.938201Z",
     "shell.execute_reply": "2020-11-27T09:32:08.937553Z",
     "shell.execute_reply.started": "2020-11-27T09:30:47.423471Z"
    }
   },
   "outputs": [],
   "source": [
    "np.save('/hdd/Xrain.npy',Xtrain)\n",
    "np.save('/hdd/Ytrain.npy',Ytrain)\n",
    "np.save('/hdd/Xtest.npy',Xtest)\n",
    "np.save('/hdd/Ytest.npy',Ytest)\n",
    "np.save('/hdd/Xval.npy',Xval)\n",
    "np.save('/hdd/Yval.npy',Yval)"
   ]
  },
  {
   "cell_type": "code",
   "execution_count": 20,
   "metadata": {
    "execution": {
     "iopub.execute_input": "2020-11-27T09:32:13.527916Z",
     "iopub.status.busy": "2020-11-27T09:32:13.527789Z",
     "iopub.status.idle": "2020-11-27T09:32:13.530983Z",
     "shell.execute_reply": "2020-11-27T09:32:13.530450Z",
     "shell.execute_reply.started": "2020-11-27T09:32:13.527900Z"
    }
   },
   "outputs": [],
   "source": [
    "import tensorflow as tf\n",
    "from tensorflow import keras\n",
    "from tensorflow.keras import layers\n",
    "import numpy as np\n",
    "import pylab as plt"
   ]
  },
  {
   "cell_type": "code",
   "execution_count": 3,
   "metadata": {
    "execution": {
     "iopub.execute_input": "2020-11-27T07:57:22.715796Z",
     "iopub.status.busy": "2020-11-27T07:57:22.715597Z",
     "iopub.status.idle": "2020-11-27T07:58:06.810210Z",
     "shell.execute_reply": "2020-11-27T07:58:06.809572Z",
     "shell.execute_reply.started": "2020-11-27T07:57:22.715773Z"
    }
   },
   "outputs": [],
   "source": [
    "Xtrain=np.load('/hdd/Xrain.npy')\n",
    "Ytrain=np.load('/hdd/Ytrain.npy')\n",
    "Xtest=np.load('/hdd/Xtest.npy')\n",
    "Ytest=np.load('/hdd/Ytest.npy')\n",
    "Xval=np.load('/hdd/Xval.npy')\n",
    "Yval=np.load('/hdd/Yval.npy')"
   ]
  },
  {
   "cell_type": "code",
   "execution_count": 4,
   "metadata": {
    "execution": {
     "iopub.execute_input": "2020-11-27T07:58:07.454203Z",
     "iopub.status.busy": "2020-11-27T07:58:07.453881Z",
     "iopub.status.idle": "2020-11-27T07:58:09.061414Z",
     "shell.execute_reply": "2020-11-27T07:58:09.060680Z",
     "shell.execute_reply.started": "2020-11-27T07:58:07.454163Z"
    }
   },
   "outputs": [],
   "source": [
    "Xtrain=tf.convert_to_tensor(Xtrain,dtype=tf.float32)\n",
    "Ytrain=tf.convert_to_tensor(Ytrain,dtype=tf.float32)\n",
    "Xtest=tf.convert_to_tensor(Xtest,dtype=tf.float32)\n",
    "Ytest=tf.convert_to_tensor(Ytest,dtype=tf.float32)\n",
    "Xval=tf.convert_to_tensor(Xval,dtype=tf.float32)\n",
    "Yval=tf.convert_to_tensor(Yval,dtype=tf.float32)"
   ]
  },
  {
   "cell_type": "markdown",
   "metadata": {
    "execution": {
     "iopub.execute_input": "2020-11-28T06:39:38.009635Z",
     "iopub.status.busy": "2020-11-28T06:39:38.009396Z",
     "iopub.status.idle": "2020-11-28T06:39:38.016040Z",
     "shell.execute_reply": "2020-11-28T06:39:38.014666Z",
     "shell.execute_reply.started": "2020-11-28T06:39:38.009610Z"
    }
   },
   "source": [
    "################ "
   ]
  },
  {
   "cell_type": "markdown",
   "metadata": {
    "execution": {
     "iopub.execute_input": "2020-11-28T06:41:19.989497Z",
     "iopub.status.busy": "2020-11-28T06:41:19.988973Z",
     "iopub.status.idle": "2020-11-28T06:41:19.993893Z",
     "shell.execute_reply": "2020-11-28T06:41:19.993116Z",
     "shell.execute_reply.started": "2020-11-28T06:41:19.989436Z"
    }
   },
   "source": [
    "# https://www.tensorflow.org/addons/tutorials/layers_normalizations"
   ]
  },
  {
   "cell_type": "code",
   "execution_count": 5,
   "metadata": {
    "execution": {
     "iopub.execute_input": "2020-11-28T06:41:25.990428Z",
     "iopub.status.busy": "2020-11-28T06:41:25.989869Z",
     "iopub.status.idle": "2020-11-28T06:41:26.190288Z",
     "shell.execute_reply": "2020-11-28T06:41:26.189868Z",
     "shell.execute_reply.started": "2020-11-28T06:41:25.990365Z"
    }
   },
   "outputs": [],
   "source": [
    "import tensorflow as tf\n",
    "from tensorflow import keras\n",
    "from tensorflow.keras import layers\n",
    "import numpy as np\n",
    "import pylab as plt"
   ]
  },
  {
   "cell_type": "code",
   "execution_count": 6,
   "metadata": {
    "execution": {
     "iopub.execute_input": "2020-11-28T06:41:27.002154Z",
     "iopub.status.busy": "2020-11-28T06:41:27.001965Z",
     "iopub.status.idle": "2020-11-28T06:41:27.004830Z",
     "shell.execute_reply": "2020-11-28T06:41:27.004334Z",
     "shell.execute_reply.started": "2020-11-28T06:41:27.002129Z"
    }
   },
   "outputs": [],
   "source": [
    "import tensorflow_addons as tfa"
   ]
  },
  {
   "cell_type": "code",
   "execution_count": 2,
   "metadata": {
    "execution": {
     "iopub.execute_input": "2020-11-28T06:40:56.993915Z",
     "iopub.status.busy": "2020-11-28T06:40:56.993548Z",
     "iopub.status.idle": "2020-11-28T06:40:57.185825Z",
     "shell.execute_reply": "2020-11-28T06:40:57.185096Z",
     "shell.execute_reply.started": "2020-11-28T06:40:56.993874Z"
    }
   },
   "outputs": [
    {
     "ename": "NameError",
     "evalue": "name 'np' is not defined",
     "output_type": "error",
     "traceback": [
      "\u001b[0;31m---------------------------------------------------------------------------\u001b[0m",
      "\u001b[0;31mNameError\u001b[0m                                 Traceback (most recent call last)",
      "\u001b[0;32m<ipython-input-2-e5b7720d81a0>\u001b[0m in \u001b[0;36m<module>\u001b[0;34m\u001b[0m\n\u001b[0;32m----> 1\u001b[0;31m \u001b[0mXtrain\u001b[0m\u001b[0;34m=\u001b[0m\u001b[0mnp\u001b[0m\u001b[0;34m.\u001b[0m\u001b[0mload\u001b[0m\u001b[0;34m(\u001b[0m\u001b[0;34m'/hdd/Xrain.npy'\u001b[0m\u001b[0;34m)\u001b[0m\u001b[0;34m\u001b[0m\u001b[0;34m\u001b[0m\u001b[0m\n\u001b[0m\u001b[1;32m      2\u001b[0m \u001b[0mYtrain\u001b[0m\u001b[0;34m=\u001b[0m\u001b[0mnp\u001b[0m\u001b[0;34m.\u001b[0m\u001b[0mload\u001b[0m\u001b[0;34m(\u001b[0m\u001b[0;34m'/hdd/Ytrain.npy'\u001b[0m\u001b[0;34m)\u001b[0m\u001b[0;34m\u001b[0m\u001b[0;34m\u001b[0m\u001b[0m\n\u001b[1;32m      3\u001b[0m \u001b[0mXtrain\u001b[0m\u001b[0;34m=\u001b[0m\u001b[0mXtrain\u001b[0m\u001b[0;34m[\u001b[0m\u001b[0;34m:\u001b[0m\u001b[0;34m,\u001b[0m\u001b[0;34m:\u001b[0m\u001b[0;36m12\u001b[0m\u001b[0;34m]\u001b[0m\u001b[0;34m\u001b[0m\u001b[0;34m\u001b[0m\u001b[0m\n\u001b[1;32m      4\u001b[0m \u001b[0mYtrain\u001b[0m\u001b[0;34m=\u001b[0m\u001b[0mYtrain\u001b[0m\u001b[0;34m[\u001b[0m\u001b[0;34m:\u001b[0m\u001b[0;34m,\u001b[0m\u001b[0;34m:\u001b[0m\u001b[0;36m12\u001b[0m\u001b[0;34m]\u001b[0m\u001b[0;34m\u001b[0m\u001b[0;34m\u001b[0m\u001b[0m\n\u001b[1;32m      5\u001b[0m \u001b[0mXtrain\u001b[0m\u001b[0;34m=\u001b[0m\u001b[0mtf\u001b[0m\u001b[0;34m.\u001b[0m\u001b[0mconvert_to_tensor\u001b[0m\u001b[0;34m(\u001b[0m\u001b[0mXtrain\u001b[0m\u001b[0;34m,\u001b[0m\u001b[0mdtype\u001b[0m\u001b[0;34m=\u001b[0m\u001b[0mtf\u001b[0m\u001b[0;34m.\u001b[0m\u001b[0mfloat32\u001b[0m\u001b[0;34m)\u001b[0m\u001b[0;34m\u001b[0m\u001b[0;34m\u001b[0m\u001b[0m\n",
      "\u001b[0;31mNameError\u001b[0m: name 'np' is not defined"
     ]
    }
   ],
   "source": [
    "Xtrain=np.load('/hdd/Xrain.npy')\n",
    "Ytrain=np.load('/hdd/Ytrain.npy')\n",
    "Xtrain=Xtrain[:,:12]\n",
    "Ytrain=Ytrain[:,:12]\n",
    "Xtrain=tf.convert_to_tensor(Xtrain,dtype=tf.float32)\n",
    "Ytrain=tf.convert_to_tensor(Ytrain,dtype=tf.float32)"
   ]
  },
  {
   "cell_type": "code",
   "execution_count": 3,
   "metadata": {
    "execution": {
     "iopub.execute_input": "2020-11-28T06:40:58.004723Z",
     "iopub.status.busy": "2020-11-28T06:40:58.004371Z",
     "iopub.status.idle": "2020-11-28T06:40:58.021477Z",
     "shell.execute_reply": "2020-11-28T06:40:58.020233Z",
     "shell.execute_reply.started": "2020-11-28T06:40:58.004678Z"
    }
   },
   "outputs": [
    {
     "ename": "NameError",
     "evalue": "name 'np' is not defined",
     "output_type": "error",
     "traceback": [
      "\u001b[0;31m---------------------------------------------------------------------------\u001b[0m",
      "\u001b[0;31mNameError\u001b[0m                                 Traceback (most recent call last)",
      "\u001b[0;32m<ipython-input-3-6bf46c8f2953>\u001b[0m in \u001b[0;36m<module>\u001b[0;34m\u001b[0m\n\u001b[0;32m----> 1\u001b[0;31m \u001b[0mXval\u001b[0m\u001b[0;34m=\u001b[0m\u001b[0mnp\u001b[0m\u001b[0;34m.\u001b[0m\u001b[0mload\u001b[0m\u001b[0;34m(\u001b[0m\u001b[0;34m'/hdd/Xval.npy'\u001b[0m\u001b[0;34m)\u001b[0m\u001b[0;34m\u001b[0m\u001b[0;34m\u001b[0m\u001b[0m\n\u001b[0m\u001b[1;32m      2\u001b[0m \u001b[0mYval\u001b[0m\u001b[0;34m=\u001b[0m\u001b[0mnp\u001b[0m\u001b[0;34m.\u001b[0m\u001b[0mload\u001b[0m\u001b[0;34m(\u001b[0m\u001b[0;34m'/hdd/Yval.npy'\u001b[0m\u001b[0;34m)\u001b[0m\u001b[0;34m\u001b[0m\u001b[0;34m\u001b[0m\u001b[0m\n\u001b[1;32m      3\u001b[0m \u001b[0mXval\u001b[0m\u001b[0;34m=\u001b[0m\u001b[0mXval\u001b[0m\u001b[0;34m[\u001b[0m\u001b[0;34m:\u001b[0m\u001b[0;34m,\u001b[0m\u001b[0;34m:\u001b[0m\u001b[0;36m12\u001b[0m\u001b[0;34m]\u001b[0m\u001b[0;34m\u001b[0m\u001b[0;34m\u001b[0m\u001b[0m\n\u001b[1;32m      4\u001b[0m \u001b[0mYval\u001b[0m\u001b[0;34m=\u001b[0m\u001b[0mYval\u001b[0m\u001b[0;34m[\u001b[0m\u001b[0;34m:\u001b[0m\u001b[0;34m,\u001b[0m\u001b[0;34m:\u001b[0m\u001b[0;36m12\u001b[0m\u001b[0;34m]\u001b[0m\u001b[0;34m\u001b[0m\u001b[0;34m\u001b[0m\u001b[0m\n\u001b[1;32m      5\u001b[0m \u001b[0mXval\u001b[0m\u001b[0;34m=\u001b[0m\u001b[0mtf\u001b[0m\u001b[0;34m.\u001b[0m\u001b[0mconvert_to_tensor\u001b[0m\u001b[0;34m(\u001b[0m\u001b[0mXval\u001b[0m\u001b[0;34m,\u001b[0m\u001b[0mdtype\u001b[0m\u001b[0;34m=\u001b[0m\u001b[0mtf\u001b[0m\u001b[0;34m.\u001b[0m\u001b[0mfloat32\u001b[0m\u001b[0;34m)\u001b[0m\u001b[0;34m\u001b[0m\u001b[0;34m\u001b[0m\u001b[0m\n",
      "\u001b[0;31mNameError\u001b[0m: name 'np' is not defined"
     ]
    }
   ],
   "source": [
    "Xval=np.load('/hdd/Xval.npy')\n",
    "Yval=np.load('/hdd/Yval.npy')\n",
    "Xval=Xval[:,:12]\n",
    "Yval=Yval[:,:12]\n",
    "Xval=tf.convert_to_tensor(Xval,dtype=tf.float32)\n",
    "Yval=tf.convert_to_tensor(Yval,dtype=tf.float32)"
   ]
  },
  {
   "cell_type": "code",
   "execution_count": null,
   "metadata": {
    "execution": {
     "iopub.status.busy": "2020-11-28T06:40:58.022774Z",
     "iopub.status.idle": "2020-11-28T06:40:58.023415Z",
     "shell.execute_reply": "2020-11-28T06:40:58.023163Z"
    }
   },
   "outputs": [],
   "source": [
    "Xtest=np.load('/hdd/Xtest.npy')\n",
    "Ytest=np.load('/hdd/Ytest.npy')\n",
    "Xtest=Xtest[:,:12]\n",
    "Ytest=Ytest[:,:12]\n",
    "Xtest=tf.convert_to_tensor(Xtest,dtype=tf.float32)\n",
    "Ytest=tf.convert_to_tensor(Ytest,dtype=tf.float32)"
   ]
  },
  {
   "cell_type": "code",
   "execution_count": 4,
   "metadata": {
    "execution": {
     "iopub.execute_input": "2020-11-27T09:10:48.332848Z",
     "iopub.status.busy": "2020-11-27T09:10:48.332726Z",
     "iopub.status.idle": "2020-11-27T09:10:48.336443Z",
     "shell.execute_reply": "2020-11-27T09:10:48.335925Z",
     "shell.execute_reply.started": "2020-11-27T09:10:48.332832Z"
    }
   },
   "outputs": [
    {
     "data": {
      "text/plain": [
       "TensorShape([65, 12, 300, 300, 3])"
      ]
     },
     "execution_count": 4,
     "metadata": {},
     "output_type": "execute_result"
    }
   ],
   "source": [
    "Xtrain.shape"
   ]
  },
  {
   "cell_type": "code",
   "execution_count": 105,
   "metadata": {
    "execution": {
     "iopub.execute_input": "2020-11-28T06:38:23.994806Z",
     "iopub.status.busy": "2020-11-28T06:38:23.994437Z",
     "iopub.status.idle": "2020-11-28T06:38:24.316206Z",
     "shell.execute_reply": "2020-11-28T06:38:24.315598Z",
     "shell.execute_reply.started": "2020-11-28T06:38:23.994766Z"
    }
   },
   "outputs": [],
   "source": [
    "seq = keras.Sequential(\n",
    "    [\n",
    "        keras.Input(\n",
    "            shape=(None, 300, 300, 3)\n",
    "        ),  # Variable-length sequence of 40x40x1 frames\n",
    "        layers.ConvLSTM2D(\n",
    "            filters=5, kernel_size=(3, 3), dropout=0.2, recurrent_dropout=0.1,\n",
    "            padding=\"same\", return_sequences=True\n",
    "        ),\n",
    "        #tfa.layers.GroupNormalization(groups=5, axis=4),\n",
    "        tf.keras.layers.LayerNormalization(axis=4 , center=True , scale=True),\n",
    "\n",
    "#         tfa.layers.InstanceNormalization(axis=4, \n",
    "#                                    center=True, \n",
    "#                                    scale=True,\n",
    "#                                    beta_initializer=\"random_uniform\",\n",
    "#                                    gamma_initializer=\"random_uniform\"),\n",
    "#         layers.BatchNormalization(),\n",
    "        layers.ConvLSTM2D(\n",
    "            filters=3, kernel_size=(3, 3), padding=\"same\", return_sequences=True\n",
    "        ),\n",
    "#         layers.BatchNormalization(),\n",
    "#         layers.ConvLSTM2D(\n",
    "#             filters=5, kernel_size=(3, 3), padding=\"same\", return_sequences=True\n",
    "#         ),\n",
    "#         layers.BatchNormalization(),\n",
    "#         layers.ConvLSTM2D(\n",
    "#             filters=5, kernel_size=(3, 3), padding=\"same\", return_sequences=True\n",
    "#         ),\n",
    "#         layers.BatchNormalization(),\n",
    "#         layers.Conv3D(\n",
    "#             filters=1, kernel_size=(3, 3, 3), activation=\"sigmoid\", padding=\"same\"\n",
    "#         ),\n",
    "    ]\n",
    ")\n",
    "seq.compile(loss=\"mae\", optimizer=keras.optimizers.Adam(lr=0.01),metrics=['mse'])"
   ]
  },
  {
   "cell_type": "code",
   "execution_count": 106,
   "metadata": {
    "execution": {
     "iopub.execute_input": "2020-11-28T06:38:29.159641Z",
     "iopub.status.busy": "2020-11-28T06:38:29.159516Z",
     "iopub.status.idle": "2020-11-28T06:38:29.165005Z",
     "shell.execute_reply": "2020-11-28T06:38:29.164553Z",
     "shell.execute_reply.started": "2020-11-28T06:38:29.159625Z"
    }
   },
   "outputs": [
    {
     "name": "stdout",
     "output_type": "stream",
     "text": [
      "Model: \"sequential_20\"\n",
      "_________________________________________________________________\n",
      "Layer (type)                 Output Shape              Param #   \n",
      "=================================================================\n",
      "conv_lst_m2d_45 (ConvLSTM2D) (None, None, 300, 300, 5) 1460      \n",
      "_________________________________________________________________\n",
      "layer_normalization (LayerNo (None, None, 300, 300, 5) 10        \n",
      "_________________________________________________________________\n",
      "conv_lst_m2d_46 (ConvLSTM2D) (None, None, 300, 300, 3) 876       \n",
      "=================================================================\n",
      "Total params: 2,346\n",
      "Trainable params: 2,346\n",
      "Non-trainable params: 0\n",
      "_________________________________________________________________\n"
     ]
    }
   ],
   "source": [
    "seq.summary()"
   ]
  },
  {
   "cell_type": "code",
   "execution_count": 107,
   "metadata": {
    "execution": {
     "iopub.execute_input": "2020-11-28T06:38:43.990066Z",
     "iopub.status.busy": "2020-11-28T06:38:43.989671Z",
     "iopub.status.idle": "2020-11-28T06:38:58.625201Z",
     "shell.execute_reply": "2020-11-28T06:38:58.624604Z",
     "shell.execute_reply.started": "2020-11-28T06:38:43.990025Z"
    }
   },
   "outputs": [
    {
     "name": "stdout",
     "output_type": "stream",
     "text": [
      "Epoch 1/500\n"
     ]
    },
    {
     "ename": "ResourceExhaustedError",
     "evalue": " OOM when allocating tensor with shape[12,4,300,300,3] and type float on /job:localhost/replica:0/task:0/device:GPU:0 by allocator GPU_0_bfc\n\t [[node sequential_20/conv_lst_m2d_46/TensorArrayV2Stack/TensorListStack (defined at <ipython-input-107-d09141e715e2>:5) ]]\nHint: If you want to see a list of allocated tensors when OOM happens, add report_tensor_allocations_upon_oom to RunOptions for current allocation info.\n [Op:__inference_train_function_573532]\n\nFunction call stack:\ntrain_function\n",
     "output_type": "error",
     "traceback": [
      "\u001b[0;31m---------------------------------------------------------------------------\u001b[0m",
      "\u001b[0;31mResourceExhaustedError\u001b[0m                    Traceback (most recent call last)",
      "\u001b[0;32m<ipython-input-107-d09141e715e2>\u001b[0m in \u001b[0;36m<module>\u001b[0;34m\u001b[0m\n\u001b[1;32m      3\u001b[0m \u001b[0mtensorboard_callback\u001b[0m \u001b[0;34m=\u001b[0m \u001b[0mtf\u001b[0m\u001b[0;34m.\u001b[0m\u001b[0mkeras\u001b[0m\u001b[0;34m.\u001b[0m\u001b[0mcallbacks\u001b[0m\u001b[0;34m.\u001b[0m\u001b[0mTensorBoard\u001b[0m\u001b[0;34m(\u001b[0m\u001b[0mlog_dir\u001b[0m\u001b[0;34m=\u001b[0m\u001b[0mlog_dir\u001b[0m\u001b[0;34m,\u001b[0m \u001b[0mhistogram_freq\u001b[0m\u001b[0;34m=\u001b[0m\u001b[0;36m1\u001b[0m\u001b[0;34m)\u001b[0m\u001b[0;34m\u001b[0m\u001b[0;34m\u001b[0m\u001b[0m\n\u001b[1;32m      4\u001b[0m seq.fit(Xtrain,Ytrain,batch_size=4, epochs=500,verbose=1,validation_data=(Xval,Yval),\n\u001b[0;32m----> 5\u001b[0;31m         callbacks=[tensorboard_callback])\n\u001b[0m",
      "\u001b[0;32m~/anaconda3/envs/jupyter/lib/python3.6/site-packages/tensorflow/python/keras/engine/training.py\u001b[0m in \u001b[0;36m_method_wrapper\u001b[0;34m(self, *args, **kwargs)\u001b[0m\n\u001b[1;32m     64\u001b[0m   \u001b[0;32mdef\u001b[0m \u001b[0m_method_wrapper\u001b[0m\u001b[0;34m(\u001b[0m\u001b[0mself\u001b[0m\u001b[0;34m,\u001b[0m \u001b[0;34m*\u001b[0m\u001b[0margs\u001b[0m\u001b[0;34m,\u001b[0m \u001b[0;34m**\u001b[0m\u001b[0mkwargs\u001b[0m\u001b[0;34m)\u001b[0m\u001b[0;34m:\u001b[0m\u001b[0;34m\u001b[0m\u001b[0;34m\u001b[0m\u001b[0m\n\u001b[1;32m     65\u001b[0m     \u001b[0;32mif\u001b[0m \u001b[0;32mnot\u001b[0m \u001b[0mself\u001b[0m\u001b[0;34m.\u001b[0m\u001b[0m_in_multi_worker_mode\u001b[0m\u001b[0;34m(\u001b[0m\u001b[0;34m)\u001b[0m\u001b[0;34m:\u001b[0m  \u001b[0;31m# pylint: disable=protected-access\u001b[0m\u001b[0;34m\u001b[0m\u001b[0;34m\u001b[0m\u001b[0m\n\u001b[0;32m---> 66\u001b[0;31m       \u001b[0;32mreturn\u001b[0m \u001b[0mmethod\u001b[0m\u001b[0;34m(\u001b[0m\u001b[0mself\u001b[0m\u001b[0;34m,\u001b[0m \u001b[0;34m*\u001b[0m\u001b[0margs\u001b[0m\u001b[0;34m,\u001b[0m \u001b[0;34m**\u001b[0m\u001b[0mkwargs\u001b[0m\u001b[0;34m)\u001b[0m\u001b[0;34m\u001b[0m\u001b[0;34m\u001b[0m\u001b[0m\n\u001b[0m\u001b[1;32m     67\u001b[0m \u001b[0;34m\u001b[0m\u001b[0m\n\u001b[1;32m     68\u001b[0m     \u001b[0;31m# Running inside `run_distribute_coordinator` already.\u001b[0m\u001b[0;34m\u001b[0m\u001b[0;34m\u001b[0m\u001b[0;34m\u001b[0m\u001b[0m\n",
      "\u001b[0;32m~/anaconda3/envs/jupyter/lib/python3.6/site-packages/tensorflow/python/keras/engine/training.py\u001b[0m in \u001b[0;36mfit\u001b[0;34m(self, x, y, batch_size, epochs, verbose, callbacks, validation_split, validation_data, shuffle, class_weight, sample_weight, initial_epoch, steps_per_epoch, validation_steps, validation_batch_size, validation_freq, max_queue_size, workers, use_multiprocessing)\u001b[0m\n\u001b[1;32m    846\u001b[0m                 batch_size=batch_size):\n\u001b[1;32m    847\u001b[0m               \u001b[0mcallbacks\u001b[0m\u001b[0;34m.\u001b[0m\u001b[0mon_train_batch_begin\u001b[0m\u001b[0;34m(\u001b[0m\u001b[0mstep\u001b[0m\u001b[0;34m)\u001b[0m\u001b[0;34m\u001b[0m\u001b[0;34m\u001b[0m\u001b[0m\n\u001b[0;32m--> 848\u001b[0;31m               \u001b[0mtmp_logs\u001b[0m \u001b[0;34m=\u001b[0m \u001b[0mtrain_function\u001b[0m\u001b[0;34m(\u001b[0m\u001b[0miterator\u001b[0m\u001b[0;34m)\u001b[0m\u001b[0;34m\u001b[0m\u001b[0;34m\u001b[0m\u001b[0m\n\u001b[0m\u001b[1;32m    849\u001b[0m               \u001b[0;31m# Catch OutOfRangeError for Datasets of unknown size.\u001b[0m\u001b[0;34m\u001b[0m\u001b[0;34m\u001b[0m\u001b[0;34m\u001b[0m\u001b[0m\n\u001b[1;32m    850\u001b[0m               \u001b[0;31m# This blocks until the batch has finished executing.\u001b[0m\u001b[0;34m\u001b[0m\u001b[0;34m\u001b[0m\u001b[0;34m\u001b[0m\u001b[0m\n",
      "\u001b[0;32m~/anaconda3/envs/jupyter/lib/python3.6/site-packages/tensorflow/python/eager/def_function.py\u001b[0m in \u001b[0;36m__call__\u001b[0;34m(self, *args, **kwds)\u001b[0m\n\u001b[1;32m    578\u001b[0m         \u001b[0mxla_context\u001b[0m\u001b[0;34m.\u001b[0m\u001b[0mExit\u001b[0m\u001b[0;34m(\u001b[0m\u001b[0;34m)\u001b[0m\u001b[0;34m\u001b[0m\u001b[0;34m\u001b[0m\u001b[0m\n\u001b[1;32m    579\u001b[0m     \u001b[0;32melse\u001b[0m\u001b[0;34m:\u001b[0m\u001b[0;34m\u001b[0m\u001b[0;34m\u001b[0m\u001b[0m\n\u001b[0;32m--> 580\u001b[0;31m       \u001b[0mresult\u001b[0m \u001b[0;34m=\u001b[0m \u001b[0mself\u001b[0m\u001b[0;34m.\u001b[0m\u001b[0m_call\u001b[0m\u001b[0;34m(\u001b[0m\u001b[0;34m*\u001b[0m\u001b[0margs\u001b[0m\u001b[0;34m,\u001b[0m \u001b[0;34m**\u001b[0m\u001b[0mkwds\u001b[0m\u001b[0;34m)\u001b[0m\u001b[0;34m\u001b[0m\u001b[0;34m\u001b[0m\u001b[0m\n\u001b[0m\u001b[1;32m    581\u001b[0m \u001b[0;34m\u001b[0m\u001b[0m\n\u001b[1;32m    582\u001b[0m     \u001b[0;32mif\u001b[0m \u001b[0mtracing_count\u001b[0m \u001b[0;34m==\u001b[0m \u001b[0mself\u001b[0m\u001b[0;34m.\u001b[0m\u001b[0m_get_tracing_count\u001b[0m\u001b[0;34m(\u001b[0m\u001b[0;34m)\u001b[0m\u001b[0;34m:\u001b[0m\u001b[0;34m\u001b[0m\u001b[0;34m\u001b[0m\u001b[0m\n",
      "\u001b[0;32m~/anaconda3/envs/jupyter/lib/python3.6/site-packages/tensorflow/python/eager/def_function.py\u001b[0m in \u001b[0;36m_call\u001b[0;34m(self, *args, **kwds)\u001b[0m\n\u001b[1;32m    642\u001b[0m         \u001b[0;31m# Lifting succeeded, so variables are initialized and we can run the\u001b[0m\u001b[0;34m\u001b[0m\u001b[0;34m\u001b[0m\u001b[0;34m\u001b[0m\u001b[0m\n\u001b[1;32m    643\u001b[0m         \u001b[0;31m# stateless function.\u001b[0m\u001b[0;34m\u001b[0m\u001b[0;34m\u001b[0m\u001b[0;34m\u001b[0m\u001b[0m\n\u001b[0;32m--> 644\u001b[0;31m         \u001b[0;32mreturn\u001b[0m \u001b[0mself\u001b[0m\u001b[0;34m.\u001b[0m\u001b[0m_stateless_fn\u001b[0m\u001b[0;34m(\u001b[0m\u001b[0;34m*\u001b[0m\u001b[0margs\u001b[0m\u001b[0;34m,\u001b[0m \u001b[0;34m**\u001b[0m\u001b[0mkwds\u001b[0m\u001b[0;34m)\u001b[0m\u001b[0;34m\u001b[0m\u001b[0;34m\u001b[0m\u001b[0m\n\u001b[0m\u001b[1;32m    645\u001b[0m     \u001b[0;32melse\u001b[0m\u001b[0;34m:\u001b[0m\u001b[0;34m\u001b[0m\u001b[0;34m\u001b[0m\u001b[0m\n\u001b[1;32m    646\u001b[0m       \u001b[0mcanon_args\u001b[0m\u001b[0;34m,\u001b[0m \u001b[0mcanon_kwds\u001b[0m \u001b[0;34m=\u001b[0m\u001b[0;31m \u001b[0m\u001b[0;31m\\\u001b[0m\u001b[0;34m\u001b[0m\u001b[0;34m\u001b[0m\u001b[0m\n",
      "\u001b[0;32m~/anaconda3/envs/jupyter/lib/python3.6/site-packages/tensorflow/python/eager/function.py\u001b[0m in \u001b[0;36m__call__\u001b[0;34m(self, *args, **kwargs)\u001b[0m\n\u001b[1;32m   2418\u001b[0m     \u001b[0;32mwith\u001b[0m \u001b[0mself\u001b[0m\u001b[0;34m.\u001b[0m\u001b[0m_lock\u001b[0m\u001b[0;34m:\u001b[0m\u001b[0;34m\u001b[0m\u001b[0;34m\u001b[0m\u001b[0m\n\u001b[1;32m   2419\u001b[0m       \u001b[0mgraph_function\u001b[0m\u001b[0;34m,\u001b[0m \u001b[0margs\u001b[0m\u001b[0;34m,\u001b[0m \u001b[0mkwargs\u001b[0m \u001b[0;34m=\u001b[0m \u001b[0mself\u001b[0m\u001b[0;34m.\u001b[0m\u001b[0m_maybe_define_function\u001b[0m\u001b[0;34m(\u001b[0m\u001b[0margs\u001b[0m\u001b[0;34m,\u001b[0m \u001b[0mkwargs\u001b[0m\u001b[0;34m)\u001b[0m\u001b[0;34m\u001b[0m\u001b[0;34m\u001b[0m\u001b[0m\n\u001b[0;32m-> 2420\u001b[0;31m     \u001b[0;32mreturn\u001b[0m \u001b[0mgraph_function\u001b[0m\u001b[0;34m.\u001b[0m\u001b[0m_filtered_call\u001b[0m\u001b[0;34m(\u001b[0m\u001b[0margs\u001b[0m\u001b[0;34m,\u001b[0m \u001b[0mkwargs\u001b[0m\u001b[0;34m)\u001b[0m  \u001b[0;31m# pylint: disable=protected-access\u001b[0m\u001b[0;34m\u001b[0m\u001b[0;34m\u001b[0m\u001b[0m\n\u001b[0m\u001b[1;32m   2421\u001b[0m \u001b[0;34m\u001b[0m\u001b[0m\n\u001b[1;32m   2422\u001b[0m   \u001b[0;34m@\u001b[0m\u001b[0mproperty\u001b[0m\u001b[0;34m\u001b[0m\u001b[0;34m\u001b[0m\u001b[0m\n",
      "\u001b[0;32m~/anaconda3/envs/jupyter/lib/python3.6/site-packages/tensorflow/python/eager/function.py\u001b[0m in \u001b[0;36m_filtered_call\u001b[0;34m(self, args, kwargs)\u001b[0m\n\u001b[1;32m   1663\u001b[0m          if isinstance(t, (ops.Tensor,\n\u001b[1;32m   1664\u001b[0m                            resource_variable_ops.BaseResourceVariable))),\n\u001b[0;32m-> 1665\u001b[0;31m         self.captured_inputs)\n\u001b[0m\u001b[1;32m   1666\u001b[0m \u001b[0;34m\u001b[0m\u001b[0m\n\u001b[1;32m   1667\u001b[0m   \u001b[0;32mdef\u001b[0m \u001b[0m_call_flat\u001b[0m\u001b[0;34m(\u001b[0m\u001b[0mself\u001b[0m\u001b[0;34m,\u001b[0m \u001b[0margs\u001b[0m\u001b[0;34m,\u001b[0m \u001b[0mcaptured_inputs\u001b[0m\u001b[0;34m,\u001b[0m \u001b[0mcancellation_manager\u001b[0m\u001b[0;34m=\u001b[0m\u001b[0;32mNone\u001b[0m\u001b[0;34m)\u001b[0m\u001b[0;34m:\u001b[0m\u001b[0;34m\u001b[0m\u001b[0;34m\u001b[0m\u001b[0m\n",
      "\u001b[0;32m~/anaconda3/envs/jupyter/lib/python3.6/site-packages/tensorflow/python/eager/function.py\u001b[0m in \u001b[0;36m_call_flat\u001b[0;34m(self, args, captured_inputs, cancellation_manager)\u001b[0m\n\u001b[1;32m   1744\u001b[0m       \u001b[0;31m# No tape is watching; skip to running the function.\u001b[0m\u001b[0;34m\u001b[0m\u001b[0;34m\u001b[0m\u001b[0;34m\u001b[0m\u001b[0m\n\u001b[1;32m   1745\u001b[0m       return self._build_call_outputs(self._inference_function.call(\n\u001b[0;32m-> 1746\u001b[0;31m           ctx, args, cancellation_manager=cancellation_manager))\n\u001b[0m\u001b[1;32m   1747\u001b[0m     forward_backward = self._select_forward_and_backward_functions(\n\u001b[1;32m   1748\u001b[0m         \u001b[0margs\u001b[0m\u001b[0;34m,\u001b[0m\u001b[0;34m\u001b[0m\u001b[0;34m\u001b[0m\u001b[0m\n",
      "\u001b[0;32m~/anaconda3/envs/jupyter/lib/python3.6/site-packages/tensorflow/python/eager/function.py\u001b[0m in \u001b[0;36mcall\u001b[0;34m(self, ctx, args, cancellation_manager)\u001b[0m\n\u001b[1;32m    596\u001b[0m               \u001b[0minputs\u001b[0m\u001b[0;34m=\u001b[0m\u001b[0margs\u001b[0m\u001b[0;34m,\u001b[0m\u001b[0;34m\u001b[0m\u001b[0;34m\u001b[0m\u001b[0m\n\u001b[1;32m    597\u001b[0m               \u001b[0mattrs\u001b[0m\u001b[0;34m=\u001b[0m\u001b[0mattrs\u001b[0m\u001b[0;34m,\u001b[0m\u001b[0;34m\u001b[0m\u001b[0;34m\u001b[0m\u001b[0m\n\u001b[0;32m--> 598\u001b[0;31m               ctx=ctx)\n\u001b[0m\u001b[1;32m    599\u001b[0m         \u001b[0;32melse\u001b[0m\u001b[0;34m:\u001b[0m\u001b[0;34m\u001b[0m\u001b[0;34m\u001b[0m\u001b[0m\n\u001b[1;32m    600\u001b[0m           outputs = execute.execute_with_cancellation(\n",
      "\u001b[0;32m~/anaconda3/envs/jupyter/lib/python3.6/site-packages/tensorflow/python/eager/execute.py\u001b[0m in \u001b[0;36mquick_execute\u001b[0;34m(op_name, num_outputs, inputs, attrs, ctx, name)\u001b[0m\n\u001b[1;32m     58\u001b[0m     \u001b[0mctx\u001b[0m\u001b[0;34m.\u001b[0m\u001b[0mensure_initialized\u001b[0m\u001b[0;34m(\u001b[0m\u001b[0;34m)\u001b[0m\u001b[0;34m\u001b[0m\u001b[0;34m\u001b[0m\u001b[0m\n\u001b[1;32m     59\u001b[0m     tensors = pywrap_tfe.TFE_Py_Execute(ctx._handle, device_name, op_name,\n\u001b[0;32m---> 60\u001b[0;31m                                         inputs, attrs, num_outputs)\n\u001b[0m\u001b[1;32m     61\u001b[0m   \u001b[0;32mexcept\u001b[0m \u001b[0mcore\u001b[0m\u001b[0;34m.\u001b[0m\u001b[0m_NotOkStatusException\u001b[0m \u001b[0;32mas\u001b[0m \u001b[0me\u001b[0m\u001b[0;34m:\u001b[0m\u001b[0;34m\u001b[0m\u001b[0;34m\u001b[0m\u001b[0m\n\u001b[1;32m     62\u001b[0m     \u001b[0;32mif\u001b[0m \u001b[0mname\u001b[0m \u001b[0;32mis\u001b[0m \u001b[0;32mnot\u001b[0m \u001b[0;32mNone\u001b[0m\u001b[0;34m:\u001b[0m\u001b[0;34m\u001b[0m\u001b[0;34m\u001b[0m\u001b[0m\n",
      "\u001b[0;31mResourceExhaustedError\u001b[0m:  OOM when allocating tensor with shape[12,4,300,300,3] and type float on /job:localhost/replica:0/task:0/device:GPU:0 by allocator GPU_0_bfc\n\t [[node sequential_20/conv_lst_m2d_46/TensorArrayV2Stack/TensorListStack (defined at <ipython-input-107-d09141e715e2>:5) ]]\nHint: If you want to see a list of allocated tensors when OOM happens, add report_tensor_allocations_upon_oom to RunOptions for current allocation info.\n [Op:__inference_train_function_573532]\n\nFunction call stack:\ntrain_function\n"
     ]
    }
   ],
   "source": [
    "import datetime\n",
    "log_dir = \"logs/fit/\" + datetime.datetime.now().strftime(\"%Y%m%d-%H%M%S\")\n",
    "tensorboard_callback = tf.keras.callbacks.TensorBoard(log_dir=log_dir, histogram_freq=1)\n",
    "seq.fit(Xtrain,Ytrain,batch_size=4, epochs=500,verbose=1,validation_data=(Xval,Yval),\n",
    "        callbacks=[tensorboard_callback])"
   ]
  },
  {
   "cell_type": "code",
   "execution_count": 50,
   "metadata": {
    "execution": {
     "iopub.execute_input": "2020-11-27T14:37:03.242138Z",
     "iopub.status.busy": "2020-11-27T14:37:03.241871Z",
     "iopub.status.idle": "2020-11-27T14:37:03.246836Z",
     "shell.execute_reply": "2020-11-27T14:37:03.246298Z",
     "shell.execute_reply.started": "2020-11-27T14:37:03.242104Z"
    }
   },
   "outputs": [
    {
     "data": {
      "text/plain": [
       "TensorShape([65, 12, 300, 300, 3])"
      ]
     },
     "execution_count": 50,
     "metadata": {},
     "output_type": "execute_result"
    }
   ],
   "source": [
    "Xtrain.shape"
   ]
  },
  {
   "cell_type": "code",
   "execution_count": 53,
   "metadata": {
    "execution": {
     "iopub.execute_input": "2020-11-27T14:38:22.388775Z",
     "iopub.status.busy": "2020-11-27T14:38:22.388637Z",
     "iopub.status.idle": "2020-11-27T14:38:29.455306Z",
     "shell.execute_reply": "2020-11-27T14:38:29.454784Z",
     "shell.execute_reply.started": "2020-11-27T14:38:22.388757Z"
    }
   },
   "outputs": [
    {
     "data": {
      "text/plain": [
       "(24, 12, 300, 300, 3)"
      ]
     },
     "execution_count": 53,
     "metadata": {},
     "output_type": "execute_result"
    }
   ],
   "source": [
    "seq.predict(Xtest).shape"
   ]
  },
  {
   "cell_type": "code",
   "execution_count": 54,
   "metadata": {
    "execution": {
     "iopub.execute_input": "2020-11-27T14:38:29.456339Z",
     "iopub.status.busy": "2020-11-27T14:38:29.456184Z",
     "iopub.status.idle": "2020-11-27T14:38:29.459422Z",
     "shell.execute_reply": "2020-11-27T14:38:29.459064Z",
     "shell.execute_reply.started": "2020-11-27T14:38:29.456318Z"
    }
   },
   "outputs": [
    {
     "data": {
      "text/plain": [
       "TensorShape([24, 12, 300, 300, 3])"
      ]
     },
     "execution_count": 54,
     "metadata": {},
     "output_type": "execute_result"
    }
   ],
   "source": [
    "Ytest.shape"
   ]
  },
  {
   "cell_type": "code",
   "execution_count": 58,
   "metadata": {
    "execution": {
     "iopub.execute_input": "2020-11-27T14:39:59.838368Z",
     "iopub.status.busy": "2020-11-27T14:39:59.838129Z",
     "iopub.status.idle": "2020-11-27T14:40:01.494403Z",
     "shell.execute_reply": "2020-11-27T14:40:01.493587Z",
     "shell.execute_reply.started": "2020-11-27T14:39:59.838344Z"
    }
   },
   "outputs": [],
   "source": [
    "pred=seq.predict(Xtest)"
   ]
  },
  {
   "cell_type": "code",
   "execution_count": 59,
   "metadata": {
    "execution": {
     "iopub.execute_input": "2020-11-27T14:40:11.183704Z",
     "iopub.status.busy": "2020-11-27T14:40:11.183470Z",
     "iopub.status.idle": "2020-11-27T14:40:11.186679Z",
     "shell.execute_reply": "2020-11-27T14:40:11.186046Z",
     "shell.execute_reply.started": "2020-11-27T14:40:11.183676Z"
    }
   },
   "outputs": [],
   "source": [
    "teue=Ytest"
   ]
  },
  {
   "cell_type": "code",
   "execution_count": 61,
   "metadata": {
    "execution": {
     "iopub.execute_input": "2020-11-27T14:40:46.104422Z",
     "iopub.status.busy": "2020-11-27T14:40:46.104040Z",
     "iopub.status.idle": "2020-11-27T14:40:46.163531Z",
     "shell.execute_reply": "2020-11-27T14:40:46.163027Z",
     "shell.execute_reply.started": "2020-11-27T14:40:46.104397Z"
    }
   },
   "outputs": [],
   "source": [
    "pred_=pred[:,:,:,:,1].flatten()"
   ]
  },
  {
   "cell_type": "code",
   "execution_count": 63,
   "metadata": {
    "execution": {
     "iopub.execute_input": "2020-11-27T14:41:11.736988Z",
     "iopub.status.busy": "2020-11-27T14:41:11.736800Z",
     "iopub.status.idle": "2020-11-27T14:41:11.817532Z",
     "shell.execute_reply": "2020-11-27T14:41:11.817066Z",
     "shell.execute_reply.started": "2020-11-27T14:41:11.736964Z"
    }
   },
   "outputs": [],
   "source": [
    "true_=np.array(teue[:,:,:,:,1]).flatten()"
   ]
  },
  {
   "cell_type": "code",
   "execution_count": 67,
   "metadata": {
    "execution": {
     "iopub.execute_input": "2020-11-27T14:42:04.443401Z",
     "iopub.status.busy": "2020-11-27T14:42:04.443251Z",
     "iopub.status.idle": "2020-11-27T14:42:04.530192Z",
     "shell.execute_reply": "2020-11-27T14:42:04.529581Z",
     "shell.execute_reply.started": "2020-11-27T14:42:04.443381Z"
    }
   },
   "outputs": [
    {
     "data": {
      "text/plain": [
       "0.48878364197530866"
      ]
     },
     "execution_count": 67,
     "metadata": {},
     "output_type": "execute_result"
    }
   ],
   "source": [
    "np.sum(np.abs(pred_-true_))/len(true_)"
   ]
  },
  {
   "cell_type": "code",
   "execution_count": null,
   "metadata": {},
   "outputs": [],
   "source": []
  }
 ],
 "metadata": {
  "kernelspec": {
   "display_name": "Python 3",
   "language": "python",
   "name": "python3"
  },
  "language_info": {
   "codemirror_mode": {
    "name": "ipython",
    "version": 3
   },
   "file_extension": ".py",
   "mimetype": "text/x-python",
   "name": "python",
   "nbconvert_exporter": "python",
   "pygments_lexer": "ipython3",
   "version": "3.6.11"
  },
  "widgets": {
   "application/vnd.jupyter.widget-state+json": {
    "state": {},
    "version_major": 2,
    "version_minor": 0
   }
  }
 },
 "nbformat": 4,
 "nbformat_minor": 4
}
