{
 "cells": [
  {
   "cell_type": "code",
   "execution_count": 1,
   "metadata": {
    "execution": {
     "iopub.execute_input": "2020-11-26T10:39:02.379616Z",
     "iopub.status.busy": "2020-11-26T10:39:02.379419Z",
     "iopub.status.idle": "2020-11-26T10:39:04.969492Z",
     "shell.execute_reply": "2020-11-26T10:39:04.968832Z",
     "shell.execute_reply.started": "2020-11-26T10:39:02.379592Z"
    }
   },
   "outputs": [],
   "source": [
    "import gc\n",
    "from pathlib import Path\n",
    "\n",
    "import cv2\n",
    "import numpy as np\n",
    "import pandas as pd\n",
    "import matplotlib.pyplot as plt\n",
    "from tqdm.notebook import tqdm\n",
    "from sklearn import model_selection\n",
    "\n",
    "import torch\n",
    "import torch.nn as nn\n",
    "import torch.nn.functional as F\n",
    "\n",
    "import pytorch_lightning as pl\n",
    "\n",
    "from numpy import genfromtxt\n",
    "import datatable as dt\n",
    "import pandas as pd"
   ]
  },
  {
   "cell_type": "code",
   "execution_count": 2,
   "metadata": {
    "execution": {
     "iopub.execute_input": "2020-11-26T09:54:29.371462Z",
     "iopub.status.busy": "2020-11-26T09:54:29.371259Z",
     "iopub.status.idle": "2020-11-26T09:54:29.375913Z",
     "shell.execute_reply": "2020-11-26T09:54:29.375209Z",
     "shell.execute_reply.started": "2020-11-26T09:54:29.371437Z"
    }
   },
   "outputs": [],
   "source": [
    "# my_data = genfromtxt('/hdd/temp/prec2019-01-01 02:00:00.csv', delimiter=',')"
   ]
  },
  {
   "cell_type": "code",
   "execution_count": 3,
   "metadata": {
    "execution": {
     "iopub.execute_input": "2020-11-26T08:53:19.611251Z",
     "iopub.status.busy": "2020-11-26T08:53:19.611059Z",
     "iopub.status.idle": "2020-11-26T08:53:19.613840Z",
     "shell.execute_reply": "2020-11-26T08:53:19.613324Z",
     "shell.execute_reply.started": "2020-11-26T08:53:19.611226Z"
    }
   },
   "outputs": [],
   "source": [
    "# my_data2=my_data[1:].reshape(1159,1505)[::-1,::]"
   ]
  },
  {
   "cell_type": "code",
   "execution_count": 4,
   "metadata": {
    "execution": {
     "iopub.execute_input": "2020-11-26T08:53:19.614890Z",
     "iopub.status.busy": "2020-11-26T08:53:19.614696Z",
     "iopub.status.idle": "2020-11-26T08:53:19.617851Z",
     "shell.execute_reply": "2020-11-26T08:53:19.617350Z",
     "shell.execute_reply.started": "2020-11-26T08:53:19.614865Z"
    }
   },
   "outputs": [],
   "source": [
    "# dateDict=dict()\n",
    "# stDt=pd.to_datetime('2019-01-01')\n",
    "# edDt=pd.to_datetime('2019-02-01')\n",
    "# dataDate=[str(i) for i in pd.date_range(start=stDt,end=edDt , freq='H')]\n",
    "# for date in dataDate:\n",
    "#     print(date)\n",
    "#     dateDict.update({date:data_load(inputDate)})"
   ]
  },
  {
   "cell_type": "code",
   "execution_count": 5,
   "metadata": {
    "execution": {
     "iopub.execute_input": "2020-11-26T08:53:19.624274Z",
     "iopub.status.busy": "2020-11-26T08:53:19.624073Z",
     "iopub.status.idle": "2020-11-26T08:53:19.627002Z",
     "shell.execute_reply": "2020-11-26T08:53:19.626451Z",
     "shell.execute_reply.started": "2020-11-26T08:53:19.624249Z"
    }
   },
   "outputs": [],
   "source": [
    "# from numpy.lib.stride_tricks import as_strided\n",
    "# imgs = []\n",
    "# bs= 25\n",
    "# width = 1505\n",
    "# height = 1159\n",
    "# dataDate=[str(i) for i in pd.date_range(start=stDt,end=edDt , freq='H')]\n",
    "# for inputDate in dataDate:\n",
    "#     print(inputDate)\n",
    "#     imgs.append(data_load(inputDate))\n",
    "\n",
    "# arr = np.stack(imgs, axis=0)\n",
    "\n",
    "# shape = (arr.shape[0] -bs + 1, bs, *arr.shape[1:])\n",
    "# stride = (arr.strides[0], arr.strides[0], *arr.strides[1:])\n",
    "# new_arr = as_strided(arr, shape, stride)"
   ]
  },
  {
   "cell_type": "code",
   "execution_count": 2,
   "metadata": {
    "execution": {
     "iopub.execute_input": "2020-11-26T10:39:49.036939Z",
     "iopub.status.busy": "2020-11-26T10:39:49.036696Z",
     "iopub.status.idle": "2020-11-26T10:39:49.042857Z",
     "shell.execute_reply": "2020-11-26T10:39:49.042113Z",
     "shell.execute_reply.started": "2020-11-26T10:39:49.036914Z"
    }
   },
   "outputs": [],
   "source": [
    "inputDate='2019-01-03 01:00:00'"
   ]
  },
  {
   "cell_type": "code",
   "execution_count": null,
   "metadata": {},
   "outputs": [],
   "source": []
  },
  {
   "cell_type": "code",
   "execution_count": 3,
   "metadata": {
    "execution": {
     "iopub.execute_input": "2020-11-26T10:39:55.639677Z",
     "iopub.status.busy": "2020-11-26T10:39:55.639432Z",
     "iopub.status.idle": "2020-11-26T10:39:55.645899Z",
     "shell.execute_reply": "2020-11-26T10:39:55.645231Z",
     "shell.execute_reply.started": "2020-11-26T10:39:55.639649Z"
    }
   },
   "outputs": [],
   "source": [
    "def data_load(inputDate,variable=['temp','prec','rh'],path=r'/hdd/temp/',nrow=1159,ncol=1505):\n",
    "    df=np.empty((nrow,ncol,len(variable)),dtype=float)\n",
    "    for k,var in enumerate(variable):\n",
    "        data=dt.fread(f'{path}/{var}{str(inputDate)}.csv')\n",
    "        df[:,:,k]=data.to_numpy().reshape(nrow,ncol)[::-1,::]\n",
    "    return df"
   ]
  },
  {
   "cell_type": "code",
   "execution_count": 6,
   "metadata": {
    "execution": {
     "iopub.execute_input": "2020-11-26T10:43:47.637509Z",
     "iopub.status.busy": "2020-11-26T10:43:47.637120Z",
     "iopub.status.idle": "2020-11-26T10:43:47.642656Z",
     "shell.execute_reply": "2020-11-26T10:43:47.642070Z",
     "shell.execute_reply.started": "2020-11-26T10:43:47.637485Z"
    }
   },
   "outputs": [],
   "source": [
    "def data_gen(inputDate,shape,DateRange=pd.to_timedelta(1,unit='day')):\n",
    "    generateDate=[str(i) for i in \\\n",
    "                  pd.date_range(start=pd.to_datetime(inputDate)-\\\n",
    "                                DateRange,end=inputDate , freq='H')]\n",
    "    df=np.empty(shape,dtype=float)\n",
    "    for l, td in enumerate(generateDate):\n",
    "        df[l,:,:,:]=data_load(inputDate)\n",
    "    return df"
   ]
  },
  {
   "cell_type": "code",
   "execution_count": 38,
   "metadata": {
    "execution": {
     "iopub.execute_input": "2020-11-27T01:54:04.684194Z",
     "iopub.status.busy": "2020-11-27T01:54:04.683841Z",
     "iopub.status.idle": "2020-11-27T01:54:04.689513Z",
     "shell.execute_reply": "2020-11-27T01:54:04.688668Z",
     "shell.execute_reply.started": "2020-11-27T01:54:04.684154Z"
    }
   },
   "outputs": [],
   "source": [
    "def data_save(inputDate):\n",
    "    df=data_gen(inputDate,(25,1159,1505,3))\n",
    "    np.save(f'/pred_prec_temp/{inputDate}.npy',df)"
   ]
  },
  {
   "cell_type": "code",
   "execution_count": null,
   "metadata": {
    "execution": {
     "iopub.execute_input": "2020-11-27T01:54:05.819601Z",
     "iopub.status.busy": "2020-11-27T01:54:05.819239Z"
    }
   },
   "outputs": [
    {
     "name": "stdout",
     "output_type": "stream",
     "text": [
      "2019-02-01 00:00:00\n"
     ]
    }
   ],
   "source": [
    "DateRange=pd.to_timedelta(1,unit='day')\n",
    "generateDate=[str(i) for i in pd.date_range(start=pd.to_datetime(inputDate)-DateRange,end=inputDate , freq='H')]\n",
    "\n",
    "for date_ in generateDate:\n",
    "    print(date_)\n",
    "    data_save(date_)"
   ]
  },
  {
   "cell_type": "code",
   "execution_count": 9,
   "metadata": {
    "execution": {
     "iopub.execute_input": "2020-11-26T08:53:21.877307Z",
     "iopub.status.busy": "2020-11-26T08:53:21.877089Z",
     "iopub.status.idle": "2020-11-26T08:53:43.051169Z",
     "shell.execute_reply": "2020-11-26T08:53:43.050420Z",
     "shell.execute_reply.started": "2020-11-26T08:53:21.877284Z"
    }
   },
   "outputs": [],
   "source": [
    "df_=data_gen(inputDate,shape=(25,1159,1505,2))"
   ]
  },
  {
   "cell_type": "code",
   "execution_count": 10,
   "metadata": {
    "execution": {
     "iopub.execute_input": "2020-11-26T08:53:43.079327Z",
     "iopub.status.busy": "2020-11-26T08:53:43.079140Z",
     "iopub.status.idle": "2020-11-26T08:53:43.083720Z",
     "shell.execute_reply": "2020-11-26T08:53:43.083142Z",
     "shell.execute_reply.started": "2020-11-26T08:53:43.079301Z"
    }
   },
   "outputs": [
    {
     "name": "stdout",
     "output_type": "stream",
     "text": [
      "(24, 1159, 1505, 2)\n",
      "(1, 1159, 1505, 2)\n"
     ]
    }
   ],
   "source": [
    "print(df_[:-1,:,:,:].shape)\n",
    "print(df_[-1:,:,:,:].shape)"
   ]
  },
  {
   "cell_type": "code",
   "execution_count": 31,
   "metadata": {
    "execution": {
     "iopub.execute_input": "2020-11-26T06:56:26.079799Z",
     "iopub.status.busy": "2020-11-26T06:56:26.079581Z",
     "iopub.status.idle": "2020-11-26T06:56:26.091711Z",
     "shell.execute_reply": "2020-11-26T06:56:26.091229Z",
     "shell.execute_reply.started": "2020-11-26T06:56:26.079776Z"
    }
   },
   "outputs": [
    {
     "data": {
      "text/plain": [
       "torch.Size([1, 1159, 1505, 2, 1])"
      ]
     },
     "execution_count": 31,
     "metadata": {},
     "output_type": "execute_result"
    }
   ],
   "source": [
    "torch.tensor(df_[-1:,:,:,:]).unsqueeze(-1).shape"
   ]
  },
  {
   "cell_type": "code",
   "execution_count": 11,
   "metadata": {
    "execution": {
     "iopub.execute_input": "2020-11-26T08:53:44.725320Z",
     "iopub.status.busy": "2020-11-26T08:53:44.724877Z",
     "iopub.status.idle": "2020-11-26T08:53:44.733111Z",
     "shell.execute_reply": "2020-11-26T08:53:44.732182Z",
     "shell.execute_reply.started": "2020-11-26T08:53:44.725278Z"
    }
   },
   "outputs": [],
   "source": [
    "DateRange=pd.to_timedelta(1,unit='day')\n",
    "generateDate=[str(i) for i in pd.date_range(start=pd.to_datetime(inputDate)-DateRange,end=inputDate , freq='H')]"
   ]
  },
  {
   "cell_type": "code",
   "execution_count": 48,
   "metadata": {
    "execution": {
     "iopub.execute_input": "2020-11-26T10:10:03.341197Z",
     "iopub.status.busy": "2020-11-26T10:10:03.340795Z",
     "iopub.status.idle": "2020-11-26T10:10:03.348540Z",
     "shell.execute_reply": "2020-11-26T10:10:03.347684Z",
     "shell.execute_reply.started": "2020-11-26T10:10:03.341152Z"
    }
   },
   "outputs": [
    {
     "data": {
      "text/plain": [
       "(25, 1159, 1505, 2)"
      ]
     },
     "execution_count": 48,
     "metadata": {},
     "output_type": "execute_result"
    }
   ],
   "source": [
    "variable=['temp','prec']\n",
    "(25,1159,1505,len(variable))"
   ]
  },
  {
   "cell_type": "code",
   "execution_count": 51,
   "metadata": {
    "execution": {
     "iopub.execute_input": "2020-11-26T10:11:51.574032Z",
     "iopub.status.busy": "2020-11-26T10:11:51.573475Z",
     "iopub.status.idle": "2020-11-26T10:11:52.361609Z",
     "shell.execute_reply": "2020-11-26T10:11:52.361171Z",
     "shell.execute_reply.started": "2020-11-26T10:11:51.573949Z"
    }
   },
   "outputs": [],
   "source": [
    "t=data_load(inputDate)"
   ]
  },
  {
   "cell_type": "code",
   "execution_count": 52,
   "metadata": {
    "execution": {
     "iopub.execute_input": "2020-11-26T10:12:02.308972Z",
     "iopub.status.busy": "2020-11-26T10:12:02.308569Z",
     "iopub.status.idle": "2020-11-26T10:12:02.314058Z",
     "shell.execute_reply": "2020-11-26T10:12:02.313481Z",
     "shell.execute_reply.started": "2020-11-26T10:12:02.308926Z"
    }
   },
   "outputs": [
    {
     "data": {
      "text/plain": [
       "(1159, 1505, 2)"
      ]
     },
     "execution_count": 52,
     "metadata": {},
     "output_type": "execute_result"
    }
   ],
   "source": [
    "t.shape"
   ]
  },
  {
   "cell_type": "code",
   "execution_count": 49,
   "metadata": {
    "execution": {
     "iopub.execute_input": "2020-11-26T10:10:47.422273Z",
     "iopub.status.busy": "2020-11-26T10:10:47.422093Z",
     "iopub.status.idle": "2020-11-26T10:10:47.427246Z",
     "shell.execute_reply": "2020-11-26T10:10:47.426338Z",
     "shell.execute_reply.started": "2020-11-26T10:10:47.422255Z"
    }
   },
   "outputs": [],
   "source": [
    "def data_load(inputDate,path=r'/hdd/temp/',variable=['temp','prec'],nrow=1159,ncol=1505):\n",
    "    df=np.empty((nrow,ncol,len(variable)),dtype=float)\n",
    "    for k,var in enumerate(variable):\n",
    "        data=dt.fread(f'{path}/{var}{str(inputDate)}.csv')\n",
    "        df[:,:,k]=data.to_numpy().reshape(nrow,ncol)[::-1,::]\n",
    "    return df"
   ]
  },
  {
   "cell_type": "code",
   "execution_count": 77,
   "metadata": {
    "execution": {
     "iopub.execute_input": "2020-11-26T10:30:14.515133Z",
     "iopub.status.busy": "2020-11-26T10:30:14.514784Z",
     "iopub.status.idle": "2020-11-26T10:30:14.530268Z",
     "shell.execute_reply": "2020-11-26T10:30:14.529648Z",
     "shell.execute_reply.started": "2020-11-26T10:30:14.515107Z"
    }
   },
   "outputs": [],
   "source": [
    "class Dataset(torch.utils.data.Dataset):\n",
    "    def __init__(self, dates, test=False):\n",
    "        self.test = test\n",
    "        self.dates=dates\n",
    "#         self.dataDate=pd.DataFrame(dates).T.to_dict('index')[0]\n",
    "        self.dataDate=pd.Series(dates).to_dict()\n",
    "    def __len__(self):\n",
    "        return len(self.dataDate)\n",
    "\n",
    "    def __getitem__(self, date,variable=['temp','prec']):\n",
    "        data = self.data_gen(date)\n",
    "        x = data[:-1,:,:,:]\n",
    "        #         x = x / 255.0\n",
    "        x = x.astype(np.float32)\n",
    "        x = torch.tensor(x, dtype=torch.float)\n",
    "        if self.test:\n",
    "            return x\n",
    "        else:\n",
    "            y = df_[-1:,:,:,:]\n",
    "            #             y = y / 255.0\n",
    "            y = y.astype(np.float32)\n",
    "            y = torch.tensor(y, dtype=torch.float)\n",
    "            y = y.unsqueeze(-1)\n",
    "            return x, y\n",
    "        \n",
    "    def data_load(inputDate,path=r'/hdd/temp/',variable=['temp','prec'],nrow=1159,ncol=1505):\n",
    "        df=np.empty((nrow,ncol,len(variable)),dtype=float)\n",
    "        for k,var in enumerate(variable):\n",
    "            data=dt.fread(f'{path}/{var}{str(inputDate)}.csv')\n",
    "            df[:,:,k]=data.to_numpy().reshape(nrow,ncol)[::-1,::]\n",
    "        return df\n",
    "    \n",
    "    def data_gen(inputDate,DateRange=pd.to_timedelta(1,unit='day')):\n",
    "        generateDate=[str(i) for i in \\\n",
    "                  pd.date_range(start=pd.to_datetime(inputDate)-\\\n",
    "                                DateRange,end=inputDate , freq='H')]\n",
    "        #check\n",
    "        df=np.empty((25,1159,1505,len(variable)),dtype=float)\n",
    "        for l, td in enumerate(self.dataDate):\n",
    "            df[l,:,:,:]=self.data_load(inputDate)\n",
    "        return df"
   ]
  },
  {
   "cell_type": "code",
   "execution_count": 78,
   "metadata": {
    "execution": {
     "iopub.execute_input": "2020-11-26T10:30:14.531633Z",
     "iopub.status.busy": "2020-11-26T10:30:14.531312Z",
     "iopub.status.idle": "2020-11-26T10:30:14.541985Z",
     "shell.execute_reply": "2020-11-26T10:30:14.541400Z",
     "shell.execute_reply.started": "2020-11-26T10:30:14.531595Z"
    }
   },
   "outputs": [],
   "source": [
    "class DataModule(pl.LightningDataModule):\n",
    "    def __init__(self, batch_size, test=False, num_workers=4):\n",
    "        super().__init__()\n",
    "        self.test = test\n",
    "        self.batch_size = batch_size\n",
    "        self.num_workers = 4\n",
    "\n",
    "    def setup(self,generateDate, stage=\"train\"):\n",
    "        if stage == \"train\":\n",
    "            train_paths, val_paths = model_selection.train_test_split(\n",
    "                generateDate, test_size=0.1, shuffle=True\n",
    "            )\n",
    "            self.train_dataset = Dataset(train_paths)\n",
    "            self.val_dataset = Dataset(val_paths)\n",
    "        else:\n",
    "            self.test_dataset = Dataset(generateDate, test=True)\n",
    "\n",
    "    def train_dataloader(self):\n",
    "        return torch.utils.data.DataLoader(\n",
    "            self.train_dataset,\n",
    "            batch_size=self.batch_size,\n",
    "            shuffle=True,\n",
    "            pin_memory=True,\n",
    "            num_workers=self.num_workers,\n",
    "        )\n",
    "\n",
    "    def val_dataloader(self):\n",
    "        return torch.utils.data.DataLoader(\n",
    "            self.val_dataset,\n",
    "            batch_size=2 * self.batch_size,\n",
    "            pin_memory=True,\n",
    "            num_workers=self.num_workers,\n",
    "        )\n",
    "\n",
    "    def test_dataloader(self):\n",
    "        return torch.utils.data.DataLoader(\n",
    "            self.test_dataset,\n",
    "            batch_size=2 * self.batch_size,\n",
    "            pin_memory=True,\n",
    "            num_workers=self.num_workers,\n",
    "        )"
   ]
  },
  {
   "cell_type": "code",
   "execution_count": 80,
   "metadata": {
    "execution": {
     "iopub.execute_input": "2020-11-26T10:30:32.132984Z",
     "iopub.status.busy": "2020-11-26T10:30:32.132515Z",
     "iopub.status.idle": "2020-11-26T10:30:32.142510Z",
     "shell.execute_reply": "2020-11-26T10:30:32.141637Z",
     "shell.execute_reply.started": "2020-11-26T10:30:32.132941Z"
    }
   },
   "outputs": [],
   "source": [
    "DateRange=pd.to_timedelta(1,unit='day')\n",
    "generateDate=[str(i) for i in pd.date_range(start=pd.to_datetime(inputDate)-DateRange,end=inputDate , freq='H')]\n",
    "\n",
    "datamodule = DataModule(batch_size=2)\n",
    "datamodule.setup(generateDate)"
   ]
  },
  {
   "cell_type": "code",
   "execution_count": 81,
   "metadata": {
    "execution": {
     "iopub.execute_input": "2020-11-26T10:30:47.476862Z",
     "iopub.status.busy": "2020-11-26T10:30:47.476456Z",
     "iopub.status.idle": "2020-11-26T10:30:47.871761Z",
     "shell.execute_reply": "2020-11-26T10:30:47.870785Z",
     "shell.execute_reply.started": "2020-11-26T10:30:47.476838Z"
    }
   },
   "outputs": [
    {
     "ename": "RuntimeError",
     "evalue": "DataLoader worker (pid(s) 4079857) exited unexpectedly",
     "output_type": "error",
     "traceback": [
      "\u001b[0;31m---------------------------------------------------------------------------\u001b[0m",
      "\u001b[0;31mRuntimeError\u001b[0m                              Traceback (most recent call last)",
      "\u001b[0;32m~/anaconda3/envs/jupyter/lib/python3.6/site-packages/torch/utils/data/dataloader.py\u001b[0m in \u001b[0;36m_try_get_data\u001b[0;34m(self, timeout)\u001b[0m\n\u001b[1;32m    871\u001b[0m         \u001b[0;32mtry\u001b[0m\u001b[0;34m:\u001b[0m\u001b[0;34m\u001b[0m\u001b[0;34m\u001b[0m\u001b[0m\n\u001b[0;32m--> 872\u001b[0;31m             \u001b[0mdata\u001b[0m \u001b[0;34m=\u001b[0m \u001b[0mself\u001b[0m\u001b[0;34m.\u001b[0m\u001b[0m_data_queue\u001b[0m\u001b[0;34m.\u001b[0m\u001b[0mget\u001b[0m\u001b[0;34m(\u001b[0m\u001b[0mtimeout\u001b[0m\u001b[0;34m=\u001b[0m\u001b[0mtimeout\u001b[0m\u001b[0;34m)\u001b[0m\u001b[0;34m\u001b[0m\u001b[0;34m\u001b[0m\u001b[0m\n\u001b[0m\u001b[1;32m    873\u001b[0m             \u001b[0;32mreturn\u001b[0m \u001b[0;34m(\u001b[0m\u001b[0;32mTrue\u001b[0m\u001b[0;34m,\u001b[0m \u001b[0mdata\u001b[0m\u001b[0;34m)\u001b[0m\u001b[0;34m\u001b[0m\u001b[0;34m\u001b[0m\u001b[0m\n",
      "\u001b[0;32m~/anaconda3/envs/jupyter/lib/python3.6/queue.py\u001b[0m in \u001b[0;36mget\u001b[0;34m(self, block, timeout)\u001b[0m\n\u001b[1;32m    172\u001b[0m                         \u001b[0;32mraise\u001b[0m \u001b[0mEmpty\u001b[0m\u001b[0;34m\u001b[0m\u001b[0;34m\u001b[0m\u001b[0m\n\u001b[0;32m--> 173\u001b[0;31m                     \u001b[0mself\u001b[0m\u001b[0;34m.\u001b[0m\u001b[0mnot_empty\u001b[0m\u001b[0;34m.\u001b[0m\u001b[0mwait\u001b[0m\u001b[0;34m(\u001b[0m\u001b[0mremaining\u001b[0m\u001b[0;34m)\u001b[0m\u001b[0;34m\u001b[0m\u001b[0;34m\u001b[0m\u001b[0m\n\u001b[0m\u001b[1;32m    174\u001b[0m             \u001b[0mitem\u001b[0m \u001b[0;34m=\u001b[0m \u001b[0mself\u001b[0m\u001b[0;34m.\u001b[0m\u001b[0m_get\u001b[0m\u001b[0;34m(\u001b[0m\u001b[0;34m)\u001b[0m\u001b[0;34m\u001b[0m\u001b[0;34m\u001b[0m\u001b[0m\n",
      "\u001b[0;32m~/anaconda3/envs/jupyter/lib/python3.6/threading.py\u001b[0m in \u001b[0;36mwait\u001b[0;34m(self, timeout)\u001b[0m\n\u001b[1;32m    298\u001b[0m                 \u001b[0;32mif\u001b[0m \u001b[0mtimeout\u001b[0m \u001b[0;34m>\u001b[0m \u001b[0;36m0\u001b[0m\u001b[0;34m:\u001b[0m\u001b[0;34m\u001b[0m\u001b[0;34m\u001b[0m\u001b[0m\n\u001b[0;32m--> 299\u001b[0;31m                     \u001b[0mgotit\u001b[0m \u001b[0;34m=\u001b[0m \u001b[0mwaiter\u001b[0m\u001b[0;34m.\u001b[0m\u001b[0macquire\u001b[0m\u001b[0;34m(\u001b[0m\u001b[0;32mTrue\u001b[0m\u001b[0;34m,\u001b[0m \u001b[0mtimeout\u001b[0m\u001b[0;34m)\u001b[0m\u001b[0;34m\u001b[0m\u001b[0;34m\u001b[0m\u001b[0m\n\u001b[0m\u001b[1;32m    300\u001b[0m                 \u001b[0;32melse\u001b[0m\u001b[0;34m:\u001b[0m\u001b[0;34m\u001b[0m\u001b[0;34m\u001b[0m\u001b[0m\n",
      "\u001b[0;32m~/anaconda3/envs/jupyter/lib/python3.6/site-packages/torch/utils/data/_utils/signal_handling.py\u001b[0m in \u001b[0;36mhandler\u001b[0;34m(signum, frame)\u001b[0m\n\u001b[1;32m     65\u001b[0m         \u001b[0;31m# Python can still get and update the process status successfully.\u001b[0m\u001b[0;34m\u001b[0m\u001b[0;34m\u001b[0m\u001b[0;34m\u001b[0m\u001b[0m\n\u001b[0;32m---> 66\u001b[0;31m         \u001b[0m_error_if_any_worker_fails\u001b[0m\u001b[0;34m(\u001b[0m\u001b[0;34m)\u001b[0m\u001b[0;34m\u001b[0m\u001b[0;34m\u001b[0m\u001b[0m\n\u001b[0m\u001b[1;32m     67\u001b[0m         \u001b[0;32mif\u001b[0m \u001b[0mprevious_handler\u001b[0m \u001b[0;32mis\u001b[0m \u001b[0;32mnot\u001b[0m \u001b[0;32mNone\u001b[0m\u001b[0;34m:\u001b[0m\u001b[0;34m\u001b[0m\u001b[0;34m\u001b[0m\u001b[0m\n",
      "\u001b[0;31mRuntimeError\u001b[0m: DataLoader worker (pid 4079857) is killed by signal: Aborted. ",
      "\nThe above exception was the direct cause of the following exception:\n",
      "\u001b[0;31mRuntimeError\u001b[0m                              Traceback (most recent call last)",
      "\u001b[0;32m<ipython-input-81-5f50cf873bd5>\u001b[0m in \u001b[0;36m<module>\u001b[0;34m\u001b[0m\n\u001b[0;32m----> 1\u001b[0;31m \u001b[0;32mfor\u001b[0m \u001b[0mbatch\u001b[0m \u001b[0;32min\u001b[0m \u001b[0mdatamodule\u001b[0m\u001b[0;34m.\u001b[0m\u001b[0mtrain_dataloader\u001b[0m\u001b[0;34m(\u001b[0m\u001b[0;34m)\u001b[0m\u001b[0;34m:\u001b[0m\u001b[0;34m\u001b[0m\u001b[0;34m\u001b[0m\u001b[0m\n\u001b[0m\u001b[1;32m      2\u001b[0m     \u001b[0mxs\u001b[0m\u001b[0;34m,\u001b[0m \u001b[0mys\u001b[0m \u001b[0;34m=\u001b[0m \u001b[0mbatch\u001b[0m\u001b[0;34m\u001b[0m\u001b[0;34m\u001b[0m\u001b[0m\n\u001b[1;32m      3\u001b[0m     \u001b[0mx\u001b[0m\u001b[0;34m,\u001b[0m \u001b[0my\u001b[0m \u001b[0;34m=\u001b[0m \u001b[0mxs\u001b[0m\u001b[0;34m[\u001b[0m\u001b[0;36m0\u001b[0m\u001b[0;34m]\u001b[0m\u001b[0;34m,\u001b[0m \u001b[0mys\u001b[0m\u001b[0;34m[\u001b[0m\u001b[0;36m0\u001b[0m\u001b[0;34m]\u001b[0m\u001b[0;34m\u001b[0m\u001b[0;34m\u001b[0m\u001b[0m\n\u001b[1;32m      4\u001b[0m     \u001b[0;32mbreak\u001b[0m\u001b[0;34m\u001b[0m\u001b[0;34m\u001b[0m\u001b[0m\n",
      "\u001b[0;32m~/anaconda3/envs/jupyter/lib/python3.6/site-packages/torch/utils/data/dataloader.py\u001b[0m in \u001b[0;36m__next__\u001b[0;34m(self)\u001b[0m\n\u001b[1;32m    433\u001b[0m         \u001b[0;32mif\u001b[0m \u001b[0mself\u001b[0m\u001b[0;34m.\u001b[0m\u001b[0m_sampler_iter\u001b[0m \u001b[0;32mis\u001b[0m \u001b[0;32mNone\u001b[0m\u001b[0;34m:\u001b[0m\u001b[0;34m\u001b[0m\u001b[0;34m\u001b[0m\u001b[0m\n\u001b[1;32m    434\u001b[0m             \u001b[0mself\u001b[0m\u001b[0;34m.\u001b[0m\u001b[0m_reset\u001b[0m\u001b[0;34m(\u001b[0m\u001b[0;34m)\u001b[0m\u001b[0;34m\u001b[0m\u001b[0;34m\u001b[0m\u001b[0m\n\u001b[0;32m--> 435\u001b[0;31m         \u001b[0mdata\u001b[0m \u001b[0;34m=\u001b[0m \u001b[0mself\u001b[0m\u001b[0;34m.\u001b[0m\u001b[0m_next_data\u001b[0m\u001b[0;34m(\u001b[0m\u001b[0;34m)\u001b[0m\u001b[0;34m\u001b[0m\u001b[0;34m\u001b[0m\u001b[0m\n\u001b[0m\u001b[1;32m    436\u001b[0m         \u001b[0mself\u001b[0m\u001b[0;34m.\u001b[0m\u001b[0m_num_yielded\u001b[0m \u001b[0;34m+=\u001b[0m \u001b[0;36m1\u001b[0m\u001b[0;34m\u001b[0m\u001b[0;34m\u001b[0m\u001b[0m\n\u001b[1;32m    437\u001b[0m         \u001b[0;32mif\u001b[0m \u001b[0mself\u001b[0m\u001b[0;34m.\u001b[0m\u001b[0m_dataset_kind\u001b[0m \u001b[0;34m==\u001b[0m \u001b[0m_DatasetKind\u001b[0m\u001b[0;34m.\u001b[0m\u001b[0mIterable\u001b[0m \u001b[0;32mand\u001b[0m\u001b[0;31m \u001b[0m\u001b[0;31m\\\u001b[0m\u001b[0;34m\u001b[0m\u001b[0;34m\u001b[0m\u001b[0m\n",
      "\u001b[0;32m~/anaconda3/envs/jupyter/lib/python3.6/site-packages/torch/utils/data/dataloader.py\u001b[0m in \u001b[0;36m_next_data\u001b[0;34m(self)\u001b[0m\n\u001b[1;32m   1066\u001b[0m \u001b[0;34m\u001b[0m\u001b[0m\n\u001b[1;32m   1067\u001b[0m             \u001b[0;32massert\u001b[0m \u001b[0;32mnot\u001b[0m \u001b[0mself\u001b[0m\u001b[0;34m.\u001b[0m\u001b[0m_shutdown\u001b[0m \u001b[0;32mand\u001b[0m \u001b[0mself\u001b[0m\u001b[0;34m.\u001b[0m\u001b[0m_tasks_outstanding\u001b[0m \u001b[0;34m>\u001b[0m \u001b[0;36m0\u001b[0m\u001b[0;34m\u001b[0m\u001b[0;34m\u001b[0m\u001b[0m\n\u001b[0;32m-> 1068\u001b[0;31m             \u001b[0midx\u001b[0m\u001b[0;34m,\u001b[0m \u001b[0mdata\u001b[0m \u001b[0;34m=\u001b[0m \u001b[0mself\u001b[0m\u001b[0;34m.\u001b[0m\u001b[0m_get_data\u001b[0m\u001b[0;34m(\u001b[0m\u001b[0;34m)\u001b[0m\u001b[0;34m\u001b[0m\u001b[0;34m\u001b[0m\u001b[0m\n\u001b[0m\u001b[1;32m   1069\u001b[0m             \u001b[0mself\u001b[0m\u001b[0;34m.\u001b[0m\u001b[0m_tasks_outstanding\u001b[0m \u001b[0;34m-=\u001b[0m \u001b[0;36m1\u001b[0m\u001b[0;34m\u001b[0m\u001b[0;34m\u001b[0m\u001b[0m\n\u001b[1;32m   1070\u001b[0m             \u001b[0;32mif\u001b[0m \u001b[0mself\u001b[0m\u001b[0;34m.\u001b[0m\u001b[0m_dataset_kind\u001b[0m \u001b[0;34m==\u001b[0m \u001b[0m_DatasetKind\u001b[0m\u001b[0;34m.\u001b[0m\u001b[0mIterable\u001b[0m\u001b[0;34m:\u001b[0m\u001b[0;34m\u001b[0m\u001b[0;34m\u001b[0m\u001b[0m\n",
      "\u001b[0;32m~/anaconda3/envs/jupyter/lib/python3.6/site-packages/torch/utils/data/dataloader.py\u001b[0m in \u001b[0;36m_get_data\u001b[0;34m(self)\u001b[0m\n\u001b[1;32m   1022\u001b[0m         \u001b[0;32melif\u001b[0m \u001b[0mself\u001b[0m\u001b[0;34m.\u001b[0m\u001b[0m_pin_memory\u001b[0m\u001b[0;34m:\u001b[0m\u001b[0;34m\u001b[0m\u001b[0;34m\u001b[0m\u001b[0m\n\u001b[1;32m   1023\u001b[0m             \u001b[0;32mwhile\u001b[0m \u001b[0mself\u001b[0m\u001b[0;34m.\u001b[0m\u001b[0m_pin_memory_thread\u001b[0m\u001b[0;34m.\u001b[0m\u001b[0mis_alive\u001b[0m\u001b[0;34m(\u001b[0m\u001b[0;34m)\u001b[0m\u001b[0;34m:\u001b[0m\u001b[0;34m\u001b[0m\u001b[0;34m\u001b[0m\u001b[0m\n\u001b[0;32m-> 1024\u001b[0;31m                 \u001b[0msuccess\u001b[0m\u001b[0;34m,\u001b[0m \u001b[0mdata\u001b[0m \u001b[0;34m=\u001b[0m \u001b[0mself\u001b[0m\u001b[0;34m.\u001b[0m\u001b[0m_try_get_data\u001b[0m\u001b[0;34m(\u001b[0m\u001b[0;34m)\u001b[0m\u001b[0;34m\u001b[0m\u001b[0;34m\u001b[0m\u001b[0m\n\u001b[0m\u001b[1;32m   1025\u001b[0m                 \u001b[0;32mif\u001b[0m \u001b[0msuccess\u001b[0m\u001b[0;34m:\u001b[0m\u001b[0;34m\u001b[0m\u001b[0;34m\u001b[0m\u001b[0m\n\u001b[1;32m   1026\u001b[0m                     \u001b[0;32mreturn\u001b[0m \u001b[0mdata\u001b[0m\u001b[0;34m\u001b[0m\u001b[0;34m\u001b[0m\u001b[0m\n",
      "\u001b[0;32m~/anaconda3/envs/jupyter/lib/python3.6/site-packages/torch/utils/data/dataloader.py\u001b[0m in \u001b[0;36m_try_get_data\u001b[0;34m(self, timeout)\u001b[0m\n\u001b[1;32m    883\u001b[0m             \u001b[0;32mif\u001b[0m \u001b[0mlen\u001b[0m\u001b[0;34m(\u001b[0m\u001b[0mfailed_workers\u001b[0m\u001b[0;34m)\u001b[0m \u001b[0;34m>\u001b[0m \u001b[0;36m0\u001b[0m\u001b[0;34m:\u001b[0m\u001b[0;34m\u001b[0m\u001b[0;34m\u001b[0m\u001b[0m\n\u001b[1;32m    884\u001b[0m                 \u001b[0mpids_str\u001b[0m \u001b[0;34m=\u001b[0m \u001b[0;34m', '\u001b[0m\u001b[0;34m.\u001b[0m\u001b[0mjoin\u001b[0m\u001b[0;34m(\u001b[0m\u001b[0mstr\u001b[0m\u001b[0;34m(\u001b[0m\u001b[0mw\u001b[0m\u001b[0;34m.\u001b[0m\u001b[0mpid\u001b[0m\u001b[0;34m)\u001b[0m \u001b[0;32mfor\u001b[0m \u001b[0mw\u001b[0m \u001b[0;32min\u001b[0m \u001b[0mfailed_workers\u001b[0m\u001b[0;34m)\u001b[0m\u001b[0;34m\u001b[0m\u001b[0;34m\u001b[0m\u001b[0m\n\u001b[0;32m--> 885\u001b[0;31m                 \u001b[0;32mraise\u001b[0m \u001b[0mRuntimeError\u001b[0m\u001b[0;34m(\u001b[0m\u001b[0;34m'DataLoader worker (pid(s) {}) exited unexpectedly'\u001b[0m\u001b[0;34m.\u001b[0m\u001b[0mformat\u001b[0m\u001b[0;34m(\u001b[0m\u001b[0mpids_str\u001b[0m\u001b[0;34m)\u001b[0m\u001b[0;34m)\u001b[0m \u001b[0;32mfrom\u001b[0m \u001b[0me\u001b[0m\u001b[0;34m\u001b[0m\u001b[0;34m\u001b[0m\u001b[0m\n\u001b[0m\u001b[1;32m    886\u001b[0m             \u001b[0;32mif\u001b[0m \u001b[0misinstance\u001b[0m\u001b[0;34m(\u001b[0m\u001b[0me\u001b[0m\u001b[0;34m,\u001b[0m \u001b[0mqueue\u001b[0m\u001b[0;34m.\u001b[0m\u001b[0mEmpty\u001b[0m\u001b[0;34m)\u001b[0m\u001b[0;34m:\u001b[0m\u001b[0;34m\u001b[0m\u001b[0;34m\u001b[0m\u001b[0m\n\u001b[1;32m    887\u001b[0m                 \u001b[0;32mreturn\u001b[0m \u001b[0;34m(\u001b[0m\u001b[0;32mFalse\u001b[0m\u001b[0;34m,\u001b[0m \u001b[0;32mNone\u001b[0m\u001b[0;34m)\u001b[0m\u001b[0;34m\u001b[0m\u001b[0;34m\u001b[0m\u001b[0m\n",
      "\u001b[0;31mRuntimeError\u001b[0m: DataLoader worker (pid(s) 4079857) exited unexpectedly"
     ]
    }
   ],
   "source": [
    "for batch in datamodule.train_dataloader():\n",
    "    xs, ys = batch\n",
    "    x, y = xs[0], ys[0]\n",
    "    break"
   ]
  },
  {
   "cell_type": "markdown",
   "metadata": {},
   "source": [
    "## Model"
   ]
  },
  {
   "cell_type": "code",
   "execution_count": 119,
   "metadata": {
    "execution": {
     "iopub.execute_input": "2020-11-26T09:44:28.783822Z",
     "iopub.status.busy": "2020-11-26T09:44:28.783413Z",
     "iopub.status.idle": "2020-11-26T09:44:28.792773Z",
     "shell.execute_reply": "2020-11-26T09:44:28.791873Z",
     "shell.execute_reply.started": "2020-11-26T09:44:28.783777Z"
    }
   },
   "outputs": [],
   "source": [
    "class Block(nn.Module):\n",
    "    def __init__(self, in_ch, out_ch):\n",
    "        super().__init__()\n",
    "        self.net = nn.Sequential(\n",
    "            nn.Conv2d(in_ch, out_ch, kernel_size=3, padding=1, bias=False),\n",
    "            nn.BatchNorm2d(out_ch),\n",
    "            nn.ReLU(inplace=True),\n",
    "        )\n",
    "\n",
    "    def forward(self, x):\n",
    "        return self.net(x)"
   ]
  },
  {
   "cell_type": "code",
   "execution_count": 120,
   "metadata": {
    "execution": {
     "iopub.execute_input": "2020-11-26T09:44:28.895594Z",
     "iopub.status.busy": "2020-11-26T09:44:28.895463Z",
     "iopub.status.idle": "2020-11-26T09:44:28.901815Z",
     "shell.execute_reply": "2020-11-26T09:44:28.900890Z",
     "shell.execute_reply.started": "2020-11-26T09:44:28.895578Z"
    }
   },
   "outputs": [],
   "source": [
    "class Encoder(nn.Module):\n",
    "    def __init__(self, chs=[4, 64, 128]):\n",
    "        super().__init__()\n",
    "        self.pool = nn.MaxPool2d(kernel_size=2, stride=2)\n",
    "        self.blocks = nn.ModuleList(\n",
    "            [Block(chs[i], chs[i + 1]) for i in range(len(chs) - 1)]\n",
    "        )\n",
    "        self.conv = nn.Conv2d(128, 512, kernel_size=3, padding=1)\n",
    "\n",
    "    def forward(self, x):\n",
    "        ftrs = []\n",
    "        for block in self.blocks:\n",
    "            x = block(x)\n",
    "            ftrs.append(x)\n",
    "            x = self.pool(x)\n",
    "        x = self.conv(x)\n",
    "        ftrs.append(x)\n",
    "        return ftrs"
   ]
  },
  {
   "cell_type": "code",
   "execution_count": 121,
   "metadata": {
    "execution": {
     "iopub.execute_input": "2020-11-26T09:44:29.787489Z",
     "iopub.status.busy": "2020-11-26T09:44:29.787094Z",
     "iopub.status.idle": "2020-11-26T09:44:29.797912Z",
     "shell.execute_reply": "2020-11-26T09:44:29.797130Z",
     "shell.execute_reply.started": "2020-11-26T09:44:29.787445Z"
    }
   },
   "outputs": [],
   "source": [
    "class Decoder(nn.Module):\n",
    "    def __init__(self, chs=[512, 128, 64]):\n",
    "        super().__init__()\n",
    "        self.tr_convs = nn.ModuleList(\n",
    "            [\n",
    "                nn.ConvTranspose2d(chs[i], chs[i + 1], kernel_size=2, stride=2)\n",
    "                for i in range(len(chs) - 1)\n",
    "            ]\n",
    "        )\n",
    "        self.blocks = nn.ModuleList(\n",
    "            [Block(2 * chs[i + 1], chs[i + 1]) for i in range(len(chs) - 1)]\n",
    "        )\n",
    "\n",
    "    def forward(self, x, ftrs):\n",
    "        for i, ftr in enumerate(ftrs):\n",
    "            x = self.tr_convs[i](x)\n",
    "            x = torch.cat([ftr, x], dim=1)\n",
    "            x = self.blocks[i](x)\n",
    "        return x"
   ]
  },
  {
   "cell_type": "code",
   "execution_count": 122,
   "metadata": {
    "execution": {
     "iopub.execute_input": "2020-11-26T09:44:29.978052Z",
     "iopub.status.busy": "2020-11-26T09:44:29.977663Z",
     "iopub.status.idle": "2020-11-26T09:44:29.995720Z",
     "shell.execute_reply": "2020-11-26T09:44:29.995076Z",
     "shell.execute_reply.started": "2020-11-26T09:44:29.978007Z"
    }
   },
   "outputs": [],
   "source": [
    "class Baseline(pl.LightningModule):\n",
    "    def __init__(self, lr=1e-3, enc_chs=[4, 64, 128], dec_chs=[512, 128, 64]):\n",
    "        super().__init__()\n",
    "        self.lr = lr\n",
    "        self.criterion = nn.L1Loss()\n",
    "        self.encoder = Encoder(enc_chs)\n",
    "        self.decoder = Decoder(dec_chs)\n",
    "        self.out = nn.Sequential(\n",
    "            nn.Conv2d(64, 1, kernel_size=3, padding=1),\n",
    "            nn.ReLU(inplace=True),\n",
    "        )\n",
    "\n",
    "    def forward(self, x):\n",
    "        ftrs = self.encoder(x)\n",
    "        ftrs = ftrs[::-1]\n",
    "        x = self.decoder(ftrs[0], ftrs[1:])\n",
    "        out = self.out(x)\n",
    "        return out\n",
    "\n",
    "    def shared_step(self, batch, batch_idx):\n",
    "        x, y = batch\n",
    "        y_hat = self(x)\n",
    "        loss = self.criterion(y_hat, y)\n",
    "        return loss\n",
    "\n",
    "    def training_step(self, batch, batch_idx):\n",
    "        loss = self.shared_step(batch, batch_idx)\n",
    "        self.log(\"train_loss\", loss)\n",
    "        return {\"loss\": loss}\n",
    "\n",
    "    def validation_step(self, batch, batch_idx):\n",
    "        loss = self.shared_step(batch, batch_idx)\n",
    "        self.log(\"val_loss\", loss)\n",
    "        return {\"loss\": loss}\n",
    "\n",
    "    def validation_epoch_end(self, outputs):\n",
    "        avg_loss = torch.stack([x[\"loss\"] for x in outputs]).mean()\n",
    "        print(f\"Epoch {self.current_epoch} | MAE: {avg_loss}\")\n",
    "\n",
    "    def configure_optimizers(self):\n",
    "        optimizer = torch.optim.Adam(self.parameters(), lr=self.lr)\n",
    "        return optimizer"
   ]
  },
  {
   "cell_type": "code",
   "execution_count": 123,
   "metadata": {
    "execution": {
     "iopub.execute_input": "2020-11-26T09:44:30.796033Z",
     "iopub.status.busy": "2020-11-26T09:44:30.795750Z",
     "iopub.status.idle": "2020-11-26T09:44:30.801692Z",
     "shell.execute_reply": "2020-11-26T09:44:30.801030Z",
     "shell.execute_reply.started": "2020-11-26T09:44:30.796005Z"
    }
   },
   "outputs": [],
   "source": [
    "datamodule = DataModule(batch_size=32)\n",
    "datamodule.setup(generateDate)"
   ]
  },
  {
   "cell_type": "code",
   "execution_count": 124,
   "metadata": {
    "execution": {
     "iopub.execute_input": "2020-11-26T09:44:31.784755Z",
     "iopub.status.busy": "2020-11-26T09:44:31.784359Z",
     "iopub.status.idle": "2020-11-26T09:44:31.806173Z",
     "shell.execute_reply": "2020-11-26T09:44:31.805606Z",
     "shell.execute_reply.started": "2020-11-26T09:44:31.784728Z"
    }
   },
   "outputs": [],
   "source": [
    "model = Baseline()"
   ]
  },
  {
   "cell_type": "code",
   "execution_count": 125,
   "metadata": {
    "execution": {
     "iopub.execute_input": "2020-11-26T09:44:32.786074Z",
     "iopub.status.busy": "2020-11-26T09:44:32.785831Z",
     "iopub.status.idle": "2020-11-26T09:44:32.793882Z",
     "shell.execute_reply": "2020-11-26T09:44:32.793302Z",
     "shell.execute_reply.started": "2020-11-26T09:44:32.786048Z"
    }
   },
   "outputs": [
    {
     "name": "stderr",
     "output_type": "stream",
     "text": [
      "GPU available: True, used: True\n",
      "TPU available: False, using: 0 TPU cores\n",
      "LOCAL_RANK: 0 - CUDA_VISIBLE_DEVICES: [0]\n",
      "Using native 16bit precision.\n"
     ]
    }
   ],
   "source": [
    "trainer = pl.Trainer(\n",
    "    gpus=1, max_epochs=10, precision=16, progress_bar_refresh_rate=50, benchmark=True\n",
    ")"
   ]
  },
  {
   "cell_type": "code",
   "execution_count": 126,
   "metadata": {
    "execution": {
     "iopub.execute_input": "2020-11-26T09:44:34.053219Z",
     "iopub.status.busy": "2020-11-26T09:44:34.052825Z",
     "iopub.status.idle": "2020-11-26T09:44:34.279361Z",
     "shell.execute_reply": "2020-11-26T09:44:34.278503Z",
     "shell.execute_reply.started": "2020-11-26T09:44:34.053175Z"
    }
   },
   "outputs": [
    {
     "name": "stderr",
     "output_type": "stream",
     "text": [
      "\n",
      "  | Name      | Type       | Params\n",
      "-----------------------------------------\n",
      "0 | criterion | L1Loss     | 0     \n",
      "1 | encoder   | Encoder    | 666 K \n",
      "2 | decoder   | Decoder    | 664 K \n",
      "3 | out       | Sequential | 577   \n"
     ]
    },
    {
     "data": {
      "application/vnd.jupyter.widget-view+json": {
       "model_id": "aa9c235a28d040c58581b78e0a21e832",
       "version_major": 2,
       "version_minor": 0
      },
      "text/plain": [
       "HBox(children=(HTML(value='Validation sanity check'), FloatProgress(value=1.0, bar_style='info', layout=Layout…"
      ]
     },
     "metadata": {},
     "output_type": "display_data"
    },
    {
     "ename": "ParserError",
     "evalue": "Caught ParserError in DataLoader worker process 0.\nOriginal Traceback (most recent call last):\n  File \"/root/anaconda3/envs/jupyter/lib/python3.6/site-packages/pandas/core/arrays/datetimes.py\", line 1979, in objects_to_datetime64ns\n    values, tz_parsed = conversion.datetime_to_datetime64(data)\n  File \"pandas/_libs/tslibs/conversion.pyx\", line 200, in pandas._libs.tslibs.conversion.datetime_to_datetime64\nTypeError: Unrecognized value type: <class 'str'>\n\nDuring handling of the above exception, another exception occurred:\n\nTraceback (most recent call last):\n  File \"/root/anaconda3/envs/jupyter/lib/python3.6/site-packages/torch/utils/data/_utils/worker.py\", line 198, in _worker_loop\n    data = fetcher.fetch(index)\n  File \"/root/anaconda3/envs/jupyter/lib/python3.6/site-packages/torch/utils/data/_utils/fetch.py\", line 44, in fetch\n    data = [self.dataset[idx] for idx in possibly_batched_index]\n  File \"/root/anaconda3/envs/jupyter/lib/python3.6/site-packages/torch/utils/data/_utils/fetch.py\", line 44, in <listcomp>\n    data = [self.dataset[idx] for idx in possibly_batched_index]\n  File \"<ipython-input-113-5eaa5b472f9b>\", line 11, in __getitem__\n    data = data_gen(date,shape=(25,1159,1505,len(variable)))\n  File \"<ipython-input-8-f3022e49b72b>\", line 3, in data_gen\n    pd.date_range(start=pd.to_datetime(inputDate)-\\\n  File \"/root/anaconda3/envs/jupyter/lib/python3.6/site-packages/pandas/util/_decorators.py\", line 208, in wrapper\n    return func(*args, **kwargs)\n  File \"/root/anaconda3/envs/jupyter/lib/python3.6/site-packages/pandas/core/tools/datetimes.py\", line 796, in to_datetime\n    result = convert_listlike(np.array([arg]), box, format)[0]\n  File \"/root/anaconda3/envs/jupyter/lib/python3.6/site-packages/pandas/core/tools/datetimes.py\", line 463, in _convert_listlike_datetimes\n    allow_object=True,\n  File \"/root/anaconda3/envs/jupyter/lib/python3.6/site-packages/pandas/core/arrays/datetimes.py\", line 1984, in objects_to_datetime64ns\n    raise e\n  File \"/root/anaconda3/envs/jupyter/lib/python3.6/site-packages/pandas/core/arrays/datetimes.py\", line 1975, in objects_to_datetime64ns\n    require_iso8601=require_iso8601,\n  File \"pandas/_libs/tslib.pyx\", line 465, in pandas._libs.tslib.array_to_datetime\n  File \"pandas/_libs/tslib.pyx\", line 688, in pandas._libs.tslib.array_to_datetime\n  File \"pandas/_libs/tslib.pyx\", line 822, in pandas._libs.tslib.array_to_datetime_object\n  File \"pandas/_libs/tslib.pyx\", line 813, in pandas._libs.tslib.array_to_datetime_object\n  File \"pandas/_libs/tslibs/parsing.pyx\", line 225, in pandas._libs.tslibs.parsing.parse_datetime_string\n  File \"/root/anaconda3/envs/jupyter/lib/python3.6/site-packages/dateutil/parser/_parser.py\", line 1374, in parse\n    return DEFAULTPARSER.parse(timestr, **kwargs)\n  File \"/root/anaconda3/envs/jupyter/lib/python3.6/site-packages/dateutil/parser/_parser.py\", line 649, in parse\n    raise ParserError(\"Unknown string format: %s\", timestr)\ndateutil.parser._parser.ParserError: Unknown string format: f\n",
     "output_type": "error",
     "traceback": [
      "\u001b[0;31m---------------------------------------------------------------------------\u001b[0m",
      "\u001b[0;31mParserError\u001b[0m                               Traceback (most recent call last)",
      "\u001b[0;32m<ipython-input-126-f53ef2c05a38>\u001b[0m in \u001b[0;36m<module>\u001b[0;34m\u001b[0m\n\u001b[0;32m----> 1\u001b[0;31m \u001b[0mtrainer\u001b[0m\u001b[0;34m.\u001b[0m\u001b[0mfit\u001b[0m\u001b[0;34m(\u001b[0m\u001b[0mmodel\u001b[0m\u001b[0;34m,\u001b[0m \u001b[0mdatamodule\u001b[0m\u001b[0;34m)\u001b[0m\u001b[0;34m\u001b[0m\u001b[0;34m\u001b[0m\u001b[0m\n\u001b[0m",
      "\u001b[0;32m~/anaconda3/envs/jupyter/lib/python3.6/site-packages/pytorch_lightning/trainer/trainer.py\u001b[0m in \u001b[0;36mfit\u001b[0;34m(self, model, train_dataloader, val_dataloaders, datamodule)\u001b[0m\n\u001b[1;32m    443\u001b[0m         \u001b[0mself\u001b[0m\u001b[0;34m.\u001b[0m\u001b[0mcall_hook\u001b[0m\u001b[0;34m(\u001b[0m\u001b[0;34m'on_fit_start'\u001b[0m\u001b[0;34m)\u001b[0m\u001b[0;34m\u001b[0m\u001b[0;34m\u001b[0m\u001b[0m\n\u001b[1;32m    444\u001b[0m \u001b[0;34m\u001b[0m\u001b[0m\n\u001b[0;32m--> 445\u001b[0;31m         \u001b[0mresults\u001b[0m \u001b[0;34m=\u001b[0m \u001b[0mself\u001b[0m\u001b[0;34m.\u001b[0m\u001b[0maccelerator_backend\u001b[0m\u001b[0;34m.\u001b[0m\u001b[0mtrain\u001b[0m\u001b[0;34m(\u001b[0m\u001b[0;34m)\u001b[0m\u001b[0;34m\u001b[0m\u001b[0;34m\u001b[0m\u001b[0m\n\u001b[0m\u001b[1;32m    446\u001b[0m         \u001b[0mself\u001b[0m\u001b[0;34m.\u001b[0m\u001b[0maccelerator_backend\u001b[0m\u001b[0;34m.\u001b[0m\u001b[0mteardown\u001b[0m\u001b[0;34m(\u001b[0m\u001b[0;34m)\u001b[0m\u001b[0;34m\u001b[0m\u001b[0;34m\u001b[0m\u001b[0m\n\u001b[1;32m    447\u001b[0m \u001b[0;34m\u001b[0m\u001b[0m\n",
      "\u001b[0;32m~/anaconda3/envs/jupyter/lib/python3.6/site-packages/pytorch_lightning/accelerators/gpu_accelerator.py\u001b[0m in \u001b[0;36mtrain\u001b[0;34m(self)\u001b[0m\n\u001b[1;32m     62\u001b[0m \u001b[0;34m\u001b[0m\u001b[0m\n\u001b[1;32m     63\u001b[0m         \u001b[0;31m# train or test\u001b[0m\u001b[0;34m\u001b[0m\u001b[0;34m\u001b[0m\u001b[0;34m\u001b[0m\u001b[0m\n\u001b[0;32m---> 64\u001b[0;31m         \u001b[0mresults\u001b[0m \u001b[0;34m=\u001b[0m \u001b[0mself\u001b[0m\u001b[0;34m.\u001b[0m\u001b[0mtrain_or_test\u001b[0m\u001b[0;34m(\u001b[0m\u001b[0;34m)\u001b[0m\u001b[0;34m\u001b[0m\u001b[0;34m\u001b[0m\u001b[0m\n\u001b[0m\u001b[1;32m     65\u001b[0m         \u001b[0;32mreturn\u001b[0m \u001b[0mresults\u001b[0m\u001b[0;34m\u001b[0m\u001b[0;34m\u001b[0m\u001b[0m\n\u001b[1;32m     66\u001b[0m \u001b[0;34m\u001b[0m\u001b[0m\n",
      "\u001b[0;32m~/anaconda3/envs/jupyter/lib/python3.6/site-packages/pytorch_lightning/accelerators/accelerator.py\u001b[0m in \u001b[0;36mtrain_or_test\u001b[0;34m(self)\u001b[0m\n\u001b[1;32m     64\u001b[0m             \u001b[0mresults\u001b[0m \u001b[0;34m=\u001b[0m \u001b[0mself\u001b[0m\u001b[0;34m.\u001b[0m\u001b[0mtrainer\u001b[0m\u001b[0;34m.\u001b[0m\u001b[0mrun_test\u001b[0m\u001b[0;34m(\u001b[0m\u001b[0;34m)\u001b[0m\u001b[0;34m\u001b[0m\u001b[0;34m\u001b[0m\u001b[0m\n\u001b[1;32m     65\u001b[0m         \u001b[0;32melse\u001b[0m\u001b[0;34m:\u001b[0m\u001b[0;34m\u001b[0m\u001b[0;34m\u001b[0m\u001b[0m\n\u001b[0;32m---> 66\u001b[0;31m             \u001b[0mresults\u001b[0m \u001b[0;34m=\u001b[0m \u001b[0mself\u001b[0m\u001b[0;34m.\u001b[0m\u001b[0mtrainer\u001b[0m\u001b[0;34m.\u001b[0m\u001b[0mtrain\u001b[0m\u001b[0;34m(\u001b[0m\u001b[0;34m)\u001b[0m\u001b[0;34m\u001b[0m\u001b[0;34m\u001b[0m\u001b[0m\n\u001b[0m\u001b[1;32m     67\u001b[0m         \u001b[0;32mreturn\u001b[0m \u001b[0mresults\u001b[0m\u001b[0;34m\u001b[0m\u001b[0;34m\u001b[0m\u001b[0m\n\u001b[1;32m     68\u001b[0m \u001b[0;34m\u001b[0m\u001b[0m\n",
      "\u001b[0;32m~/anaconda3/envs/jupyter/lib/python3.6/site-packages/pytorch_lightning/trainer/trainer.py\u001b[0m in \u001b[0;36mtrain\u001b[0;34m(self)\u001b[0m\n\u001b[1;32m    465\u001b[0m \u001b[0;34m\u001b[0m\u001b[0m\n\u001b[1;32m    466\u001b[0m     \u001b[0;32mdef\u001b[0m \u001b[0mtrain\u001b[0m\u001b[0;34m(\u001b[0m\u001b[0mself\u001b[0m\u001b[0;34m)\u001b[0m\u001b[0;34m:\u001b[0m\u001b[0;34m\u001b[0m\u001b[0;34m\u001b[0m\u001b[0m\n\u001b[0;32m--> 467\u001b[0;31m         \u001b[0mself\u001b[0m\u001b[0;34m.\u001b[0m\u001b[0mrun_sanity_check\u001b[0m\u001b[0;34m(\u001b[0m\u001b[0mself\u001b[0m\u001b[0;34m.\u001b[0m\u001b[0mget_model\u001b[0m\u001b[0;34m(\u001b[0m\u001b[0;34m)\u001b[0m\u001b[0;34m)\u001b[0m\u001b[0;34m\u001b[0m\u001b[0;34m\u001b[0m\u001b[0m\n\u001b[0m\u001b[1;32m    468\u001b[0m \u001b[0;34m\u001b[0m\u001b[0m\n\u001b[1;32m    469\u001b[0m         \u001b[0mself\u001b[0m\u001b[0;34m.\u001b[0m\u001b[0mcheckpoint_connector\u001b[0m\u001b[0;34m.\u001b[0m\u001b[0mhas_trained\u001b[0m \u001b[0;34m=\u001b[0m \u001b[0;32mFalse\u001b[0m\u001b[0;34m\u001b[0m\u001b[0;34m\u001b[0m\u001b[0m\n",
      "\u001b[0;32m~/anaconda3/envs/jupyter/lib/python3.6/site-packages/pytorch_lightning/trainer/trainer.py\u001b[0m in \u001b[0;36mrun_sanity_check\u001b[0;34m(self, ref_model)\u001b[0m\n\u001b[1;32m    657\u001b[0m \u001b[0;34m\u001b[0m\u001b[0m\n\u001b[1;32m    658\u001b[0m             \u001b[0;31m# run eval step\u001b[0m\u001b[0;34m\u001b[0m\u001b[0;34m\u001b[0m\u001b[0;34m\u001b[0m\u001b[0m\n\u001b[0;32m--> 659\u001b[0;31m             \u001b[0m_\u001b[0m\u001b[0;34m,\u001b[0m \u001b[0meval_results\u001b[0m \u001b[0;34m=\u001b[0m \u001b[0mself\u001b[0m\u001b[0;34m.\u001b[0m\u001b[0mrun_evaluation\u001b[0m\u001b[0;34m(\u001b[0m\u001b[0mtest_mode\u001b[0m\u001b[0;34m=\u001b[0m\u001b[0;32mFalse\u001b[0m\u001b[0;34m,\u001b[0m \u001b[0mmax_batches\u001b[0m\u001b[0;34m=\u001b[0m\u001b[0mself\u001b[0m\u001b[0;34m.\u001b[0m\u001b[0mnum_sanity_val_batches\u001b[0m\u001b[0;34m)\u001b[0m\u001b[0;34m\u001b[0m\u001b[0;34m\u001b[0m\u001b[0m\n\u001b[0m\u001b[1;32m    660\u001b[0m \u001b[0;34m\u001b[0m\u001b[0m\n\u001b[1;32m    661\u001b[0m             \u001b[0;31m# allow no returns from eval\u001b[0m\u001b[0;34m\u001b[0m\u001b[0;34m\u001b[0m\u001b[0;34m\u001b[0m\u001b[0m\n",
      "\u001b[0;32m~/anaconda3/envs/jupyter/lib/python3.6/site-packages/pytorch_lightning/trainer/trainer.py\u001b[0m in \u001b[0;36mrun_evaluation\u001b[0;34m(self, test_mode, max_batches)\u001b[0m\n\u001b[1;32m    565\u001b[0m             \u001b[0mdl_max_batches\u001b[0m \u001b[0;34m=\u001b[0m \u001b[0mself\u001b[0m\u001b[0;34m.\u001b[0m\u001b[0mevaluation_loop\u001b[0m\u001b[0;34m.\u001b[0m\u001b[0mmax_batches\u001b[0m\u001b[0;34m[\u001b[0m\u001b[0mdataloader_idx\u001b[0m\u001b[0;34m]\u001b[0m\u001b[0;34m\u001b[0m\u001b[0;34m\u001b[0m\u001b[0m\n\u001b[1;32m    566\u001b[0m \u001b[0;34m\u001b[0m\u001b[0m\n\u001b[0;32m--> 567\u001b[0;31m             \u001b[0;32mfor\u001b[0m \u001b[0mbatch_idx\u001b[0m\u001b[0;34m,\u001b[0m \u001b[0mbatch\u001b[0m \u001b[0;32min\u001b[0m \u001b[0menumerate\u001b[0m\u001b[0;34m(\u001b[0m\u001b[0mdataloader\u001b[0m\u001b[0;34m)\u001b[0m\u001b[0;34m:\u001b[0m\u001b[0;34m\u001b[0m\u001b[0;34m\u001b[0m\u001b[0m\n\u001b[0m\u001b[1;32m    568\u001b[0m                 \u001b[0;32mif\u001b[0m \u001b[0mbatch\u001b[0m \u001b[0;32mis\u001b[0m \u001b[0;32mNone\u001b[0m\u001b[0;34m:\u001b[0m\u001b[0;34m\u001b[0m\u001b[0;34m\u001b[0m\u001b[0m\n\u001b[1;32m    569\u001b[0m                     \u001b[0;32mcontinue\u001b[0m\u001b[0;34m\u001b[0m\u001b[0;34m\u001b[0m\u001b[0m\n",
      "\u001b[0;32m~/anaconda3/envs/jupyter/lib/python3.6/site-packages/torch/utils/data/dataloader.py\u001b[0m in \u001b[0;36m__next__\u001b[0;34m(self)\u001b[0m\n\u001b[1;32m    433\u001b[0m         \u001b[0;32mif\u001b[0m \u001b[0mself\u001b[0m\u001b[0;34m.\u001b[0m\u001b[0m_sampler_iter\u001b[0m \u001b[0;32mis\u001b[0m \u001b[0;32mNone\u001b[0m\u001b[0;34m:\u001b[0m\u001b[0;34m\u001b[0m\u001b[0;34m\u001b[0m\u001b[0m\n\u001b[1;32m    434\u001b[0m             \u001b[0mself\u001b[0m\u001b[0;34m.\u001b[0m\u001b[0m_reset\u001b[0m\u001b[0;34m(\u001b[0m\u001b[0;34m)\u001b[0m\u001b[0;34m\u001b[0m\u001b[0;34m\u001b[0m\u001b[0m\n\u001b[0;32m--> 435\u001b[0;31m         \u001b[0mdata\u001b[0m \u001b[0;34m=\u001b[0m \u001b[0mself\u001b[0m\u001b[0;34m.\u001b[0m\u001b[0m_next_data\u001b[0m\u001b[0;34m(\u001b[0m\u001b[0;34m)\u001b[0m\u001b[0;34m\u001b[0m\u001b[0;34m\u001b[0m\u001b[0m\n\u001b[0m\u001b[1;32m    436\u001b[0m         \u001b[0mself\u001b[0m\u001b[0;34m.\u001b[0m\u001b[0m_num_yielded\u001b[0m \u001b[0;34m+=\u001b[0m \u001b[0;36m1\u001b[0m\u001b[0;34m\u001b[0m\u001b[0;34m\u001b[0m\u001b[0m\n\u001b[1;32m    437\u001b[0m         \u001b[0;32mif\u001b[0m \u001b[0mself\u001b[0m\u001b[0;34m.\u001b[0m\u001b[0m_dataset_kind\u001b[0m \u001b[0;34m==\u001b[0m \u001b[0m_DatasetKind\u001b[0m\u001b[0;34m.\u001b[0m\u001b[0mIterable\u001b[0m \u001b[0;32mand\u001b[0m\u001b[0;31m \u001b[0m\u001b[0;31m\\\u001b[0m\u001b[0;34m\u001b[0m\u001b[0;34m\u001b[0m\u001b[0m\n",
      "\u001b[0;32m~/anaconda3/envs/jupyter/lib/python3.6/site-packages/torch/utils/data/dataloader.py\u001b[0m in \u001b[0;36m_next_data\u001b[0;34m(self)\u001b[0m\n\u001b[1;32m   1083\u001b[0m             \u001b[0;32melse\u001b[0m\u001b[0;34m:\u001b[0m\u001b[0;34m\u001b[0m\u001b[0;34m\u001b[0m\u001b[0m\n\u001b[1;32m   1084\u001b[0m                 \u001b[0;32mdel\u001b[0m \u001b[0mself\u001b[0m\u001b[0;34m.\u001b[0m\u001b[0m_task_info\u001b[0m\u001b[0;34m[\u001b[0m\u001b[0midx\u001b[0m\u001b[0;34m]\u001b[0m\u001b[0;34m\u001b[0m\u001b[0;34m\u001b[0m\u001b[0m\n\u001b[0;32m-> 1085\u001b[0;31m                 \u001b[0;32mreturn\u001b[0m \u001b[0mself\u001b[0m\u001b[0;34m.\u001b[0m\u001b[0m_process_data\u001b[0m\u001b[0;34m(\u001b[0m\u001b[0mdata\u001b[0m\u001b[0;34m)\u001b[0m\u001b[0;34m\u001b[0m\u001b[0;34m\u001b[0m\u001b[0m\n\u001b[0m\u001b[1;32m   1086\u001b[0m \u001b[0;34m\u001b[0m\u001b[0m\n\u001b[1;32m   1087\u001b[0m     \u001b[0;32mdef\u001b[0m \u001b[0m_try_put_index\u001b[0m\u001b[0;34m(\u001b[0m\u001b[0mself\u001b[0m\u001b[0;34m)\u001b[0m\u001b[0;34m:\u001b[0m\u001b[0;34m\u001b[0m\u001b[0;34m\u001b[0m\u001b[0m\n",
      "\u001b[0;32m~/anaconda3/envs/jupyter/lib/python3.6/site-packages/torch/utils/data/dataloader.py\u001b[0m in \u001b[0;36m_process_data\u001b[0;34m(self, data)\u001b[0m\n\u001b[1;32m   1109\u001b[0m         \u001b[0mself\u001b[0m\u001b[0;34m.\u001b[0m\u001b[0m_try_put_index\u001b[0m\u001b[0;34m(\u001b[0m\u001b[0;34m)\u001b[0m\u001b[0;34m\u001b[0m\u001b[0;34m\u001b[0m\u001b[0m\n\u001b[1;32m   1110\u001b[0m         \u001b[0;32mif\u001b[0m \u001b[0misinstance\u001b[0m\u001b[0;34m(\u001b[0m\u001b[0mdata\u001b[0m\u001b[0;34m,\u001b[0m \u001b[0mExceptionWrapper\u001b[0m\u001b[0;34m)\u001b[0m\u001b[0;34m:\u001b[0m\u001b[0;34m\u001b[0m\u001b[0;34m\u001b[0m\u001b[0m\n\u001b[0;32m-> 1111\u001b[0;31m             \u001b[0mdata\u001b[0m\u001b[0;34m.\u001b[0m\u001b[0mreraise\u001b[0m\u001b[0;34m(\u001b[0m\u001b[0;34m)\u001b[0m\u001b[0;34m\u001b[0m\u001b[0;34m\u001b[0m\u001b[0m\n\u001b[0m\u001b[1;32m   1112\u001b[0m         \u001b[0;32mreturn\u001b[0m \u001b[0mdata\u001b[0m\u001b[0;34m\u001b[0m\u001b[0;34m\u001b[0m\u001b[0m\n\u001b[1;32m   1113\u001b[0m \u001b[0;34m\u001b[0m\u001b[0m\n",
      "\u001b[0;32m~/anaconda3/envs/jupyter/lib/python3.6/site-packages/torch/_utils.py\u001b[0m in \u001b[0;36mreraise\u001b[0;34m(self)\u001b[0m\n\u001b[1;32m    426\u001b[0m             \u001b[0;31m# have message field\u001b[0m\u001b[0;34m\u001b[0m\u001b[0;34m\u001b[0m\u001b[0;34m\u001b[0m\u001b[0m\n\u001b[1;32m    427\u001b[0m             \u001b[0;32mraise\u001b[0m \u001b[0mself\u001b[0m\u001b[0;34m.\u001b[0m\u001b[0mexc_type\u001b[0m\u001b[0;34m(\u001b[0m\u001b[0mmessage\u001b[0m\u001b[0;34m=\u001b[0m\u001b[0mmsg\u001b[0m\u001b[0;34m)\u001b[0m\u001b[0;34m\u001b[0m\u001b[0;34m\u001b[0m\u001b[0m\n\u001b[0;32m--> 428\u001b[0;31m         \u001b[0;32mraise\u001b[0m \u001b[0mself\u001b[0m\u001b[0;34m.\u001b[0m\u001b[0mexc_type\u001b[0m\u001b[0;34m(\u001b[0m\u001b[0mmsg\u001b[0m\u001b[0;34m)\u001b[0m\u001b[0;34m\u001b[0m\u001b[0;34m\u001b[0m\u001b[0m\n\u001b[0m\u001b[1;32m    429\u001b[0m \u001b[0;34m\u001b[0m\u001b[0m\n\u001b[1;32m    430\u001b[0m \u001b[0;34m\u001b[0m\u001b[0m\n",
      "\u001b[0;31mParserError\u001b[0m: Caught ParserError in DataLoader worker process 0.\nOriginal Traceback (most recent call last):\n  File \"/root/anaconda3/envs/jupyter/lib/python3.6/site-packages/pandas/core/arrays/datetimes.py\", line 1979, in objects_to_datetime64ns\n    values, tz_parsed = conversion.datetime_to_datetime64(data)\n  File \"pandas/_libs/tslibs/conversion.pyx\", line 200, in pandas._libs.tslibs.conversion.datetime_to_datetime64\nTypeError: Unrecognized value type: <class 'str'>\n\nDuring handling of the above exception, another exception occurred:\n\nTraceback (most recent call last):\n  File \"/root/anaconda3/envs/jupyter/lib/python3.6/site-packages/torch/utils/data/_utils/worker.py\", line 198, in _worker_loop\n    data = fetcher.fetch(index)\n  File \"/root/anaconda3/envs/jupyter/lib/python3.6/site-packages/torch/utils/data/_utils/fetch.py\", line 44, in fetch\n    data = [self.dataset[idx] for idx in possibly_batched_index]\n  File \"/root/anaconda3/envs/jupyter/lib/python3.6/site-packages/torch/utils/data/_utils/fetch.py\", line 44, in <listcomp>\n    data = [self.dataset[idx] for idx in possibly_batched_index]\n  File \"<ipython-input-113-5eaa5b472f9b>\", line 11, in __getitem__\n    data = data_gen(date,shape=(25,1159,1505,len(variable)))\n  File \"<ipython-input-8-f3022e49b72b>\", line 3, in data_gen\n    pd.date_range(start=pd.to_datetime(inputDate)-\\\n  File \"/root/anaconda3/envs/jupyter/lib/python3.6/site-packages/pandas/util/_decorators.py\", line 208, in wrapper\n    return func(*args, **kwargs)\n  File \"/root/anaconda3/envs/jupyter/lib/python3.6/site-packages/pandas/core/tools/datetimes.py\", line 796, in to_datetime\n    result = convert_listlike(np.array([arg]), box, format)[0]\n  File \"/root/anaconda3/envs/jupyter/lib/python3.6/site-packages/pandas/core/tools/datetimes.py\", line 463, in _convert_listlike_datetimes\n    allow_object=True,\n  File \"/root/anaconda3/envs/jupyter/lib/python3.6/site-packages/pandas/core/arrays/datetimes.py\", line 1984, in objects_to_datetime64ns\n    raise e\n  File \"/root/anaconda3/envs/jupyter/lib/python3.6/site-packages/pandas/core/arrays/datetimes.py\", line 1975, in objects_to_datetime64ns\n    require_iso8601=require_iso8601,\n  File \"pandas/_libs/tslib.pyx\", line 465, in pandas._libs.tslib.array_to_datetime\n  File \"pandas/_libs/tslib.pyx\", line 688, in pandas._libs.tslib.array_to_datetime\n  File \"pandas/_libs/tslib.pyx\", line 822, in pandas._libs.tslib.array_to_datetime_object\n  File \"pandas/_libs/tslib.pyx\", line 813, in pandas._libs.tslib.array_to_datetime_object\n  File \"pandas/_libs/tslibs/parsing.pyx\", line 225, in pandas._libs.tslibs.parsing.parse_datetime_string\n  File \"/root/anaconda3/envs/jupyter/lib/python3.6/site-packages/dateutil/parser/_parser.py\", line 1374, in parse\n    return DEFAULTPARSER.parse(timestr, **kwargs)\n  File \"/root/anaconda3/envs/jupyter/lib/python3.6/site-packages/dateutil/parser/_parser.py\", line 649, in parse\n    raise ParserError(\"Unknown string format: %s\", timestr)\ndateutil.parser._parser.ParserError: Unknown string format: f\n"
     ]
    }
   ],
   "source": [
    "trainer.fit(model, datamodule)"
   ]
  },
  {
   "cell_type": "code",
   "execution_count": 38,
   "metadata": {
    "collapsed": true,
    "execution": {
     "iopub.execute_input": "2020-11-26T04:57:27.774166Z",
     "iopub.status.busy": "2020-11-26T04:57:27.773807Z",
     "iopub.status.idle": "2020-11-26T04:57:48.366932Z",
     "shell.execute_reply": "2020-11-26T04:57:48.366352Z",
     "shell.execute_reply.started": "2020-11-26T04:57:27.774139Z"
    },
    "jupyter": {
     "outputs_hidden": true
    }
   },
   "outputs": [
    {
     "name": "stdout",
     "output_type": "stream",
     "text": [
      "temp2019-01-02 01:00:00.csv\n",
      "prec2019-01-02 01:00:00.csv\n",
      "temp2019-01-02 02:00:00.csv\n",
      "prec2019-01-02 02:00:00.csv\n",
      "temp2019-01-02 03:00:00.csv\n",
      "prec2019-01-02 03:00:00.csv\n",
      "temp2019-01-02 04:00:00.csv\n",
      "prec2019-01-02 04:00:00.csv\n",
      "temp2019-01-02 05:00:00.csv\n",
      "prec2019-01-02 05:00:00.csv\n",
      "temp2019-01-02 06:00:00.csv\n",
      "prec2019-01-02 06:00:00.csv\n",
      "temp2019-01-02 07:00:00.csv\n",
      "prec2019-01-02 07:00:00.csv\n",
      "temp2019-01-02 08:00:00.csv\n",
      "prec2019-01-02 08:00:00.csv\n",
      "temp2019-01-02 09:00:00.csv\n",
      "prec2019-01-02 09:00:00.csv\n",
      "temp2019-01-02 10:00:00.csv\n",
      "prec2019-01-02 10:00:00.csv\n",
      "temp2019-01-02 11:00:00.csv\n",
      "prec2019-01-02 11:00:00.csv\n",
      "temp2019-01-02 12:00:00.csv\n",
      "prec2019-01-02 12:00:00.csv\n",
      "temp2019-01-02 13:00:00.csv\n",
      "prec2019-01-02 13:00:00.csv\n",
      "temp2019-01-02 14:00:00.csv\n",
      "prec2019-01-02 14:00:00.csv\n",
      "temp2019-01-02 15:00:00.csv\n",
      "prec2019-01-02 15:00:00.csv\n",
      "temp2019-01-02 16:00:00.csv\n",
      "prec2019-01-02 16:00:00.csv\n",
      "temp2019-01-02 17:00:00.csv\n",
      "prec2019-01-02 17:00:00.csv\n",
      "temp2019-01-02 18:00:00.csv\n",
      "prec2019-01-02 18:00:00.csv\n",
      "temp2019-01-02 19:00:00.csv\n",
      "prec2019-01-02 19:00:00.csv\n",
      "temp2019-01-02 20:00:00.csv\n",
      "prec2019-01-02 20:00:00.csv\n",
      "temp2019-01-02 21:00:00.csv\n",
      "prec2019-01-02 21:00:00.csv\n",
      "temp2019-01-02 22:00:00.csv\n",
      "prec2019-01-02 22:00:00.csv\n",
      "temp2019-01-02 23:00:00.csv\n",
      "prec2019-01-02 23:00:00.csv\n",
      "temp2019-01-03 00:00:00.csv\n",
      "prec2019-01-03 00:00:00.csv\n",
      "temp2019-01-03 01:00:00.csv\n",
      "prec2019-01-03 01:00:00.csv\n"
     ]
    }
   ],
   "source": [
    "\n",
    "\n",
    "trainDate=[str(i) for i in pd.date_range(start=pd.to_datetime(inputDate)-\\\n",
    "                                         pd.to_timedelta(1,unit='day'),end=inputDate , freq='H')]\n",
    "\n",
    "variable=['temp','prec']\n",
    "df=np.empty((len(trainDate),1159,1505,len(variable)),dtype=float)\n",
    "l=0\n",
    "for td in trainDate:\n",
    "    k=0\n",
    "    for var in variable:\n",
    "#         print(var+str(td)+'.csv')\n",
    "        data=dt.fread(f'/hdd/temp/{var}{str(td)}.csv')\n",
    "        df[l,:,:,k]=data.to_numpy().reshape(1159,1505)[::-1,::]\n",
    "        k=k+1\n",
    "    l=l+1"
   ]
  },
  {
   "cell_type": "code",
   "execution_count": 46,
   "metadata": {
    "execution": {
     "iopub.execute_input": "2020-11-26T05:23:43.572262Z",
     "iopub.status.busy": "2020-11-26T05:23:43.571738Z",
     "iopub.status.idle": "2020-11-26T05:23:43.578943Z",
     "shell.execute_reply": "2020-11-26T05:23:43.578069Z",
     "shell.execute_reply.started": "2020-11-26T05:23:43.572203Z"
    }
   },
   "outputs": [
    {
     "data": {
      "text/plain": [
       "(25, 1159, 1505, 2)"
      ]
     },
     "execution_count": 46,
     "metadata": {},
     "output_type": "execute_result"
    }
   ],
   "source": [
    "df.shape"
   ]
  },
  {
   "cell_type": "code",
   "execution_count": 10,
   "metadata": {
    "execution": {
     "iopub.execute_input": "2020-11-26T04:47:33.533080Z",
     "iopub.status.busy": "2020-11-26T04:47:33.532678Z",
     "iopub.status.idle": "2020-11-26T04:47:33.543354Z",
     "shell.execute_reply": "2020-11-26T04:47:33.542430Z",
     "shell.execute_reply.started": "2020-11-26T04:47:33.533035Z"
    }
   },
   "outputs": [
    {
     "data": {
      "text/plain": [
       "(1159, 1505)"
      ]
     },
     "execution_count": 10,
     "metadata": {},
     "output_type": "execute_result"
    }
   ],
   "source": [
    "data.to_numpy().reshape(1159,1505)[::-1,::].shape"
   ]
  },
  {
   "cell_type": "code",
   "execution_count": 7,
   "metadata": {
    "execution": {
     "iopub.execute_input": "2020-11-26T04:46:20.775154Z",
     "iopub.status.busy": "2020-11-26T04:46:20.774756Z",
     "iopub.status.idle": "2020-11-26T04:46:20.779592Z",
     "shell.execute_reply": "2020-11-26T04:46:20.778511Z",
     "shell.execute_reply.started": "2020-11-26T04:46:20.775110Z"
    }
   },
   "outputs": [],
   "source": [
    "import os\n",
    "#os.listdir('/hdd/temp')\n",
    "#temp, prec, wd, ws, rh, dewT, press, alt, w_temp"
   ]
  },
  {
   "cell_type": "code",
   "execution_count": null,
   "metadata": {},
   "outputs": [],
   "source": [
    "#input date 24시간 -> 24시간"
   ]
  },
  {
   "cell_type": "code",
   "execution_count": 10,
   "metadata": {
    "execution": {
     "iopub.execute_input": "2020-11-26T02:12:11.739235Z",
     "iopub.status.busy": "2020-11-26T02:12:11.738716Z",
     "iopub.status.idle": "2020-11-26T02:12:11.745741Z",
     "shell.execute_reply": "2020-11-26T02:12:11.742075Z",
     "shell.execute_reply.started": "2020-11-26T02:12:11.739209Z"
    }
   },
   "outputs": [],
   "source": []
  },
  {
   "cell_type": "code",
   "execution_count": 2,
   "metadata": {
    "execution": {
     "iopub.execute_input": "2020-11-26T01:56:25.673543Z",
     "iopub.status.busy": "2020-11-26T01:56:25.673185Z",
     "iopub.status.idle": "2020-11-26T01:56:26.103656Z",
     "shell.execute_reply": "2020-11-26T01:56:26.103072Z",
     "shell.execute_reply.started": "2020-11-26T01:56:25.673503Z"
    }
   },
   "outputs": [],
   "source": [
    "import datatable as dt\n",
    "data = datatable.fread('/hdd/temp/prec2019-01-01 02:00:00.csv')"
   ]
  },
  {
   "cell_type": "code",
   "execution_count": 42,
   "metadata": {
    "execution": {
     "iopub.execute_input": "2020-11-26T01:26:10.614626Z",
     "iopub.status.busy": "2020-11-26T01:26:10.614228Z",
     "iopub.status.idle": "2020-11-26T01:26:10.619479Z",
     "shell.execute_reply": "2020-11-26T01:26:10.619013Z",
     "shell.execute_reply.started": "2020-11-26T01:26:10.614603Z"
    }
   },
   "outputs": [
    {
     "data": {
      "text/plain": [
       "Timestamp('2019-01-01 04:00:00')"
      ]
     },
     "execution_count": 42,
     "metadata": {},
     "output_type": "execute_result"
    }
   ],
   "source": [
    "str(pd.to_datetime(inputDate))\n",
    "pd.to_datetime(inputDate)+pd.to_timedelta(3,unit='hour')"
   ]
  },
  {
   "cell_type": "code",
   "execution_count": 43,
   "metadata": {
    "execution": {
     "iopub.execute_input": "2020-11-26T01:26:12.623095Z",
     "iopub.status.busy": "2020-11-26T01:26:12.622846Z",
     "iopub.status.idle": "2020-11-26T01:26:12.627353Z",
     "shell.execute_reply": "2020-11-26T01:26:12.626818Z",
     "shell.execute_reply.started": "2020-11-26T01:26:12.623070Z"
    }
   },
   "outputs": [
    {
     "data": {
      "text/plain": [
       "(1159, 1505)"
      ]
     },
     "execution_count": 43,
     "metadata": {},
     "output_type": "execute_result"
    }
   ],
   "source": [
    "my_data2.shape"
   ]
  },
  {
   "cell_type": "code",
   "execution_count": null,
   "metadata": {},
   "outputs": [],
   "source": []
  }
 ],
 "metadata": {
  "kernelspec": {
   "display_name": "Python 3",
   "language": "python",
   "name": "python3"
  },
  "language_info": {
   "codemirror_mode": {
    "name": "ipython",
    "version": 3
   },
   "file_extension": ".py",
   "mimetype": "text/x-python",
   "name": "python",
   "nbconvert_exporter": "python",
   "pygments_lexer": "ipython3",
   "version": "3.6.11"
  },
  "widgets": {
   "application/vnd.jupyter.widget-state+json": {
    "state": {},
    "version_major": 2,
    "version_minor": 0
   }
  }
 },
 "nbformat": 4,
 "nbformat_minor": 4
}
